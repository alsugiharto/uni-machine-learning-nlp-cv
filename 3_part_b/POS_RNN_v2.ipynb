{
 "cells": [
  {
   "cell_type": "markdown",
   "metadata": {},
   "source": [
    "# Part of Speech Tagging with Recurrent Neural Networks\n",
    "\n",
    "For this assignment, we will construct a recurrent neural network that annotates each word of a sentence with a POS tag. The task is a case of sequence labeling; a good reference point is Jurafsky and Martin [Chapter 9](https://web.stanford.edu/~jurafsky/slp3/9.pdf). For a fuller view of the picture, a good reference point is [Alex Graves' dissertation](https://www.cs.toronto.edu/~graves/preprint.pdf).\n",
    "\n",
    "We will take a gradual approach, first inspecting recurrent neural networks, then moving on to data processing using high-grade word vectors before finally moving to the problem at hand. "
   ]
  },
  {
   "cell_type": "markdown",
   "metadata": {},
   "source": [
    "## Recurrent Neural Networks\n",
    "Recurrent Neural Networks are a particularly interesting class of neural networks. Unlike standard fully-connected networks, which accept a fixed-size input and produce a fixed-size output over a predefined number of computational steps (i.e. network layers), RNNs instead operate on sequences of vectors. \n",
    "\n",
    "Computationally, feedforward networks may be seen as a trainable (but parametrically fixed) function, whereas RNNs act as continuous, stateful programs operating on sequences of inputs. \n",
    "Cognitively, this may be viewed as enhancing our system's perceptive and computational abilities with a notion of memory.\n",
    "In the general case, this statefulness is captured by an intermediate hidden vector which is adjusted throughout the computation, affected by both the immediately previous version of itself __and__ the current input.\n",
    "\n",
    "RNNs are nowadays established as the core machinery of neural sequence processing. A simple recurrent network (SRN) is described by the equations:\n",
    "* $h_t = \\theta_h (W_h x_t + U_h h_{t-1} + b_h ) $\n",
    "* $y_t = \\theta_y (W_y h_t + b_y) $\n",
    "\n",
    "where (at timestep $t$) $x_t$, $h_t$, $y_t$ are the network's input, hidden and output representations respectively, $\\theta_h$, $\\theta_y$ its hidden and output activation functions, and $W_h$, $U_h$, $b_h$, $W_y$, $b_y$ parametric tensors to be learned."
   ]
  },
  {
   "cell_type": "code",
   "execution_count": 1,
   "metadata": {},
   "outputs": [],
   "source": [
    "import torch\n",
    "from typing import Tuple, List, Callable, Optional"
   ]
  },
  {
   "cell_type": "markdown",
   "metadata": {},
   "source": [
    "### Assignment 2.0: Our own SRN\n",
    "Let's make our own simple recurrent network from scratch, to get an idea of its inner workings. To make our life just a bit simpler, we will use `torch.nn.Linear` to model the internal transformations.\n",
    "\n",
    "Complete the `mySRN` class, which is initialized with the input $d_i$, hidden $d_h$ and output $d_o$ dimensionalities, as well as two non-linear functions $\\theta_h$ and $\\theta_y$, and constructs a SRN implementing three `torch.nn.Linear` layers:\n",
    "1. `x_to_h`: a layer that takes $x_t$ and produces $W_h x_t$\n",
    "2. `h_to_h`: a layer that takes $h_{t-1}$ and produces $U_h h_{t-1} + b_h$\n",
    "3. `h_to_y`: a layer that takes $h_t$ and produces $W_y h_t + b_y$\n",
    "\n",
    "The function `step`, that accepts $x_t$ and $h_{t-1}$ and produces $h_t$ and $y_t$ is already implemented.\n",
    "\n",
    "Implement the function `forward` that accepts a List of inputs $X$, an initial hidden vector $h_{-1}$ and iteratively applies `step` until the input sequence is exhausted, returning a List of outputs $Y$ (of the same length as $X$).\n",
    "\n",
    "_Hint_: Note that `x_to_h` does not have a bias term $b$, since we will incorporate it into `h_to_h`"
   ]
  },
  {
   "cell_type": "code",
   "execution_count": 2,
   "metadata": {},
   "outputs": [],
   "source": [
    "class mySRN(torch.nn.Module):\n",
    "    def __init__(self, input_dim: int, hidden_dim: int, output_dim: int, \n",
    "                 hidden_activation: Callable[[torch.FloatTensor], torch.FloatTensor],\n",
    "                 output_activation: Callable[[torch.FloatTensor], torch.FloatTensor],\n",
    "                 device: str):\n",
    "        super(mySRN, self).__init__()\n",
    "        self.hidden_activation = hidden_activation\n",
    "        self.output_activation = output_activation\n",
    "        self.device = device\n",
    "        \n",
    "        # No bias (W_h*x_t, input to hidden)\n",
    "        self.x_to_h = torch.nn.Linear(in_features=input_dim,  out_features=hidden_dim, bias=False).to(device)\n",
    "        # Included bias (U_h*h_t-1 + b_h, hidden to hidden)\n",
    "        self.h_to_h = torch.nn.Linear(in_features=hidden_dim, out_features=hidden_dim, bias=True).to(device)\n",
    "        # Included bias (W_y*h_t + b_y, hidden to output)\n",
    "        self.h_to_y = torch.nn.Linear(in_features=hidden_dim, out_features=output_dim, bias=True).to(device)\n",
    "        \n",
    "    def step(self, x: torch.FloatTensor, h: torch.FloatTensor) -> Tuple[torch.FloatTensor, torch.FloatTensor]:\n",
    "        # compute h_t\n",
    "        next_h = self.x_to_h(x)  \n",
    "        next_h = next_h + self.h_to_h(h)\n",
    "        next_h = self.hidden_activation(next_h)\n",
    "        \n",
    "        # compute y_t\n",
    "        next_y = self.h_to_y(next_h)\n",
    "        next_y = self.output_activation(next_y)\n",
    "        return (next_h, next_y)\n",
    "        \n",
    "    def forward(self, X: List[torch.FloatTensor], h: torch.FloatTensor) -> List[torch.FloatTensor]:\n",
    "        Y = []\n",
    "        for x in X:\n",
    "            Y.append(self.step(x,h)[1])\n",
    "        return Y\n",
    "    "
   ]
  },
  {
   "cell_type": "markdown",
   "metadata": {},
   "source": [
    "Let's get your implementation tested."
   ]
  },
  {
   "cell_type": "code",
   "execution_count": 3,
   "metadata": {},
   "outputs": [
    {
     "name": "stdout",
     "output_type": "stream",
     "text": [
      "Everything ok!\n"
     ]
    }
   ],
   "source": [
    "def test_mySRN() -> None:\n",
    "    \"\"\"\n",
    "        Sanity check for your SRN implementation. Do not change any of the values here.\n",
    "    \"\"\"\n",
    "    \n",
    "    # set the random seed for reproducibility\n",
    "    torch.random.manual_seed(42)\n",
    "    # set some arbitrary sizes -- note that we can apply the SRN equations over many input sequences in parallel (batching)\n",
    "    input_size, hidden_size, output_size, batch_size = 16, 48, 5, 32\n",
    "    # instantiate the network with tanh and sigmoid as the activations for the hidden and output states\n",
    "    srn = mySRN(input_size, hidden_size, output_size, torch.tanh, torch.sigmoid, 'cpu')\n",
    "    # create an input sequence (32 is the batch size, 10 is the sequence length)\n",
    "    test_x = [torch.rand(batch_size, input_size) for _ in range(10)]\n",
    "    test_h = torch.rand(batch_size, hidden_size)\n",
    "    # create an initial hidden vector\n",
    "    test_y = srn(test_x, test_h)\n",
    "    # assert len(X) == len(Y)\n",
    "    if len(test_y) != len(test_x):\n",
    "        raise AssertionError('Input and output sequences have unequal lengths')\n",
    "    # assert shape correctness\n",
    "    if (test_y[0].shape != (batch_size, output_size)):\n",
    "        raise AssertionError('Output has the wrong shape')\n",
    "    if float(test_y[0][1][0]) != 0.48402369022369385:\n",
    "        print(float(test_y[0][1][0]))\n",
    "        raise AssertionError('Output has the wrong value (check your equations!)')\n",
    "    print('Everything ok!')\n",
    "\n",
    "test_mySRN()"
   ]
  },
  {
   "cell_type": "markdown",
   "metadata": {},
   "source": [
    "In practice, we do not need to write our own functions for common RNN architectures. \n",
    "Torch already provides the [necessary abstractions](https://pytorch.org/docs/stable/nn.html#recurrent-layers).\n",
    "\n",
    "The [RNN](https://pytorch.org/docs/stable/nn.html#rnn) wrapper implements highly optimized forward routines to compute the hidden representations of a full input sequence.\n",
    "\n",
    "Some pointers:\n",
    "* Unlike our naive implementation, RNN accepts a 3-dimensional tensor of shape (seq_len, batch_shape, input_dim) rather than a list of 2-dimensional tensors\n",
    "* If no initial hidden state is provided, it defaults to a zero tensor\n",
    "* The class produces just the RNN hidden states; it is up to us to define the `h_to_y` transformation on top of them\n",
    "* The non-linearity argument is a string; our only two choices are either `'tanh'` or `'relu'` (shorthands for `torch.nn.Tanh` and `torch.nn.ReLU` respectively)\n",
    "\n",
    "Read the documentation (!) for further details.\n",
    "\n",
    "A brief example is given below."
   ]
  },
  {
   "cell_type": "code",
   "execution_count": 4,
   "metadata": {},
   "outputs": [
    {
     "name": "stdout",
     "output_type": "stream",
     "text": [
      "torch.Size([10, 32, 48])\n"
     ]
    }
   ],
   "source": [
    "rnn = torch.nn.RNN(input_size=16, hidden_size=48, nonlinearity='tanh')\n",
    "X = torch.rand(10, 32, 16)\n",
    "h, _ = rnn(X)\n",
    "print(h.shape)"
   ]
  },
  {
   "cell_type": "markdown",
   "metadata": {},
   "source": [
    "So, for a random input tensor of shape (seq_len, batch_size, input_dim), we get back an output tensor of shape (seq_len, batch_size, hidden_dim)"
   ]
  },
  {
   "cell_type": "code",
   "execution_count": 5,
   "metadata": {},
   "outputs": [],
   "source": [
    "del mySRN, rnn, X, h"
   ]
  },
  {
   "cell_type": "markdown",
   "metadata": {},
   "source": [
    "### Assignment 2.1: A faster version of the SRN\n",
    "Now let's wrap an `RNN` into a custom class `myFastSRN` that implements it aside the `h_to_y` transformation.\n",
    "Complete the class by filling in the missing `h_to_y` transformation and its `forward` pass."
   ]
  },
  {
   "cell_type": "code",
   "execution_count": 6,
   "metadata": {},
   "outputs": [],
   "source": [
    "class myFastSRN(torch.nn.Module):\n",
    "    def __init__(self, input_dim: int, hidden_dim: int, output_dim: int, \n",
    "                 hidden_activation: str,\n",
    "                 output_activation: Callable[[torch.FloatTensor], torch.FloatTensor],\n",
    "                 device: str):\n",
    "        super(myFastSRN, self).__init__()\n",
    "        self.output_activation = output_activation\n",
    "        self.device = device\n",
    "        \n",
    "        self.rnn = torch.nn.RNN(input_size=input_dim, hidden_size=hidden_dim, \n",
    "                                nonlinearity=hidden_activation).to(device)\n",
    "        self.h_to_y = torch.nn.Linear(in_features=hidden_dim, out_features=output_dim, bias=True).to(device)\n",
    "        \n",
    "    def forward(self, X:torch.FloatTensor, h: Optional[torch.FloatTensor]=None) -> torch.FloatTensor:\n",
    "        # Input data and optional additional hidden state, return output and optional new hidden state\n",
    "        output, hn = self.rnn(X, h)\n",
    "        # Use output to generate actual forward step\n",
    "        return self.h_to_y(output)\n",
    "            "
   ]
  },
  {
   "cell_type": "markdown",
   "metadata": {},
   "source": [
    "Let's see our new implementation in action. We will test it for a random input tensor X of shape (10, 32, 16) (i.e. 32 sequences, each of length 10, with each item having 16 features). We should expect an output tensor Y of shape (10, 32, 5) (i.e. 32 sequences, each of length 10, with each item having 5 features)"
   ]
  },
  {
   "cell_type": "code",
   "execution_count": 7,
   "metadata": {
    "scrolled": true
   },
   "outputs": [
    {
     "name": "stdout",
     "output_type": "stream",
     "text": [
      "torch.Size([10, 32, 1])\n"
     ]
    }
   ],
   "source": [
    "rnn = myFastSRN(input_dim=16, \n",
    "                hidden_dim=48, \n",
    "                output_dim=1, \n",
    "                hidden_activation='tanh', \n",
    "                output_activation=torch.nn.Softmax(dim=-1), \n",
    "                device='cpu')\n",
    "# a random input of 32 sequences, each of length 10, with each item containing 16 features\n",
    "X = torch.rand(10, 32, 16)  \n",
    "print(rnn(torch.rand(10, 32, 16)).shape)"
   ]
  },
  {
   "cell_type": "markdown",
   "metadata": {},
   "source": [
    "Hopefully everything should be in order.\n",
    "\n",
    "You may have noticed a minor complication: in order to utilize batching, we need our input sequences to be of the same length.\n",
    "\n",
    "This however is very rarely the case in practice. A common trick against this problem is _padding_; that is, appending zero tensors to all input sequences shorter than the maximum in-batch length to make them all equally long.\n",
    "\n",
    "As usual, torch already does the hard work for us via [pad_sequence](https://pytorch.org/docs/stable/nn.html?highlight=pad%20_sequence#torch.nn.utils.rnn.pad_sequence). Given a list of $N$ 2-dimensional tensors, each of shape (seq_len, input_dim), it will construct a 3-d tensor of shape (max_seq_len, N, input_dim).\n",
    "\n",
    "An example:"
   ]
  },
  {
   "cell_type": "code",
   "execution_count": 8,
   "metadata": {},
   "outputs": [],
   "source": [
    "x_1 = torch.rand(1, 16)  # a sequence of 1, 16-dimensional item\n",
    "x_2 = torch.rand(7, 16)  # a sequence of 7, 16-dimensional items\n",
    "x_3 = torch.rand(5, 16)  # a sequence of 5, 16-dimensional items\n",
    "\n",
    "X = torch.nn.utils.rnn.pad_sequence([x_1, x_2, x_3])  # What is the shape of X?"
   ]
  },
  {
   "cell_type": "code",
   "execution_count": 9,
   "metadata": {},
   "outputs": [
    {
     "name": "stdout",
     "output_type": "stream",
     "text": [
      "torch.Size([7, 3, 16])\n"
     ]
    }
   ],
   "source": [
    "print(X.shape)"
   ]
  },
  {
   "cell_type": "code",
   "execution_count": 10,
   "metadata": {},
   "outputs": [],
   "source": [
    "del x_1, x_2, x_3, X"
   ]
  },
  {
   "cell_type": "markdown",
   "metadata": {},
   "source": [
    "## Pretrained Word Embeddings\n",
    "Moving on-- last assignment, we saw how to train our own word embeddings using a miniature toy corpus. Now, we will see how to easily employ high-quality pretrained word vectors and, later on, how to utilize them for further downstream tasks.\n",
    "\n",
    "We are going to use [spaCy](https://spacy.io/). SpaCy is a high-level NLP library that provides a ton of useful functionalities, but we will only focus on its pretrained embeddings for this assignment.\n",
    "\n",
    "Before proceeding, [install spacy](https://spacy.io/usage) using your python package manager (e.g. `pip install spacy`)."
   ]
  },
  {
   "cell_type": "code",
   "execution_count": 11,
   "metadata": {},
   "outputs": [],
   "source": [
    "import spacy"
   ]
  },
  {
   "cell_type": "markdown",
   "metadata": {},
   "source": [
    "SpaCy comes with a lot of different-size models for different languages. \n",
    "\n",
    "We will need to download the small english model for the exercises to follow. You can either do it on a new terminal window (optimal, if you are running this assignment through a virtual environment) or by simply running the magic command below. "
   ]
  },
  {
   "cell_type": "code",
   "execution_count": 12,
   "metadata": {},
   "outputs": [
    {
     "name": "stdout",
     "output_type": "stream",
     "text": [
      "Requirement already satisfied: en_core_web_sm==2.1.0 from https://github.com/explosion/spacy-models/releases/download/en_core_web_sm-2.1.0/en_core_web_sm-2.1.0.tar.gz#egg=en_core_web_sm==2.1.0 in /Users/al/anaconda3/envs/advance_cog_science/lib/python3.7/site-packages (2.1.0)\n",
      "\u001b[38;5;2m✔ Download and installation successful\u001b[0m\n",
      "You can now load the model via spacy.load('en_core_web_sm')\n"
     ]
    }
   ],
   "source": [
    "!python3 -m spacy download en_core_web_sm\n",
    "#python3 -m spacy download en_core_web_sm-2.1.0 --direct"
   ]
  },
  {
   "cell_type": "markdown",
   "metadata": {},
   "source": [
    "After having downloaded the model, we can load it as follows (you may need to restart your notebook after the download is complete):"
   ]
  },
  {
   "cell_type": "code",
   "execution_count": 13,
   "metadata": {},
   "outputs": [],
   "source": [
    "nlp = spacy.load('en_core_web_sm')"
   ]
  },
  {
   "cell_type": "markdown",
   "metadata": {},
   "source": [
    "We can then use the loaded model to process a sentence and obtain its word vectors, a List of 96-dimensional numpy arrays."
   ]
  },
  {
   "cell_type": "code",
   "execution_count": 14,
   "metadata": {},
   "outputs": [
    {
     "name": "stdout",
     "output_type": "stream",
     "text": [
      "We have 7 vectors..\n",
      "..each of shape (96,)\n"
     ]
    }
   ],
   "source": [
    "doc = nlp('this is a sentence of 7 words')  # the processed sentence\n",
    "vectors = list(map(lambda x: x.vector, doc))  # its vectors\n",
    "print('We have {} vectors..'.format(len(vectors)))\n",
    "print('..each of shape {}'.format(vectors[0].shape))"
   ]
  },
  {
   "cell_type": "markdown",
   "metadata": {},
   "source": [
    "And then finally convert them into torch tensors."
   ]
  },
  {
   "cell_type": "code",
   "execution_count": 15,
   "metadata": {},
   "outputs": [
    {
     "name": "stdout",
     "output_type": "stream",
     "text": [
      "torch.Size([7, 96])\n"
     ]
    }
   ],
   "source": [
    "torch_vectors = torch.tensor(vectors)\n",
    "print(torch_vectors.shape)"
   ]
  },
  {
   "cell_type": "markdown",
   "metadata": {},
   "source": [
    "Or, in the case of multiple sentences:"
   ]
  },
  {
   "cell_type": "code",
   "execution_count": 16,
   "metadata": {},
   "outputs": [],
   "source": [
    "# Example sentences\n",
    "sentences = ['This is a sentence', 'This is another sentence.']\n",
    "\n",
    "# Parallel processing with spacy\n",
    "docs = nlp.pipe(sentences, batch_size=16)\n",
    "\n",
    "# Convert each processed sentence into a list of vectors\n",
    "vectors = map(lambda doc: [word.vector for word in doc], docs)\n",
    "\n",
    "# Convert each list of vectors into a 2-d torch tensor\n",
    "tensors = list(map(lambda sentence_vectors: torch.tensor(sentence_vectors), vectors))"
   ]
  },
  {
   "cell_type": "markdown",
   "metadata": {},
   "source": [
    "## POS Tagging\n",
    "Given our pretrained embeddings, we may represent sentences as _sequences of vectors_, which is exactly the format expected by an RNN.\n",
    "We will now try to train an SRN to iterate over a sentence and assign part of speech tags to each of its words.\n",
    "\n",
    "(Question: What is the advantage to using a recurrent network over a feedforward network that processes each word individually?)\n",
    "\n",
    "First, let's load and inspect our datafiles.\n",
    "\n",
    "The pickle file contains three items:\n",
    "1. `sentences`: a List of strings (-sentences)\n",
    "1. `postags`: a List of Lists of strings (-POS tags)\n",
    "2. `pos_to_int`: a Dictionary from strings to ints (mapping each POS tag to a unique identifier)"
   ]
  },
  {
   "cell_type": "code",
   "execution_count": 17,
   "metadata": {
    "scrolled": true
   },
   "outputs": [
    {
     "name": "stdout",
     "output_type": "stream",
     "text": [
      "[('Currently', 'RB'), (',', ','), ('the', 'DT'), ('rules', 'NNS'), ('force', 'VBP'), ('executives', 'NNS'), (',', ','), ('directors', 'NNS'), ('and', 'CC'), ('other', 'JJ'), ('corporate', 'JJ'), ('insiders', 'NNS'), ('to', 'TO'), ('report', 'VB'), ('purchases', 'NNS'), ('and', 'CC'), ('sales', 'NNS'), ('of', 'IN'), ('their', 'PRP$'), ('companies', 'NNS'), (\"'\", 'POS'), ('shares', 'NNS'), ('within', 'IN'), ('about', 'IN'), ('a', 'DT'), ('month', 'NN'), ('after', 'IN'), ('the', 'DT'), ('transaction', 'NN'), ('.', '.')]\n"
     ]
    }
   ],
   "source": [
    "import pickle\n",
    "with open('TRAIN.p', 'rb') as f:\n",
    "    sentences, postags, pos_to_int = pickle.load(f)\n",
    "    \n",
    "print(list(zip(sentences[12].split(), postags[12])))"
   ]
  },
  {
   "cell_type": "code",
   "execution_count": 18,
   "metadata": {},
   "outputs": [
    {
     "name": "stdout",
     "output_type": "stream",
     "text": [
      "48\n"
     ]
    }
   ],
   "source": [
    "print(len(pos_to_int))"
   ]
  },
  {
   "cell_type": "markdown",
   "metadata": {},
   "source": [
    "Next, we need to convert our data to numeric form.\n",
    "\n",
    "Convert sentences to their tensor format, as done earlier (this may take a while)."
   ]
  },
  {
   "cell_type": "code",
   "execution_count": 19,
   "metadata": {},
   "outputs": [],
   "source": [
    "docs = nlp.pipe(sentences, batch_size=16)\n",
    "doc_vectors = map(lambda doc: [word.vector for word in doc], docs)\n",
    "doc_tensors = list(map(lambda sentence_vectors: torch.tensor(sentence_vectors), doc_vectors))\n",
    "\n",
    "# We no longer need the docs and numpy arrays\n",
    "del doc_vectors, docs"
   ]
  },
  {
   "cell_type": "markdown",
   "metadata": {},
   "source": [
    "Similarly, we will use `pos_to_int` to convert the POS sequences into tensors."
   ]
  },
  {
   "cell_type": "code",
   "execution_count": 20,
   "metadata": {},
   "outputs": [],
   "source": [
    "pos_numeric = list(map(lambda pos_sequence: [pos_to_int[pos] for pos in pos_sequence], postags))\n",
    "pos_tensors =  list(map(lambda pos_num_sequence: torch.tensor(pos_num_sequence), pos_numeric))"
   ]
  },
  {
   "cell_type": "markdown",
   "metadata": {},
   "source": [
    "In the first assignment, we saw how to split our dataset into a training and a validation set. \n",
    "\n",
    "We will do the same here, splitting the sentences, postags and their corresponding tensors into a training and a validation set."
   ]
  },
  {
   "cell_type": "code",
   "execution_count": 21,
   "metadata": {},
   "outputs": [],
   "source": [
    "from sklearn.model_selection import train_test_split\n",
    "sentences_train, sentences_val, postags_train, postags_val, X_train, X_val, Y_train, Y_val \\\n",
    "    = train_test_split(sentences, postags, doc_tensors, pos_tensors, test_size=0.2, random_state=42)\n",
    "assert len(X_train) == len(Y_train) == len(sentences_train)\n",
    "assert len(X_val) == len(Y_val) == len(sentences_val)"
   ]
  },
  {
   "cell_type": "markdown",
   "metadata": {},
   "source": [
    "Again, following along the first assignment, we will wrap our tensors into a `Dataset` and a `DataLoader`.\n",
    "\n",
    "Since our data are not Tensors but rather Lists of Tensors of uneven lengths, we need to write our own Dataset wrapper.\n",
    "The wrapper only needs to implement two functions; `__len__`, which expects no arguments and returns the number of samples in the dataset, and `__getitem__`, which accepts an index `idx` and returns the input-output pair X[idx], Y[idx].\n",
    "\n",
    "Similarly, the Dataloader needs to process the list of input-output pairs produced by the Dataset using `pad_sequence`, as seen earlier.\n",
    "\n",
    "(Question: What is the advantage to applying padding on the batch rather than the entire dataset?)\n",
    "\n",
    "<div class=\"alert alert-block alert-info\">\n",
    "    <b>Answer:</b> Padding per batch makes sure that each batch gets padded to the same size, which is necessary for an RNN. Padding the entire dataset, would mean that different sized batches get the same padding and will still be of different sizes by the end, defeating the purpose of the padding.\n",
    "</div>\n",
    "\n",
    "The code below shows how this can be accomplished."
   ]
  },
  {
   "cell_type": "code",
   "execution_count": 179,
   "metadata": {},
   "outputs": [],
   "source": [
    "from torch.nn.utils.rnn import pad_sequence\n",
    "from torch.utils.data import Dataset, DataLoader\n",
    "\n",
    "\n",
    "class UnevenLengthDataset(Dataset):\n",
    "    def __init__(self, X: List[torch.FloatTensor], Y: List[torch.LongTensor]) -> None:\n",
    "        super(UnevenLengthDataset, self).__init__()\n",
    "        self.X = X\n",
    "        self.Y = Y\n",
    "        \n",
    "    def __len__(self) -> int:\n",
    "        return len(self.X)\n",
    "    \n",
    "    def __getitem__(self, idx: int) -> Tuple[torch.FloatTensor, torch.LongTensor]:\n",
    "        return self.X[idx], self.Y[idx]\n",
    "        \n",
    "train_dataset = UnevenLengthDataset(X_train, Y_train)\n",
    "train_dataloader = DataLoader(train_dataset, \n",
    "                              # collate_fn is the post-processing function applied by the dataloader\n",
    "                              # given a batch (a list of i/o pairs),\n",
    "                              # it separately pads all of the inputs and all of the outputs\n",
    "                              # and returns a tuple of two padded tensors\n",
    "                              collate_fn=lambda batch: (pad_sequence([sample[0] for sample in batch]),\n",
    "                                                        pad_sequence([sample[1] for sample in batch])),\n",
    "                              shuffle=True,\n",
    "                              batch_size=32)\n",
    "\n",
    "val_dataset = UnevenLengthDataset(X_val, Y_val)\n",
    "val_dataloader = DataLoader(val_dataset,\n",
    "                            collate_fn=lambda batch: (pad_sequence([sample[0] for sample in batch]),\n",
    "                                                      pad_sequence([sample[1] for sample in batch])),\n",
    "                            shuffle=False,\n",
    "                            batch_size=32)"
   ]
  },
  {
   "cell_type": "markdown",
   "metadata": {},
   "source": [
    "What does a batch look like, shape-wise?"
   ]
  },
  {
   "cell_type": "code",
   "execution_count": 180,
   "metadata": {},
   "outputs": [
    {
     "name": "stdout",
     "output_type": "stream",
     "text": [
      "torch.Size([81, 32, 96])\n",
      "torch.Size([81, 32])\n"
     ]
    }
   ],
   "source": [
    "for batch_x, batch_y in train_dataloader:\n",
    "    print(batch_x.shape)\n",
    "    print(batch_y.shape)\n",
    "    break"
   ]
  },
  {
   "cell_type": "markdown",
   "metadata": {},
   "source": [
    "So far so good. On to the network.\n",
    "\n",
    "### Assignment 2.2: Utility Functions\n",
    "Remember how we defined our training and validation functions for the first assignment?\n",
    "\n",
    "You will need to do the same here.\n",
    "Note that while you can use the given code as a guideline, just copying it won't do the trick; unlike a feedforward net, a recurrent network produces a 3rd order output tensor, of shape (max_seq_len, batch_size, num_output_classes).\n",
    "\n",
    "Similarly, our target Y is a 2nd order tensor of shape (max_seq_len, batch_size).\n",
    "\n",
    "You will need to properly treat the extra dimensional of both the output and the target, since loss functions expect an order 2 output tensor and an order 1 target tensor. \n",
    "\n",
    "Complete the functions `train_batch`, `train_epoch`, `eval_batch` and `eval_epoch`."
   ]
  },
  {
   "cell_type": "code",
   "execution_count": 216,
   "metadata": {},
   "outputs": [],
   "source": [
    "def accuracy(predictions: torch.LongTensor, truth: torch.LongTensor, ignore_idx: int) -> Tuple[int, int]:\n",
    "    \"\"\"\n",
    "        Given a tensor containing the network's predictions and a tensor containing the true values, as well\n",
    "        as an output value to ignore (e.g. the padding value), computes and returns the total count of non-\n",
    "        ignored values as well the total count of correctly predicted values.\n",
    "        \n",
    "        predictions: The network's predictions.\n",
    "        truth: The true output labels.\n",
    "        ignore_idx: The output padding value, to be ignored in accuracy calculation.\n",
    "    \"\"\"\n",
    "    \n",
    "    correct_words = torch.ones(predictions.size())\n",
    "    correct_words[predictions != truth] = 0\n",
    "    correct_words[truth == ignore_idx] = 1\n",
    "\n",
    "    num_correct_words = correct_words.sum().item()\n",
    "    num_masked_words = len(truth[truth == ignore_idx])\n",
    "\n",
    "    return predictions.shape[0] * predictions.shape[1] - num_masked_words, num_correct_words - num_masked_words\n",
    "\n",
    "\n",
    "def measure_accuracy(network: torch.nn.Module,\n",
    "                    dataloader: DataLoader,\n",
    "                    device: str) -> float:\n",
    "    \"\"\"\n",
    "        Given a network, a dataloader and a device, iterates over the dataset and returns the network's accuracy.\n",
    "    \"\"\"\n",
    "    correct = 0\n",
    "    total = 0\n",
    "    for x_batch, y_batch in dataloader:\n",
    "        pred = network(x_batch.to(device))\n",
    "        local_total, local_correct = accuracy(pred.argmax(dim=-1), y_batch.to(device), ignore_idx=0)\n",
    "        correct+= local_correct\n",
    "        total+= local_total\n",
    "    return correct/total\n",
    "    \n",
    "\n",
    "def train_batch(network: torch.nn.Module,  # the network\n",
    "                X_batch: torch.FloatTensor,  # the X batch\n",
    "                Y_batch: torch.LongTensor,   # the Y batch\n",
    "                # a function from a FloatTensor (prediction) and a FloatTensor (Y) to a FloatTensor (the loss)\n",
    "                loss_fn: Callable[[torch.FloatTensor, torch.FloatTensor], torch.FloatTensor],  \n",
    "                # the optimizer\n",
    "                optimizer: torch.optim.Optimizer) -> float:\n",
    "    \n",
    "    # TODO: fix code for tensor sizes/test?\n",
    "    # look for !!! behind comment for what still needs looking at\n",
    "    \n",
    "    # train\n",
    "    network.train()\n",
    "    \n",
    "    # forward pass. prediction_batch is a 3rd order tensor: (max_seq_len, batch_size, num_output_classes) \n",
    "    prediction_batch = network(X_batch)\n",
    "    #print(prediction_batch.shape)\n",
    "    #print(Y_batch.shape)\n",
    "    #loss calculation: converted 3rd order pred_batch to 2nd order, so it matches Y_batch\n",
    "    batch_loss = loss_fn(\n",
    "        #prediction_batch,\n",
    "        #prediction_batch.view(prediction_batch.shape[0], prediction_batch.shape[1] * prediction_batch.shape[2]), \n",
    "        prediction_batch.view(X_batch.shape[0]*X_batch.shape[1],-1),\n",
    "        Y_batch.view(-1))\n",
    "    \n",
    "    # gradient computation\n",
    "    batch_loss.backward()\n",
    "    # back-propagation\n",
    "    optimizer.step() \n",
    "    #reset grad\n",
    "    optimizer.zero_grad() \n",
    "        \n",
    "    return batch_loss.item()\n",
    "    \n",
    "\n",
    "def train_epoch(network: torch.nn.Module, \n",
    "                # a list of data points x\n",
    "                dataloader: DataLoader,\n",
    "                loss_fn: Callable[[torch.FloatTensor, torch.FloatTensor], torch.FloatTensor],\n",
    "                optimizer: torch.optim.Optimizer, \n",
    "                device: str) -> float:\n",
    "    loss=0.\n",
    "    \n",
    "    # nothing here expects certain sizes. Don't change anything, adapting sizes is handled in train_batch\n",
    "    for i, (x_batch, y_batch) in enumerate(dataloader):\n",
    "        x_batch = x_batch.to(device)  # convert back to chosen device\n",
    "        y_batch = y_batch.to(device)\n",
    "        loss += train_batch(network=network, X_batch=x_batch, Y_batch=y_batch, loss_fn=loss_fn, optimizer=optimizer)\n",
    "    loss /= (i+1) # divide loss by number of batches for consistency \n",
    "    \n",
    "    print('============================================')\n",
    "    print('loss: {} '.format(loss))\n",
    "    \n",
    "    return loss\n",
    "\n",
    "def eval_batch(network: torch.nn.Module,  # the network\n",
    "                X_batch: torch.FloatTensor,  # the X batch\n",
    "                Y_batch: torch.LongTensor,   # the Y batch\n",
    "                loss_fn: Callable[[torch.FloatTensor, torch.LongTensor], torch.FloatTensor]) -> float:\n",
    "    \n",
    "    #TODO: adapt stuff from PyTorch tutorial to this network\n",
    "    \n",
    "    # evaluation\n",
    "    network.eval()\n",
    "    \n",
    "    with torch.no_grad():\n",
    "        prediction_batch = network(X_batch)  # forward pass\n",
    "        # same loss calculation viewing as in train_batch\n",
    "        batch_loss = loss_fn(\n",
    "            #prediction_batch,\n",
    "            #prediction_batch.view(prediction_batch.shape[0], prediction_batch.shape[1] * prediction_batch.shape[2]), \n",
    "            prediction_batch.view(X_batch.shape[0]*X_batch.shape[1],-1),\n",
    "            Y_batch.view(-1))\n",
    "        \n",
    "    return batch_loss.item()\n",
    "\n",
    "def eval_epoch(network: torch.nn.Module, \n",
    "                # a list of data points x\n",
    "                dataloader: DataLoader,\n",
    "                loss_fn: Callable[[torch.FloatTensor, torch.LongTensor], torch.FloatTensor],\n",
    "                device: str) -> float:\n",
    "    \n",
    "    # same thing as batch_epoch\n",
    "    loss = 0.\n",
    "    \n",
    "    for i, (x_batch, y_batch) in enumerate(dataloader):\n",
    "        x_batch = x_batch.to(device)\n",
    "        y_batch = y_batch.to(device)\n",
    "        loss += eval_batch(network=network, X_batch=x_batch, Y_batch=y_batch, loss_fn=loss_fn)\n",
    "    loss /= (i+1)\n",
    "        \n",
    "    return loss"
   ]
  },
  {
   "cell_type": "markdown",
   "metadata": {},
   "source": [
    "### Assignment 2.3: SRN POS Tagging\n",
    "Define a simple recurrent network, with input size compatible with the vector dimensionality, output size compatible with the number of output classes (the number of different POS tags + 1) and a hidden size of your own choice.\n",
    "\n",
    "(Question: Why do we need to add +1 to the output size?)\n",
    "\n",
    "<div class='alert alert-block alert-info'>\n",
    "    <b>Answer:</b> Because our training batches also have size 49 (in their first dimension) to account for the fact that there are 48 POS tags and a 0, giving us 49 options\n",
    "</div> \n",
    "\n",
    "Use `\"tanh\"` as your hidden layer activation, and `torch.nn.LogSoftmax(dim=-1)` for the output activation.\n",
    "\n",
    "Then instantiate an optimizer over your network, and train it for a number of epochs, measuring and printing the validation loss and accuracy at each epoch using the given `loss_fn`.\n",
    "\n",
    "_Hint_: Use `measure_accuracy` (defined earlier) to obtain the validation accuracy.\n",
    "\n",
    "Plot the loss curves over the training process."
   ]
  },
  {
   "cell_type": "code",
   "execution_count": 217,
   "metadata": {},
   "outputs": [],
   "source": [
    "# hidden dimension, prepared here for easy changing\n",
    "hidden=175\n",
    "# Simple SRN, with an RNN to map from input to hidden and linear mapping from hidden to output.\n",
    "srn = myFastSRN(input_dim=96, \n",
    "                hidden_dim=hidden, \n",
    "                output_dim=49, \n",
    "                hidden_activation='tanh', \n",
    "                output_activation=torch.nn.LogSoftmax(dim=-1), \n",
    "                device='cpu')\n",
    "\n",
    "opt = torch.optim.Adam(srn.parameters(), lr=1e-05)\n",
    "\n",
    "loss_fn = torch.nn.NLLLoss(ignore_index=0)  # ignore index 0 (misclassification of padded outputs incur no loss)"
   ]
  },
  {
   "cell_type": "code",
   "execution_count": null,
   "metadata": {},
   "outputs": [
    {
     "name": "stdout",
     "output_type": "stream",
     "text": [
      "============================================\n",
      "loss: -1.0446134058558165 \n",
      "Epoch 0\n",
      " Training Loss: -1.0446134058558165\n",
      " Validation Loss: -2.158338560629143\n",
      " Validation accuracy: 0.7300054805216255\n",
      "============================================\n",
      "loss: -3.2042326172456046 \n",
      "Epoch 1\n",
      " Training Loss: -3.2042326172456046\n",
      " Validation Loss: -4.166796406740865\n",
      " Validation accuracy: 0.7669351872011051\n",
      "============================================\n",
      "loss: -5.04423476844434 \n",
      "Epoch 2\n",
      " Training Loss: -5.04423476844434\n",
      " Validation Loss: -5.864100335136293\n",
      " Validation accuracy: 0.809240309611934\n",
      "============================================\n",
      "loss: -6.658367786028527 \n",
      "Epoch 3\n",
      " Training Loss: -6.658367786028527\n",
      " Validation Loss: -7.410434621982474\n",
      " Validation accuracy: 0.8400363366091337\n",
      "============================================\n",
      "loss: -8.16715893019114 \n",
      "Epoch 4\n",
      " Training Loss: -8.16715893019114\n",
      " Validation Loss: -8.885488338571378\n",
      " Validation accuracy: 0.8619283928558023\n",
      "============================================\n",
      "loss: -9.619908268404323 \n",
      "Epoch 5\n",
      " Training Loss: -9.619908268404323\n",
      " Validation Loss: -10.315714114557498\n",
      " Validation accuracy: 0.8775216030150377\n",
      "============================================\n",
      "loss: -11.033569717407227 \n",
      "Epoch 6\n",
      " Training Loss: -11.033569717407227\n",
      " Validation Loss: -11.712466310571742\n",
      " Validation accuracy: 0.8899090834015271\n",
      "============================================\n",
      "loss: -12.418154998172987 \n",
      "Epoch 7\n",
      " Training Loss: -12.418154998172987\n",
      " Validation Loss: -13.084894200481434\n",
      " Validation accuracy: 0.899999249243613\n",
      "============================================\n",
      "loss: -13.781101286174446 \n",
      "Epoch 8\n",
      " Training Loss: -13.781101286174446\n",
      " Validation Loss: -14.437060658893888\n",
      " Validation accuracy: 0.9082575695012726\n",
      "============================================\n",
      "loss: -15.125299533313473 \n",
      "Epoch 9\n",
      " Training Loss: -15.125299533313473\n",
      " Validation Loss: -15.772272589345457\n",
      " Validation accuracy: 0.9147591198132118\n",
      "============================================\n",
      "loss: -16.454010840914897 \n",
      "Epoch 10\n",
      " Training Loss: -16.454010840914897\n",
      " Validation Loss: -17.094425887657852\n",
      " Validation accuracy: 0.9193612564658894\n",
      "============================================\n",
      "loss: -17.771159691210613 \n",
      "Epoch 11\n",
      " Training Loss: -17.771159691210613\n",
      " Validation Loss: -18.406063332128777\n",
      " Validation accuracy: 0.9225820013663766\n",
      "============================================\n",
      "loss: -19.078634070086952 \n",
      "Epoch 12\n",
      " Training Loss: -19.078634070086952\n",
      " Validation Loss: -19.709453946068173\n",
      " Validation accuracy: 0.9251796184656041\n",
      "============================================\n",
      "loss: -20.37941112391996 \n",
      "Epoch 13\n",
      " Training Loss: -20.37941112391996\n",
      " Validation Loss: -21.005718412853422\n",
      " Validation accuracy: 0.9275595162125841\n",
      "============================================\n",
      "loss: -21.673455211816243 \n",
      "Epoch 14\n",
      " Training Loss: -21.673455211816243\n",
      " Validation Loss: -22.296377050813543\n",
      " Validation accuracy: 0.9291285970615395\n",
      "============================================\n",
      "loss: -22.961937837411238 \n",
      "Epoch 15\n",
      " Training Loss: -22.961937837411238\n",
      " Validation Loss: -23.58267050445395\n",
      " Validation accuracy: 0.9302697467698706\n",
      "============================================\n",
      "loss: -24.248581892607227 \n"
     ]
    }
   ],
   "source": [
    "# Your training script here\n",
    "\n",
    "NUM_EPOCHS = 100\n",
    "\n",
    "train_losses = []\n",
    "val_losses = []\n",
    "val_accuracies = []\n",
    "\n",
    "for t in range(NUM_EPOCHS):\n",
    "    train_loss = train_epoch(srn, train_dataloader, optimizer=opt, loss_fn=loss_fn, device='cpu')\n",
    "    val_loss = eval_epoch(srn, val_dataloader, loss_fn, device='cpu')\n",
    "    val_acc = measure_accuracy(srn, val_dataloader, device='cpu')\n",
    "    \n",
    "    print('Epoch {}'.format(t))\n",
    "    print(' Training Loss: {}'.format(train_loss))\n",
    "    print(' Validation Loss: {}'.format(val_loss))\n",
    "    print(' Validation accuracy: {}'.format(val_acc))\n",
    "    \n",
    "    train_losses.append(train_loss)\n",
    "    val_losses.append(val_loss)\n",
    "    val_accuracies.append(val_acc)"
   ]
  },
  {
   "cell_type": "code",
   "execution_count": 205,
   "metadata": {},
   "outputs": [
    {
     "data": {
      "image/png": "[encoded data removed]",
      "text/plain": [
       "<Figure size 432x288 with 1 Axes>"
      ]
     },
     "metadata": {
      "needs_background": "light"
     },
     "output_type": "display_data"
    },
    {
     "data": {
      "image/png": "[encoded data removed]",
      "text/plain": [
       "<Figure size 432x288 with 1 Axes>"
      ]
     },
     "metadata": {
      "needs_background": "light"
     },
     "output_type": "display_data"
    },
    {
     "data": {
      "image/png": "[encoded data removed]",
      "text/plain": [
       "<Figure size 432x288 with 1 Axes>"
      ]
     },
     "metadata": {
      "needs_background": "light"
     },
     "output_type": "display_data"
    }
   ],
   "source": [
    "# Your plotting here\n",
    "\n",
    "import matplotlib.pyplot as plt\n",
    "plt.plot(train_losses, label='Training loss')\n",
    "plt.legend(frameon=False)\n",
    "plt.show()\n",
    "\n",
    "plt.plot(val_losses, label='Validation loss')\n",
    "plt.legend(frameon=False)\n",
    "plt.show()\n",
    "\n",
    "plt.plot(val_accuracies, label='Validation Accuracy')\n",
    "plt.legend(frameon=False)\n",
    "plt.show()"
   ]
  },
  {
   "cell_type": "markdown",
   "metadata": {},
   "source": [
    "### Assignment 2.4 (BONUS): Showtime\n",
    "A portion of the dataset has been held out from you. \n",
    "\n",
    "Show off your machine learning skills by designing and training your own network and competing for the best accuracy on the secret test set.\n",
    "\n",
    "Some ideas to try:\n",
    "1. Different recurrent network architectures ([LSTM](https://pytorch.org/docs/stable/nn.html#lstm), [GRU](https://pytorch.org/docs/stable/nn.html#gru))\n",
    "2. Different hyper-parameters (Bi-Directionality, Recurrent Depth, Optimizer and Learning Rate)\n",
    "3. Regularization ([Dropout](https://pytorch.org/docs/stable/nn.html#dropout-layers), Weight Decay)\n",
    "4. Different spaCy models\n",
    "\n",
    "Feel like doing something more advanced? Get in touch ;)"
   ]
  },
  {
   "cell_type": "code",
   "execution_count": null,
   "metadata": {},
   "outputs": [],
   "source": [
    "# Your custom model and its functions here\n",
    "\n",
    "NotImplemented"
   ]
  }
 ],
 "metadata": {
  "kernelspec": {
   "display_name": "Python 3",
   "language": "python",
   "name": "python3"
  },
  "language_info": {
   "codemirror_mode": {
    "name": "ipython",
    "version": 3
   },
   "file_extension": ".py",
   "mimetype": "text/x-python",
   "name": "python",
   "nbconvert_exporter": "python",
   "pygments_lexer": "ipython3",
   "version": "3.7.3"
  }
 },
 "nbformat": 4,
 "nbformat_minor": 2
}
