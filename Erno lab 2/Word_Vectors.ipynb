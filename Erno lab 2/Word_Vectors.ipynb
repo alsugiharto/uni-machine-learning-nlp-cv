{
 "cells": [
  {
   "cell_type": "markdown",
   "metadata": {},
   "source": [
    "# Vectorial Word Representations\n",
    "\n",
    "## Background\n",
    "Representing words as dense vectors over a finite-dimensional space was one of the recent breakthroughs in Natural Language Processing. Vectorial representations allow space-efficient, informationally rich storage of words that adequately captures their semantic content and enables numerical computation on them. Word vectors are the standard input representation for language-oriented machine learning architectures. Even though new methods for constructing such representations emerge frequently, the original set of published papers remain the de facto point of reference. For this assignment, you will be asked to implement a small-scale variant of one such paper, namely [Global Word Vectors for Word Representation](https://nlp.stanford.edu/pubs/glove.pdf).\n",
    "\n",
    "Much of the code and data pre-processing has already been done for you. Additionally, notes on the paper will appear throughout the notebook to guide you along the code. It is, however, important to read and understand the paper, its terminology and the theory behind it before attempting to go through with the assignment."
   ]
  },
  {
   "cell_type": "markdown",
   "metadata": {},
   "source": [
    "## Corpus Statistics\n",
    "\n",
    "The paper's proposed model, GloVe, aims to densely represent words in a way that captures the global corpus statistics. \n",
    "\n",
    "The construction it encodes is the word __co-occurrence matrix__. A co-occurrence matrix is a data structure that counts the amount of times each word has appeared within the context of each other word. The definition of a context varies; usually, context is implied to be a fixed-length span (that may or may not be allowed to escape sentence boundaries) around a word. \n",
    "\n",
    "For instance, in the sentence below and for a context length of 2, the word <span style=\"color:pink\">__Earth__</span> occurs in the context of <span style=\"color:lightgreen\">made</span> (1), <span style=\"color:lightgreen\">on</span> (1), <span style=\"color:lightgreen\">as</span> (1), <span style=\"color:lightgreen\">an</span> (1).\n",
    "\n",
    "> \"He struck most of the friends he had <span style=\"color:lightgreen\">made on</span> <span style=\"color:pink\">__Earth__</span> <span style=\"color:lightgreen\">as an</span> eccentric\"\n",
    "\n",
    "Similarly, the word <span style=\"color:pink\">__friends__</span> occurs in the context of <span style=\"color:lightgreen\">of</span> (1), <span style=\"color:lightgreen\">the</span> (1), <span style=\"color:lightgreen\">he</span> (1), <span style=\"color:lightgreen\">had</span> (1).\n",
    "\n",
    "> \"He struck most <span style=\"color:lightgreen\">of the</span> <span style=\"color:pink\">__friends__</span> <span style=\"color:lightgreen\">he had</span> made on Earth as an eccentric\"\n",
    "\n",
    "An alternative definition of a context would be, for instance, the variable-length windows spanned by a full sentence.\n",
    "\n",
    "Contexts may be summed across sentences or entire corpora; the summed context of <span style=\"color:pink\">he</span> in the example sentence is: <span style=\"color:lightgreen\">struck</span> (1), <span style=\"color:lightgreen\">most</span> (1), <span style=\"color:lightgreen\">the</span> (1), <span style=\"color:lightgreen\">friends</span> (1), <span style=\"color:lightgreen\">had</span> (1), <span style=\"color:lightgreen\">made</span> (1).\n",
    "\n"
   ]
  },
  {
   "cell_type": "markdown",
   "metadata": {},
   "source": [
    "For the purposes of this assignment, we have already prepared a co-occurrence matrix for you from a minimally processed version of the *Harry Potter* books. The pickle file contains three items:\n",
    "1. `vocab`: a dictionary mapping words to unique ids, containing $N$ unique words\n",
    "1. `contexts`: a dictionary mapping words to their contexts, where contexts are themselves dicts from words to ints\n",
    "2. `X`: a torch LongTensor $\\mathbf{X}$ of size $N \\times N$, where $\\mathbf{X}[i,j]$ denotes the number of times the word with id $j$ has appeared in the context of the word with id $i$\n",
    "\n",
    "Extremely common or uncommon words (i.e. words with too few or too many global occurrences) have been filtered out for practical reasons."
   ]
  },
  {
   "cell_type": "code",
   "execution_count": null,
   "metadata": {},
   "outputs": [],
   "source": [
    "import pickle\n",
    "import torch\n",
    "from typing import Dict, Callable, List"
   ]
  },
  {
   "cell_type": "code",
   "execution_count": null,
   "metadata": {},
   "outputs": [],
   "source": [
    "with open('output.p', 'rb') as f:\n",
    "    vocab, contexts, X = pickle.load(f)\n",
    "print(len(vocab))"
   ]
  },
  {
   "cell_type": "markdown",
   "metadata": {},
   "source": [
    "Let's inspect the summed context of the word 'portrait'."
   ]
  },
  {
   "cell_type": "code",
   "execution_count": null,
   "metadata": {},
   "outputs": [],
   "source": [
    "sorted([(item, value) for item, value in contexts['portrait'].items()], key=lambda x: x[1], reverse=True)"
   ]
  },
  {
   "cell_type": "markdown",
   "metadata": {},
   "source": [
    "How about the word 'ghost'?"
   ]
  },
  {
   "cell_type": "code",
   "execution_count": null,
   "metadata": {},
   "outputs": [],
   "source": [
    "sorted([(item, value) for item, value in contexts['ghost'].items()], key=lambda x: x[1], reverse=True)"
   ]
  },
  {
   "cell_type": "markdown",
   "metadata": {},
   "source": [
    "The co-occurrence matrix of a very large corpus should give a meaningful summary of how a word is used in general. A single row of that matrix is already a __word vector__ of size $N$. However such vectors are extremely sparse, and for large corpora the size of $N$ will become unwieldy. We will follow along the paper in designing a neural algorithm that can compress the word vectors while retaining most of their informational content. \n",
    "\n",
    "<div class=\"alert alert-block alert-warning\">\n",
    "<b>Note:</b>\n",
    "It is not uncommon these days for the source corpus to have a size of at least a few billion words. For practical reasons our corpus in this assignment contains only about a million words: we can expect our results to be reasonable but of course not as great as with a much larger corpus.\n",
    "</div>"
   ]
  },
  {
   "cell_type": "markdown",
   "metadata": {},
   "source": [
    "### Assignment 1.0:  Sparsity and Stability\n",
    "\n",
    "Our matrix $\\mathbf{X}$ is very sparse; most of its elements are zero. Find what the ratio of non-zero elements is.\n",
    "\n",
    "_Hint_: The function `non_zero_ratio` should return a `float` rather than a `FloatTensor`. Remember `.item()`.\n",
    "\n",
    "We will soon need to perform division and find the logarithm of $\\mathbf{X}$. Neither of the two operations are well-defined for $0$.\n",
    "\n",
    "Change the matrix's datatype to a `torch.float` and add a small constant to it (e.g. $0.1$) to ensure numerical stability while maintaining sparsity."
   ]
  },
  {
   "cell_type": "code",
   "execution_count": null,
   "metadata": {},
   "outputs": [],
   "source": [
    "def non_zero_ratio(sparse_matrix: torch.LongTensor) -> float:\n",
    "    NotImplemented"
   ]
  },
  {
   "cell_type": "code",
   "execution_count": null,
   "metadata": {},
   "outputs": [],
   "source": []
  },
  {
   "cell_type": "markdown",
   "metadata": {},
   "source": [
    "### Assignment 1.1: From co-occurrence counts to probabilities\n",
    "From the paper: \n",
    "> Let the matrix of word-word co-occurrence counts be denoted by $X$, whose entries $X_{ij}$ tabulate the number of times word $j$ occurs in the context of word $i$.  Let $X_i$= $\\sum_{k} X_{ik}$ be the number of times any word appears in the context of word $i$. Finally, let $P_{ij} = P(j  | i) =  X_{ij}/X_i$ be the probability that word $j$ appear in the context of word $i$. \n",
    "\n",
    "Complete the function `to_probabilities`, that accepts a co-occurrence matrix and returns the probability matrix $P$. \n",
    "\n",
    "_Hint_: Remember broadcasting and `torch.sum()`."
   ]
  },
  {
   "cell_type": "code",
   "execution_count": null,
   "metadata": {},
   "outputs": [],
   "source": [
    "def to_probabilities(count_matrix: torch.FloatTensor) -> torch.FloatTensor:\n",
    "    NotImplemented\n",
    "\n",
    "P = to_probabilities(X)"
   ]
  },
  {
   "cell_type": "markdown",
   "metadata": {},
   "source": [
    "### Assignment 1.2: Probing words\n",
    "\n",
    "From the paper:\n",
    "> Consider two words $i$ and $j$ that exhibit a particular aspect of interest. The relationship of these words can be examined by studying the ratio of their co-occurrence probabilities with various probe words, $k$.  For words $k$ related to $i$ but not $j$, we expect the ratio $P_{ik}/P_{jk}$ will be large.  Similarly, for words $k$ related to $j$ but not $i$, the ratio should be small. For words $k$ that are either related to both $i$ and $j$, or to neither, the ratio should be close to one.\n",
    "\n",
    "Complete the function `query` that accepts two words $w_i$ and $w_j$, a vocab $V$ and a probability matrix $\\mathbf{P}$, maps each word to its corresponding index and returns the probability $P(j  |  i)$.\n",
    "\n",
    "Then, complete the function `probe` that accepts three words $w_i$, $w_j$ and $w_k$, a vocab $V$ and a probability matrix $\\mathbf{P}$, calls `query` and returns the ratio $P(k |  i) / P(k  |  j)$."
   ]
  },
  {
   "cell_type": "code",
   "execution_count": null,
   "metadata": {},
   "outputs": [],
   "source": [
    "def query(word_i: str, word_j: str, vocab: Dict[str, int], probability_matrix: torch.FloatTensor) -> float:  \n",
    "    i = vocab[word_i]\n",
    "    j = vocab[word_j]\n",
    "    NotImplemented\n",
    "\n",
    "def probe(word_i: str, word_j: str, word_k: str, vocab: Dict[str, int], probability_matrix: torch.FloatTensor) -> float:\n",
    "    NotImplemented"
   ]
  },
  {
   "cell_type": "markdown",
   "metadata": {},
   "source": [
    "Let's probe a few words and examine whether the authors' claim holds even for our (tiny) corpus. "
   ]
  },
  {
   "cell_type": "code",
   "execution_count": null,
   "metadata": {},
   "outputs": [],
   "source": [
    "print(probe('tea', 'wand', 'spell', vocab, P))\n",
    "print(probe('tea', 'wand', 'cup', vocab, P))\n",
    "\n",
    "print(probe('voldemort', 'hagrid', 'curse', vocab, P))\n",
    "print(probe('voldemort', 'hagrid', 'beast', vocab, P))\n",
    "\n",
    "print(probe('mcgonagall', 'snape', 'potions', vocab, P))\n",
    "print(probe('mcgonagall', 'snape', 'transfiguration', vocab, P))\n",
    "\n",
    "print(probe('hedwig', 'scabbers', 'owl', vocab, P))\n",
    "print(probe('hedwig', 'scabbers', 'rat', vocab, P))\n",
    "\n",
    "print(probe('ron', 'hermione', 'book', vocab, P))\n",
    "print(probe('ron', 'hermione', 'red', vocab, P))"
   ]
  },
  {
   "cell_type": "markdown",
   "metadata": {},
   "source": [
    "So it does seem like we are getting sensible results for in-domain words. Of course, probing out-of-domain words (such as the thermodynamics example the authors present) does not go all that well.. "
   ]
  },
  {
   "cell_type": "code",
   "execution_count": null,
   "metadata": {},
   "outputs": [],
   "source": [
    "print(probe('ice', 'steam', 'solid', vocab, P))\n",
    "print(probe('ice', 'steam', 'gas', vocab, P))"
   ]
  },
  {
   "cell_type": "markdown",
   "metadata": {},
   "source": [
    "(Take home message: HP books are probably not the best textbook on thermodynamics)"
   ]
  },
  {
   "cell_type": "markdown",
   "metadata": {},
   "source": [
    "## Dense Vectors\n",
    "\n",
    "Now, we would like to convert these long, spare vectors into short, dense ones. \n",
    "\n",
    "The conversion should be such that the probability ratios we inspected earlier may still be reconstructed via some (for now, unknown) operation $F$ on the dense vectors.\n",
    "\n",
    "To restrict the search space over potential functions, the authors impose a number of constraints they think $F$ should satisfy:\n",
    "1. > While $F$ could be taken to be a complicated function parameterized by, e.g., a neural network, doing so would obfuscate the linear structure we are trying to capture. $F$ should be dot-product based.\n",
    "2. > The distinction between a word and a context word is arbitrary and we are free to exchange the two roles. To do so consistently, we must not only exchange $w \\leftrightarrow \\tilde{w}$ but also $X \\leftrightarrow X^T$.\n",
    "3. > It should be well-defined for all values in $X$.\n",
    "\n",
    "Given these three constraints, each word $i$ of our vocabulary is represented by four vectors:\n",
    "1. A vector $w_i \\in \\mathbb{R}^D$\n",
    "2. A bias $b_i \\in \\mathbb{R}$\n",
    "3. A context vector $\\tilde{w}_i \\in \\mathbb{R}^D$\n",
    "4. A context bias $\\tilde{b}_i \\in \\mathbb{R}$\n",
    "\n",
    "and $F: \\mathbb{R}^D \\times \\mathbb{R} \\times \\mathbb{R}^D \\times \\mathbb{R} \\to \\mathbb{R}$ is defined as:\n",
    "\n",
    "$F(w_i, \\tilde{w}_j, b_i, \\tilde{b}_k) = w_i^T\\tilde{w}_k + b_i + \\tilde{b}_k$\n",
    "\n",
    "such that $F(w_i, \\tilde{w}_k, b_i, \\tilde{b}_k)$ approximates $log(\\mathbf{X}_{ik})$, \n",
    "\n",
    "or equivallently the least squares error $J$ is minimized, where:\n",
    "\n",
    "$J = \\sum_{i,j=1}^{V} f(X_{ij})(w_{i}^T\\tilde{w}_j + b_i + \\tilde{b}_j - log(X_{ij}))^2$ the loss term\n",
    "\n",
    "and \n",
    "\n",
    "$f: \\mathbb{R} \\to \\mathbb{R} = \\begin{cases}\n",
    "    (x/x_{max})^a, & \\text{if $x<x_{max}$}\\\\\n",
    "    1, & \\text{otherwise}.\n",
    "  \\end{cases}$ a term weighting function "
   ]
  },
  {
   "cell_type": "markdown",
   "metadata": {},
   "source": [
    "### Assignment 1.3: Weighting Function\n",
    "\n",
    "Let's start with the last part. Complete the weighting function `weight_fn` which accepts a co-occurrence matrix $\\mathbf{X}$, a maximum value $x_{max}$ and a fractional power $a$, and returns the weighted co-occurrence matrix $f(\\mathbf{X})$.\n",
    "\n",
    "Then, compute `X_weighted`, the weighting of $\\mathbf{X}$, for $x_{max} = 100$ and $ a = \\frac{3}{4}$\n",
    "\n",
    "_Hint_: Note that $f$ is defined point-wise, so our weighting function should also be point-wise."
   ]
  },
  {
   "cell_type": "code",
   "execution_count": null,
   "metadata": {},
   "outputs": [],
   "source": [
    "def weight_fn(X: torch.FloatTensor, x_max: int, a: float) -> torch.FloatTensor:\n",
    "    NotImplemented\n",
    "\n",
    "X_weighted = weight_fn(X, x_max=100, a=3/4)"
   ]
  },
  {
   "cell_type": "markdown",
   "metadata": {},
   "source": [
    "### Assignment 1.4: Loss Function\n",
    "\n",
    "Next step is to write the loss function. \n",
    "\n",
    "We can write it as a point-wise function, apply it iteratively over each pair of words and then sum the result; that's however extremely inefficient. \n",
    "\n",
    "Inspecting the formulation of $J$, it is fairly straight-forward to see that it can be immediately implemented using matrix-matrix operations, as:\n",
    "\n",
    "$J = \\sum_{i,j=1}^{V}f(\\mathbf{X})(W\\tilde{W}^T + b + \\tilde{b} - log(X))^2$,\n",
    "\n",
    "where $W$, $\\tilde{W}$ the $N \\times D$ matrices containing the $D$-dimensional vectors of all our $N$ vocabulary words, and $b$, $\\tilde{b}$ the $N \\times 1$ matrices containing the $1$-dimensional biases of our words.\n",
    "\n",
    "Complete `loss_fn`, a function that accepts a weighted co-occurrence matrix $f(\\mathbf{X})$, the word vectors and biases $W$, $\\tilde{W}$, $b$, $\\tilde{b}$ and the co-occurrence matrix $\\mathbf{X}$, and computes $J$.\n",
    "\n",
    "Make sure that your completed `loss_fn` passes the `shape_test` function before you move on; if it does not, your math is wrong!"
   ]
  },
  {
   "cell_type": "code",
   "execution_count": null,
   "metadata": {},
   "outputs": [],
   "source": [
    "def loss_fn(X_weighted: torch.FloatTensor, W: torch.FloatTensor, W_context: torch.FloatTensor, \n",
    "            B: torch.FloatTensor, B_context: torch.FloatTensor, \n",
    "            X: torch.FloatTensor) -> torch.FloatTensor:\n",
    "    NotImplemented\n",
    "\n",
    "\n",
    "six_float_tensors = [torch.FloatTensor] * 6\n",
    "def shape_test(loss_fn: Callable[six_float_tensors, torch.FloatTensor]) -> bool:\n",
    "    n = 100\n",
    "    d = 12\n",
    "    rand_xw = torch.rand(n, n)\n",
    "    rand_w = torch.rand(n, d)\n",
    "    rand_wc = torch.rand(n, d)\n",
    "    rand_b = torch.rand(n, 1)\n",
    "    rand_bc = torch.rand(n, 1)\n",
    "    rand_x = torch.rand(n, n)\n",
    "   try:\n",
    "        loss = loss_fn(rand_xw, rand_w, rand_wc, rand_b, rand_bc, rand_x)\n",
    "        if loss.shape == torch.Size([]):\n",
    "            return True\n",
    "        else:\n",
    "            return False\n",
    "    except IndexError:\n",
    "        return False\n",
    "shape_test(loss_fn)"
   ]
  },
  {
   "cell_type": "markdown",
   "metadata": {},
   "source": [
    "### Assignment 1.5: GloVe\n",
    "\n",
    "We have the normalized co-occurrence matrix $\\mathbf{X}$, the weighting function $f$, and the loss function $J$ that implements $F$.\n",
    "\n",
    "What we need now is a mapping from words (or word ids) to unique, parametric and trainable vectors. \n",
    "\n",
    "Torch provides this abstraction in the form of [Embedding layers](https://pytorch.org/docs/stable/nn.html#embedding). Each such layer may be viewed as a stand-alone network, that can be optimized using the standard procedure we have already seen. \n",
    "\n",
    "We will instead contain them into a larger network that will be responsible for a few things:\n",
    "1. It wraps the embedding layers:\n",
    "    1. A vector embedding that maps words to $w \\in \\mathbb{R}^D$\n",
    "    1. A context vector embedding that maps words to $w_c \\in \\mathbb{R}^D$\n",
    "    1. A bias embedding that maps words to $b \\in \\mathbb{R}^1$\n",
    "    1. A context bias embedding that maps words to $b_c \\in \\mathbb{R}^1$\n",
    "1. It implements `forward`, a function that accepts a weighted co-occurrence matrix $f(\\mathbf{X})$, the co-occurrence matrix $\\mathbf{X}$, then computes the embeddings of all words and finally calls `loss_fn` as defined above.\n",
    "1. It implements `get_vectors`, a function that receives no input and produces the word vectors and context word vectors of all words, adds them together and returns the result, in accordance with the paper:\n",
    "> .. With this in mind, we choose to use the sum $W + \\tilde{W}$ as our word vectors.\n",
    "\n",
    "Complete the network class following the above specifications.\n"
   ]
  },
  {
   "cell_type": "code",
   "execution_count": null,
   "metadata": {},
   "outputs": [],
   "source": [
    "class GloVe(torch.nn.Module):\n",
    "    def __init__(self, vocab: Dict[str, int], vector_dimensionality: int=30, device: str='cpu') -> None:\n",
    "        super(GloVe, self).__init__()\n",
    "        self.device = device\n",
    "        self.vocab_len = len(vocab)\n",
    "        self.w = torch.nn.Embedding(num_embeddings = self.vocab_len, embedding_dim=vector_dimensionality).to(self.device)\n",
    "        self.wc = NotImplemented\n",
    "        self.b = NotImplemented\n",
    "        self.bc = NotImplemented\n",
    "        \n",
    "    def forward(self, X_weighted: torch.FloatTensor, X: torch.FloatTensor) -> torch.FloatTensor:\n",
    "        embedding_input = torch.arange(self.vocab_len).to(self.device)\n",
    "        W = self.w(embedding_input)\n",
    "        Wc = NotImplemented\n",
    "        B = NotImplemented\n",
    "        Bc = NotImplemented\n",
    "        return NotImplemented\n",
    "    \n",
    "    def get_vectors(self):\n",
    "        embedding_input = torch.arange(self.vocab_len).to(self.device)\n",
    "        W = NotImplemented\n",
    "        Wc = NotImplemented\n",
    "        return W + Wc"
   ]
  },
  {
   "cell_type": "markdown",
   "metadata": {},
   "source": [
    "### Assignment 1.6: Training\n",
    "\n",
    "Everything is in place; now we may begin optimizing our embedding layers (and in doing so, the vectors they assign). Instantiate the network class you just defined, using $D = 30$. Then instantiate an `Adam` optimizer with a learning rate of 0.05 and train your network for 300 epochs.\n",
    "\n",
    "When writing the training script, remember that your network's forward pass is __already__ computing the loss."
   ]
  },
  {
   "cell_type": "code",
   "execution_count": null,
   "metadata": {},
   "outputs": [],
   "source": [
    "network = NotImplemented\n",
    "opt = NotImplemented\n",
    "\n",
    "num_epochs = 300\n",
    "\n",
    "for i in range(num_epochs):\n",
    "    NotImplemented # compute loss (optionally print)\n",
    "    NotImplemented # backward\n",
    "    NotImplemented # optimizer step\n",
    "    NotImplemented # zero grads"
   ]
  },
  {
   "cell_type": "markdown",
   "metadata": {},
   "source": [
    "### Assignment 1.7: Validation (Similarity)\n",
    "\n",
    "Curious to see what this network has learned? Let's perform a simple validation experiment. \n",
    "\n",
    "We will check which words the models considers the most similar to other words. To that end, we need a notion of __similarity__. One of the most common measures of similarity in high dimensional vector spaces is the cosine similarity. \n",
    "\n",
    "The cosine similarity of two vectors $\\vec{a}, \\vec{b}$ is given as:\n",
    "$$sim(\\vec{a}, \\vec{b}) = \\frac{\\vec{a}\\cdot \\vec{b}}{|\\vec{a}| \\cdot |\\vec{b}|}$$\n",
    "\n",
    "where $|\\vec{x}|$ the length of $\\vec{x}$.\n",
    "\n",
    "The function `similarity` below accepts two words, a vocabulary and the network's output vectors, and computes the similarity between these two words."
   ]
  },
  {
   "cell_type": "code",
   "execution_count": null,
   "metadata": {},
   "outputs": [],
   "source": [
    "def similarity(word_i: str, word_j: str, vocab: Dict[str, int], vectors: torch.FloatTensor) -> float:\n",
    "    i = vocab[word_i]\n",
    "    j = vocab[word_j] \n",
    "    v_i = vectors[i] / torch.norm(vectors[i], p=2)  # a/|a|\n",
    "    v_j = vectors[j] / torch.norm(vectors[j], p=2)  # b/|b|\n",
    "    sim = torch.mm(v_i.view(1, -1), v_j.view(-1, 1)).item()\n",
    "    return sim"
   ]
  },
  {
   "cell_type": "markdown",
   "metadata": {},
   "source": [
    "Let's see some examples (try your own word pairs):"
   ]
  },
  {
   "cell_type": "code",
   "execution_count": null,
   "metadata": {},
   "outputs": [],
   "source": [
    "word_vectors = network.get_vectors().detach()\n",
    "\n",
    "for pair in [('cruciatus', 'imperius'), \n",
    "             ('avada', 'kedavra'), \n",
    "             ('hogwarts', 'school'), \n",
    "             ('evil', 'hagrid'), \n",
    "             ('good', 'hagrid')]:\n",
    "    \n",
    "    print('Similarity between {} and {} is: {}'.\n",
    "          format(pair[0], pair[1], similarity(pair[0], pair[1], vocab, word_vectors)))"
   ]
  },
  {
   "cell_type": "markdown",
   "metadata": {},
   "source": [
    "To obtain the similarities of one word against all other words in the corpus, we may rewrite the above equation as:\n",
    "$$sim(\\vec{w}, \\mathbf{C}) = \\frac{\\vec{w}\\cdot \\mathbf{C}}{|\\vec{w}| \\cdot |\\mathbf{C}|}$$\n",
    "\n",
    "Using `similarity` as a reference, write `similarities`, which accepts one word, a vocabulary and the network's output vectors and computes the similarity between the word and the entire corpus.\n",
    "\n",
    "_Hint_: $\\mathbf{C} \\in \\mathbb{R}^{N, D}$, $\\vec{w} \\in \\mathbb{R}^{1, D}$, $sim(\\vec{w}, \\mathbf{C}) \\in \\mathbb{R}^{1, N}$"
   ]
  },
  {
   "cell_type": "code",
   "execution_count": null,
   "metadata": {},
   "outputs": [],
   "source": [
    "def similarities(word_i: str, vocab: Dict[str, int], vectors: torch.FloatTensor) -> torch.FloatTensor:\n",
    "    NotImplemented"
   ]
  },
  {
   "cell_type": "markdown",
   "metadata": {},
   "source": [
    "Now we can manipulate the word vectors to find out what the corpus-wide most similar words to a query word is!"
   ]
  },
  {
   "cell_type": "code",
   "execution_count": null,
   "metadata": {},
   "outputs": [],
   "source": [
    "def most_similar(word_i: str, vocab: Dict[str, int], vectors: torch.FloatTensor, k: int) -> List[str]:\n",
    "    sims = similarities(word_i, vocab, vectors)\n",
    "    _, topi = argmax_top_k(sims, k)\n",
    "    topi = topi.cpu().numpy().tolist()\n",
    "    inv = {v: i for i, v in vocab.items()}\n",
    "    return [inv[i[0]] for i in topi]\n",
    "    \n",
    "def argmax_top_k(x, k: int):\n",
    "    copy = x.clone().detach().requires_grad_(False)\n",
    "    retv, reti = [], []\n",
    "    for repeat in range(k):\n",
    "        values, indices = torch.max(copy, dim=-1)\n",
    "        mask = torch.arange(x.size(-1), device=x.device).reshape(1, -1) == indices.unsqueeze(-1)\n",
    "        copy[mask] = -float('inf')\n",
    "        retv.append(values)\n",
    "        reti.append(indices)\n",
    "    retv, reti = torch.stack(retv), torch.stack(reti)\n",
    "    return retv, reti"
   ]
  },
  {
   "cell_type": "code",
   "execution_count": null,
   "metadata": {},
   "outputs": [],
   "source": [
    "for word in ['forbidden', 'myrtle', 'gryffindor', 'wand', 'quidditch', 'marauder', 'horcrux', 'phoenix', 'triwizard', 'screaming',\n",
    "            'letter'\n",
    "            ]:\n",
    "    print('Most similar words to {}: {}'.format(word, most_similar(word, vocab, word_vectors, 6)))"
   ]
  },
  {
   "cell_type": "markdown",
   "metadata": {},
   "source": [
    "Quite impressive; we managed to encode a meaningful portion of the corpus statistics in such $30$ numbers in each word! \n",
    "(A compression ratio of 99.4%)\n",
    "\n",
    "<div class=\"alert alert-block alert-warning\">\n",
    "<b>Note:</b> The word vectors obtained by this process are (to a small extent) random, due to the random initialization of the embedding layers. If you are unhappy with your results, you can repeat the experiment a few times or try to toy around with the hyper-parameters (the smoothing factor of $\\mathbf{X}$, $x_{max}$, $a$, the number of epochs and the dimensionality of the vector space).\n",
    "</div>\n",
    "\n",
    "Word vectors, however, can contain way more information than just word co-occurrence statistics. Hold tight until the next assignment, where we will see how word vectors may be used to infer information spanning entire phrases and sentences.\n",
    "\n",
    "If you feel like probing the results some more, continue on with the bonus assignments."
   ]
  },
  {
   "cell_type": "markdown",
   "metadata": {},
   "source": [
    "### Assignment 1.8: Shortcomings\n",
    "Evidently, GloVe offers a simple and computationally efficient means to construct dense word representations.\n",
    "However, the means of vectorization suffers from a few important shortcomings.\n",
    "Can you imagine what these are? Write a few sentences each on at least two of them."
   ]
  },
  {
   "cell_type": "markdown",
   "metadata": {},
   "source": [
    "Write your answer here. "
   ]
  },
  {
   "cell_type": "markdown",
   "metadata": {},
   "source": [
    "### Assignment 1.9 (BONUS part): Validation (Word Analogies)\n",
    "\n",
    "From the paper:\n",
    "> The word analogy task consists of questions like \"_a_ is to _b_ as is _c_ to ?\" To correctly answer this question, we must find the word d such that $w_d \\approx w_b - w_a + w_c$ according to the cosine similarity.\n",
    "\n",
    "Write your own function that performs the word analogy task.\n",
    "\n",
    "_Hint_: Take a look at the code a few cells back. Most of what you need is already there."
   ]
  },
  {
   "cell_type": "code",
   "execution_count": null,
   "metadata": {},
   "outputs": [],
   "source": [
    "def analogy(word_a: str, word_b: str, word_c: str, vocab: Dict[str, int], vectors: torch.FloatTensor, k: int) -> str:\n",
    "    NotImplemented"
   ]
  },
  {
   "cell_type": "markdown",
   "metadata": {},
   "source": [
    "Some example triplets to test your analogies on."
   ]
  },
  {
   "cell_type": "code",
   "execution_count": null,
   "metadata": {},
   "outputs": [],
   "source": [
    "triplets = [('padma', 'parvati', 'fred'),\n",
    "            ('avada', 'kedavra', 'expecto'),\n",
    "            ('dungeon', 'slytherin', 'tower'),\n",
    "            ('scabbers', 'ron', 'hedwig'),\n",
    "            ('ron', 'molly', 'draco'),\n",
    "            ('durmstrang', 'viktor', 'beauxbatons'),\n",
    "            ('snape', 'potions', 'trelawney'),\n",
    "            ('harry', 'seeker', 'ron')\n",
    "           ]\n",
    "\n",
    "for a, b, c in triplets:\n",
    "    print('{} is to {} as {} is to {}'.format(a, b, c, analogy(a, b, c, vocab, word_vectors, 6)))"
   ]
  },
  {
   "cell_type": "markdown",
   "metadata": {},
   "source": [
    "Some minimal emergent intelligence :)"
   ]
  },
  {
   "cell_type": "markdown",
   "metadata": {},
   "source": [
    "🧙‍♀️"
   ]
  }
 ],
 "metadata": {
  "kernelspec": {
   "display_name": "Python 3",
   "language": "python",
   "name": "python3"
  },
  "language_info": {
   "codemirror_mode": {
    "name": "ipython",
    "version": 3
   },
   "file_extension": ".py",
   "mimetype": "text/x-python",
   "name": "python",
   "nbconvert_exporter": "python",
   "pygments_lexer": "ipython3",
   "version": "3.7.1"
  }
 },
 "nbformat": 4,
 "nbformat_minor": 2
}
