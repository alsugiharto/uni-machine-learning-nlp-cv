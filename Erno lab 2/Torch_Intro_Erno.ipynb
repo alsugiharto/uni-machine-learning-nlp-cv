{
 "cells": [
  {
   "cell_type": "markdown",
   "metadata": {},
   "source": [
    "# 🔥 Torch Intro  for Advance Topics in Cog. Sci. 🔥\n",
    "\n",
    "This notebook is meant to give a short introduction to Pytorch.\n",
    "**You do not have to hand in this tutorial.**"
   ]
  },
  {
   "cell_type": "markdown",
   "metadata": {},
   "source": [
    "## What is PyTorch?\n",
    "PyTorch is a python deep learning library that is being widely adopted both in research and industry. Like most deep learning libraries it employs GPU accelaration; unlike most deep learning libraries, it supports **dynamic** computational graphs and deep python integration, enabling easy experimentation and code inspection. It provides high-level abstractions but also allows for low-level access to its primitives. You can read more about PyTorch at the official [site](https://pytorch.org/).\n",
    "\n",
    "## Installing PyTorch on your machine\n",
    "Follow the official guidelines for installing [here](https://pytorch.org/get-started/locally/).\n",
    "\n",
    "<div class=\"alert alert-block alert-info\">\n",
    "<b>Note:</b> If you have an nVidia GPU (Graphical Processing Unit, or Video Card), installing a CUDA version of PyTorch will allow you to utilize it, with the potential to significant speed up computation in many cases.\n",
    "</div>\n",
    "\n",
    "# This Tutorial\n",
    "This tutorial will take you through PyTorch's main functionalities. It only aims to give you some insight on how to use PyTorch and is by no means a full tutorial on neural networks or PyTorch. We assume that you have some level of familiarity with python. \n",
    "\n",
    "\n",
    "# Table of Contents\n",
    "1. [Tensors](#1)\n",
    "    1. [Tensor Types](#1a)\n",
    "    2. [Instantiating Tensors](#1b)\n",
    "    3. [Basic Tensor Operations](#1c)\n",
    "    4. [Exercises](#1d)\n",
    "2. [Automatic Differentation](#2)\n",
    "    1. [Autograd](#2a)\n",
    "    2. [Exercises](#2b)\n",
    "3. [Neural Networks](#3)\n",
    "    1. [Custom Neural Networks](#3a)\n",
    "    2. [Loss Functions](#3b)\n",
    "    3. [Optimizers](#3c)\n",
    "    4. [Exercises](#3d)\n",
    "4. [Putting Everything Together](#4)\n",
    "\n",
    "\n",
    "For a more in-depth overview of PyTorch's capabilities, refer to the [official documentation](https://pytorch.org/docs/stable/index.html) (this link will prove handy for your assignments-- keep it close and use it often).\n",
    "\n",
    "---"
   ]
  },
  {
   "cell_type": "markdown",
   "metadata": {},
   "source": [
    "#### Getting started\n",
    "Let's verify your torch installation is working by trying to import it."
   ]
  },
  {
   "cell_type": "code",
   "execution_count": 1,
   "metadata": {},
   "outputs": [],
   "source": [
    "import torch"
   ]
  },
  {
   "cell_type": "markdown",
   "metadata": {},
   "source": [
    "We can also specify the device used by the rest of the tutorial (either cuda or cpu, for example). If you have the cuda version installed but would rather not use it, change the snippet below."
   ]
  },
  {
   "cell_type": "code",
   "execution_count": 4,
   "metadata": {},
   "outputs": [
    {
     "name": "stdout",
     "output_type": "stream",
     "text": [
      "Using cuda\n"
     ]
    }
   ],
   "source": [
    "if torch.cuda.is_available():\n",
    "    device = 'cuda'\n",
    "else:\n",
    "    device = 'cpu'\n",
    "\n",
    "print('Using {}'.format(device))"
   ]
  },
  {
   "cell_type": "markdown",
   "metadata": {},
   "source": [
    "Ok! On to the tutorial now.\n",
    "\n",
    "<a id='1'></a>\n",
    "## 1. Tensors\n",
    "\n",
    "A [Tensor](https://pytorch.org/docs/stable/tensors.html) is the building block of any PyTorch program; it is the abstraction that stores n-dimentional matrices, or n-ary arrays of numbers, and provides various functionalities for processing them. \n",
    "\n",
    "Tensors are the Torch equivalent of **Numpy arrays**, but crucially, they can also be used on a GPU (Video card). This can make your calculations a lot faster. Since they are so similar, you can actually convert most tensors to Numpy arrays (and back), but we won't need to do that so often.\n",
    "\n",
    "\n",
    "\n",
    "<a id='1a'></a>\n",
    "### A. Tensor Types\n",
    "\n",
    "There are 16 types of Tensors, distinguished by their `dtypes` (the sort of numbers stored within them) and the `device` they can be accessed by (either GPU or CPU).\n",
    "\n",
    "\n",
    "\n",
    "The different Tensor types and their corresponding classes are listed below:\n",
    "\n",
    "|  | dtype | CPU Tensor Class | GPU Tensor Class |\n",
    "| --- | --- | --- | --- |\n",
    "| Full precision float | `torch.float32` | `torch.FloatTensor` | `torch.cuda.FloatTensor`| \n",
    "| Half precision float | `torch.float16` | `torch.HalfTensor` | `torch.cuda.HalfTensor` |\n",
    "| Double precision float | `torch.float64` | `torch.DoubleTensor` | `torch.cuda.DoubleTensor` |\n",
    "| 8-bit unsigned integer | `torch.uint8` | `torch.ByteTensor` | `torch.cuda.ByteTensor` |\n",
    "| 8-bit signed integer | `torch.int8` | `torch.CharTensor` | `torch.CharTensor` |\n",
    "| 16-bit signed integer | `torch.int16` | `torch.ShortTensor` | `torch.cuda.ShortTensor` |\n",
    "| 32-bit signed integer | `torch.int32` | `torch.IntTensor` | `torch.cuda.IntTensor` |\n",
    "| 64-bit signed integer | `torch.int64` | `torch.LongTensor` | `torch.cuda.LongTensor` |\n",
    "\n",
    "We are mostly interested in **full precision floats** and **long integers** (on either device), so we can forget about the rest of them for now.\n",
    "\n",
    "<div class=\"alert alert-block alert-warning\">\n",
    "<b>Warning:</b>\n",
    "Interaction between Tensors of different devices or dtypes is not permitted (so make sure you are consistent). \n",
    "</div>"
   ]
  },
  {
   "cell_type": "markdown",
   "metadata": {},
   "source": [
    "<a id='1b'></a>\n",
    "### B. Instantiating Tensors\n",
    "Tensors can be instantiated in a number of ways. When we want to construct a placeholder tensor of fixed dimensionality, we may simply call the appropriate class constructor."
   ]
  },
  {
   "cell_type": "code",
   "execution_count": 6,
   "metadata": {},
   "outputs": [],
   "source": [
    "my_first_long_tensor = torch.LongTensor(5)  # a vector of 5 longs\n",
    "my_first_float_tensor = torch.FloatTensor(5,5)  # a 5 by 5 matrix of floats"
   ]
  },
  {
   "cell_type": "markdown",
   "metadata": {},
   "source": [
    "Alternatively, we may use the abstract constructor `torch.tensor` and use the `dtype` and `device` arguments to specify its type (these default to torch.float and cpu, in the general case)."
   ]
  },
  {
   "cell_type": "code",
   "execution_count": 7,
   "metadata": {},
   "outputs": [],
   "source": [
    "my_second_long_tensor = torch.tensor(5, device='cpu', dtype=torch.long) # another vector of 5 longs\n",
    "my_second_float_tensor = torch.tensor((5, 5), device='cpu', dtype=torch.float)"
   ]
  },
  {
   "cell_type": "markdown",
   "metadata": {},
   "source": [
    "There are a few useful short-hands for constructing tensors with commonly used values. Let's use some of them."
   ]
  },
  {
   "cell_type": "code",
   "execution_count": 8,
   "metadata": {},
   "outputs": [],
   "source": [
    "a = torch.zeros((2,3,4), device=device)  # a 2 by 3 by 4 tensor of zeroes\n",
    "b = torch.ones(42, device=device)  # a vector of 42 ones\n",
    "c = torch.eye(3, device=device)  # the 3 by 3 identity matrix\n",
    "d = torch.rand((32,10,300), device=device)  # a 32 by 10 by 300 tensor of randoms\n",
    "e = torch.arange(10, device=device)  # a vector containing the numbers 0 to 9 in ascending order"
   ]
  },
  {
   "cell_type": "markdown",
   "metadata": {},
   "source": [
    "We can always query a tensor's contents, shape, dtype and device."
   ]
  },
  {
   "cell_type": "code",
   "execution_count": 9,
   "metadata": {},
   "outputs": [
    {
     "name": "stdout",
     "output_type": "stream",
     "text": [
      "cuda:0\n",
      "torch.float32\n",
      "tensor([[1., 0., 0.],\n",
      "        [0., 1., 0.],\n",
      "        [0., 0., 1.]], device='cuda:0')\n",
      "torch.Size([32, 10, 300])\n",
      "tensor([0, 1, 2, 3, 4, 5, 6, 7, 8, 9], device='cuda:0')\n"
     ]
    }
   ],
   "source": [
    "print(a.device)\n",
    "print(b.dtype)\n",
    "print(c)\n",
    "print(d.shape)\n",
    "print(e)"
   ]
  },
  {
   "cell_type": "markdown",
   "metadata": {},
   "source": [
    "We can also specify the values of a tensor by passing a list (of lists*) of values during its construction."
   ]
  },
  {
   "cell_type": "code",
   "execution_count": 10,
   "metadata": {},
   "outputs": [
    {
     "name": "stdout",
     "output_type": "stream",
     "text": [
      "tensor([[1, 2, 3],\n",
      "        [4, 5, 6],\n",
      "        [7, 8, 9]], device='cuda:0')\n",
      "torch.Size([3, 3])\n",
      "torch.int64\n"
     ]
    }
   ],
   "source": [
    "a = torch.tensor([[1,2,3], [4,5,6], [7,8,9]], device=device)\n",
    "print(a)\n",
    "print(a.shape)\n",
    "print(a.dtype)"
   ]
  },
  {
   "cell_type": "markdown",
   "metadata": {},
   "source": [
    "Notice that PyTorch automatically assumed that the tensor we specified should be of type long (because we only provided integers as the tensor's contents). We could of course avoid this by manually specifying the dtype. Alternatively, we can alter the dtype and/or device post-construction."
   ]
  },
  {
   "cell_type": "code",
   "execution_count": 11,
   "metadata": {},
   "outputs": [
    {
     "name": "stdout",
     "output_type": "stream",
     "text": [
      "torch.float32\n",
      "cpu\n"
     ]
    }
   ],
   "source": [
    "a = a.to(torch.float)\n",
    "print(a.dtype)\n",
    "a = a.to('cpu')  # or alternatively, a = a.cpu()\n",
    "print(a.device)"
   ]
  },
  {
   "cell_type": "markdown",
   "metadata": {},
   "source": [
    "Finally, a torch tensor can also be directy constructed by (or converted to) a numpy array. Converting to a numpy array only works for _cpu_ tensors."
   ]
  },
  {
   "cell_type": "code",
   "execution_count": 12,
   "metadata": {},
   "outputs": [
    {
     "name": "stdout",
     "output_type": "stream",
     "text": [
      "[[0.32227841 0.30699415]\n",
      " [0.46769743 0.53776464]]\n",
      "tensor([[0.3223, 0.3070],\n",
      "        [0.4677, 0.5378]], device='cuda:0', dtype=torch.float64)\n",
      "[[0.32227841 0.30699415]\n",
      " [0.46769743 0.53776464]]\n"
     ]
    }
   ],
   "source": [
    "import numpy as np\n",
    "a_np = np.random.random((2,2))\n",
    "a_torch = torch.tensor(a_np, device=device)\n",
    "print(a_np)\n",
    "print(a_torch)\n",
    "a_np_2 = a_torch.cpu().numpy()\n",
    "print(a_np_2)"
   ]
  },
  {
   "cell_type": "code",
   "execution_count": 13,
   "metadata": {},
   "outputs": [],
   "source": [
    "del a_np, a_torch, a_np_2, b, c, d, my_first_long_tensor, my_first_float_tensor, my_second_long_tensor, my_second_float_tensor, e"
   ]
  },
  {
   "cell_type": "markdown",
   "metadata": {},
   "source": [
    "<a id='1c'></a>\n",
    "### C. Basic Tensor Operations\n",
    "Tensors and their contents' are not hidden by the framework-- they are immediatelly accessible to us and we can interact with them in many ways, while being able to inspect the results of our actions. Let's walk through some of the most common usecases."
   ]
  },
  {
   "cell_type": "markdown",
   "metadata": {},
   "source": [
    "#### Indexing and Slicing\n",
    "Standard python indexing and slicing applies to torch tensors. Let's remember how that works-- first we will need a random matrix to experiment with."
   ]
  },
  {
   "cell_type": "code",
   "execution_count": 14,
   "metadata": {},
   "outputs": [
    {
     "name": "stdout",
     "output_type": "stream",
     "text": [
      "tensor([[0.1718, 0.4417, 0.6540],\n",
      "        [0.5888, 0.6311, 0.4998],\n",
      "        [0.8931, 0.0894, 0.6956],\n",
      "        [0.5364, 0.6381, 0.0902],\n",
      "        [0.6364, 0.8466, 0.7197]], device='cuda:0')\n"
     ]
    }
   ],
   "source": [
    "a = torch.rand((5,3), device=device)  \n",
    "print(a)"
   ]
  },
  {
   "cell_type": "markdown",
   "metadata": {},
   "source": [
    "<div class=\"alert alert-block alert-warning\">\n",
    "<b>Remember!</b>\n",
    "Indexing starts from zero\n",
    "</div>\n",
    "\n",
    "Now let's try retrieving the 3rd item of the 1st row."
   ]
  },
  {
   "cell_type": "code",
   "execution_count": 15,
   "metadata": {},
   "outputs": [
    {
     "name": "stdout",
     "output_type": "stream",
     "text": [
      "tensor(0.6540, device='cuda:0')\n"
     ]
    }
   ],
   "source": [
    "b = a[0][2]\n",
    "print(b)"
   ]
  },
  {
   "cell_type": "markdown",
   "metadata": {},
   "source": [
    "What if we wanted the first three rows of the matrix instead?"
   ]
  },
  {
   "cell_type": "code",
   "execution_count": 16,
   "metadata": {},
   "outputs": [
    {
     "name": "stdout",
     "output_type": "stream",
     "text": [
      "tensor([[0.1718, 0.4417, 0.6540],\n",
      "        [0.5888, 0.6311, 0.4998],\n",
      "        [0.8931, 0.0894, 0.6956]], device='cuda:0')\n"
     ]
    }
   ],
   "source": [
    "c = a[:3]\n",
    "print(c)"
   ]
  },
  {
   "cell_type": "markdown",
   "metadata": {},
   "source": [
    "Or its third column?"
   ]
  },
  {
   "cell_type": "code",
   "execution_count": 17,
   "metadata": {},
   "outputs": [
    {
     "name": "stdout",
     "output_type": "stream",
     "text": [
      "tensor([0.6540, 0.4998, 0.6956, 0.0902, 0.7197], device='cuda:0')\n"
     ]
    }
   ],
   "source": [
    "c = a[:, 2]\n",
    "print(c)"
   ]
  },
  {
   "cell_type": "markdown",
   "metadata": {},
   "source": [
    "Or every second element of the first column, starting from the second?"
   ]
  },
  {
   "cell_type": "code",
   "execution_count": 18,
   "metadata": {},
   "outputs": [
    {
     "name": "stdout",
     "output_type": "stream",
     "text": [
      "tensor([0.5888, 0.5364], device='cuda:0')\n"
     ]
    }
   ],
   "source": [
    "c = a[1::2, 0]\n",
    "print(c)"
   ]
  },
  {
   "cell_type": "markdown",
   "metadata": {},
   "source": [
    "But now in reverse, starting from the last?!"
   ]
  },
  {
   "cell_type": "code",
   "execution_count": 19,
   "metadata": {},
   "outputs": [
    {
     "ename": "ValueError",
     "evalue": "negative step not yet supported",
     "output_type": "error",
     "traceback": [
      "\u001b[1;31m---------------------------------------------------------------------------\u001b[0m",
      "\u001b[1;31mValueError\u001b[0m                                Traceback (most recent call last)",
      "\u001b[1;32m<ipython-input-19-750cb89b0dfc>\u001b[0m in \u001b[0;36m<module>\u001b[1;34m\u001b[0m\n\u001b[1;32m----> 1\u001b[1;33m \u001b[0mc\u001b[0m \u001b[1;33m=\u001b[0m \u001b[0ma\u001b[0m\u001b[1;33m[\u001b[0m\u001b[1;33m-\u001b[0m\u001b[1;36m1\u001b[0m\u001b[1;33m:\u001b[0m\u001b[1;33m:\u001b[0m\u001b[1;33m-\u001b[0m\u001b[1;36m2\u001b[0m\u001b[1;33m,\u001b[0m \u001b[1;36m0\u001b[0m\u001b[1;33m]\u001b[0m\u001b[1;33m\u001b[0m\u001b[1;33m\u001b[0m\u001b[0m\n\u001b[0m\u001b[0;32m      2\u001b[0m \u001b[0mprint\u001b[0m\u001b[1;33m(\u001b[0m\u001b[0mc\u001b[0m\u001b[1;33m)\u001b[0m\u001b[1;33m\u001b[0m\u001b[1;33m\u001b[0m\u001b[0m\n",
      "\u001b[1;31mValueError\u001b[0m: negative step not yet supported"
     ]
    }
   ],
   "source": [
    "c = a[-1::-2, 0]\n",
    "print(c)"
   ]
  },
  {
   "cell_type": "markdown",
   "metadata": {},
   "source": [
    "Well, perhaps not.."
   ]
  },
  {
   "cell_type": "markdown",
   "metadata": {},
   "source": [
    "#### Value Assignment\n",
    "We can use the exact same scheme to assign values to tensors."
   ]
  },
  {
   "cell_type": "code",
   "execution_count": 20,
   "metadata": {},
   "outputs": [
    {
     "name": "stdout",
     "output_type": "stream",
     "text": [
      "tensor([[0.0000, 0.4417, 0.6540],\n",
      "        [0.5888, 0.6311, 0.4998],\n",
      "        [0.8931, 0.0894, 0.6956],\n",
      "        [0.5364, 0.6381, 0.0902],\n",
      "        [0.6364, 0.8466, 0.7197]], device='cuda:0')\n",
      "tensor([[0.2294, 0.7709, 0.5634],\n",
      "        [0.1820, 0.5905, 0.4762],\n",
      "        [0.2040, 0.9476, 0.7722],\n",
      "        [0.1850, 0.2723, 0.3104],\n",
      "        [0.6925, 0.6904, 0.9992]], device='cuda:0')\n",
      "tensor([[0.0000, 0.4417, 0.6540],\n",
      "        [0.2040, 0.9476, 0.7722],\n",
      "        [0.8931, 0.0894, 0.6956],\n",
      "        [0.5364, 0.6381, 0.0902],\n",
      "        [0.6364, 0.8466, 0.7197]], device='cuda:0')\n"
     ]
    }
   ],
   "source": [
    "# Set the top left item of the matrix to zero.\n",
    "a[0,0] = 0\n",
    "print(a)\n",
    "\n",
    "# Construct another random matrix of the same shape\n",
    "b = torch.rand_like(a, device=device)\n",
    "print(b)\n",
    "\n",
    "# Set the second row of matrix a to be the third row of matrix b\n",
    "a[1] = b[2]\n",
    "print(a)"
   ]
  },
  {
   "cell_type": "markdown",
   "metadata": {},
   "source": [
    "#### Element-wise Arithmetic\n",
    "Element-wise operations (most importantly comparison, addition, subtraction, multiplication and division) can be applied on tensors of compatible shapes (i.e. shapes that can be [broadcasted](https://pytorch.org/docs/stable/notes/broadcasting.html)). \n",
    "\n",
    "Two tensors are compatible if any of the two below conditions hold:\n",
    "* their shapes are the same \n",
    "* their trailing (i.e. last) N dimensions are the same (possibly excluding missing dimensions and dimensions of size 1)\n",
    "\n",
    "Scalars (single values) are compatible with tensors of any shape. Let's see some examples."
   ]
  },
  {
   "cell_type": "markdown",
   "metadata": {},
   "source": [
    "First, some fresh tensors."
   ]
  },
  {
   "cell_type": "code",
   "execution_count": 21,
   "metadata": {},
   "outputs": [],
   "source": [
    "a = torch.zeros((2, 3, 4), device=device)  \n",
    "b = torch.ones((2, 3, 4), device=device)  \n",
    "c = torch.ones((3, 4), device=device)  \n",
    "d = torch.ones((2, 3, 1), device=device)\n",
    "e = torch.rand((4, 3, 2), device=device)"
   ]
  },
  {
   "cell_type": "markdown",
   "metadata": {},
   "source": [
    "We can add a scalar to tensor a "
   ]
  },
  {
   "cell_type": "code",
   "execution_count": 22,
   "metadata": {},
   "outputs": [
    {
     "name": "stdout",
     "output_type": "stream",
     "text": [
      "torch.Size([2, 3, 4])\n"
     ]
    }
   ],
   "source": [
    "a = a + 0.3\n",
    "print(a.shape)"
   ]
  },
  {
   "cell_type": "markdown",
   "metadata": {},
   "source": [
    "We can subtract b from a  (matching shapes)"
   ]
  },
  {
   "cell_type": "code",
   "execution_count": 23,
   "metadata": {},
   "outputs": [
    {
     "name": "stdout",
     "output_type": "stream",
     "text": [
      "torch.Size([2, 3, 4])\n"
     ]
    }
   ],
   "source": [
    "f = a - b\n",
    "print(f.shape)"
   ]
  },
  {
   "cell_type": "markdown",
   "metadata": {},
   "source": [
    "We can elementwise multiply a with c  (dimensions of c are the same as last dimensions of a)"
   ]
  },
  {
   "cell_type": "code",
   "execution_count": 24,
   "metadata": {},
   "outputs": [
    {
     "name": "stdout",
     "output_type": "stream",
     "text": [
      "torch.Size([2, 3, 4])\n"
     ]
    }
   ],
   "source": [
    "g =  a * c\n",
    "print(g.shape)"
   ]
  },
  {
   "cell_type": "markdown",
   "metadata": {},
   "source": [
    "We can elementwise divide a by d  (last dimension is 1, the rest of the dimensions match)"
   ]
  },
  {
   "cell_type": "code",
   "execution_count": 25,
   "metadata": {},
   "outputs": [
    {
     "name": "stdout",
     "output_type": "stream",
     "text": [
      "torch.Size([2, 3, 4])\n"
     ]
    }
   ],
   "source": [
    "h = a / d\n",
    "print(h.shape)"
   ]
  },
  {
   "cell_type": "markdown",
   "metadata": {},
   "source": [
    "We can elementwise raise a to d  (last dimension of d is 1, the rest of the dimensions match)"
   ]
  },
  {
   "cell_type": "code",
   "execution_count": 26,
   "metadata": {},
   "outputs": [
    {
     "name": "stdout",
     "output_type": "stream",
     "text": [
      "torch.Size([2, 3, 4])\n"
     ]
    }
   ],
   "source": [
    "i = a**d\n",
    "print(i.shape)"
   ]
  },
  {
   "cell_type": "markdown",
   "metadata": {},
   "source": [
    "And we can compare a with any of f, g, h"
   ]
  },
  {
   "cell_type": "code",
   "execution_count": 27,
   "metadata": {},
   "outputs": [
    {
     "name": "stdout",
     "output_type": "stream",
     "text": [
      "torch.Size([2, 3, 4])\n"
     ]
    }
   ],
   "source": [
    "j = a == f\n",
    "print(j.shape)"
   ]
  },
  {
   "cell_type": "markdown",
   "metadata": {},
   "source": [
    ".. but torch complains when we try to do that with e (shapes are incompatible)"
   ]
  },
  {
   "cell_type": "code",
   "execution_count": 28,
   "metadata": {},
   "outputs": [
    {
     "ename": "RuntimeError",
     "evalue": "The size of tensor a (2) must match the size of tensor b (4) at non-singleton dimension 2",
     "output_type": "error",
     "traceback": [
      "\u001b[1;31m---------------------------------------------------------------------------\u001b[0m",
      "\u001b[1;31mRuntimeError\u001b[0m                              Traceback (most recent call last)",
      "\u001b[1;32m<ipython-input-28-a2c3e750b318>\u001b[0m in \u001b[0;36m<module>\u001b[1;34m\u001b[0m\n\u001b[1;32m----> 1\u001b[1;33m \u001b[0me\u001b[0m \u001b[1;33m==\u001b[0m \u001b[0ma\u001b[0m\u001b[1;33m\u001b[0m\u001b[1;33m\u001b[0m\u001b[0m\n\u001b[0m",
      "\u001b[1;31mRuntimeError\u001b[0m: The size of tensor a (2) must match the size of tensor b (4) at non-singleton dimension 2"
     ]
    }
   ],
   "source": [
    "e == a"
   ]
  },
  {
   "cell_type": "code",
   "execution_count": 29,
   "metadata": {},
   "outputs": [],
   "source": [
    "del a, b, c, d, e, f, g, h, i, j"
   ]
  },
  {
   "cell_type": "markdown",
   "metadata": {},
   "source": [
    "If in doubt for what any of the element-wise operators actually do, try them out below on some tensors of your own making."
   ]
  },
  {
   "cell_type": "code",
   "execution_count": 33,
   "metadata": {},
   "outputs": [
    {
     "name": "stdout",
     "output_type": "stream",
     "text": [
      "tensor([[[0.2386, 0.9373, 0.5118, 0.2789],\n",
      "         [0.6266, 0.3850, 0.6063, 0.0601],\n",
      "         [0.4554, 0.3331, 0.3317, 0.6675]],\n",
      "\n",
      "        [[0.3834, 0.8169, 0.5280, 0.3134],\n",
      "         [0.3152, 0.5670, 0.1548, 0.4367],\n",
      "         [0.4928, 0.4303, 0.1936, 0.1484]]], device='cuda:0')\n",
      "tensor([[[0.8321],\n",
      "         [0.0687],\n",
      "         [0.0238]],\n",
      "\n",
      "        [[0.3244],\n",
      "         [0.4783],\n",
      "         [0.0120]]], device='cuda:0')\n"
     ]
    }
   ],
   "source": [
    "a = torch.rand((2,3,4), device=device)\n",
    "b = torch.rand((2,3,1), device=device)\n",
    "\n",
    "print(a)\n",
    "print(b)"
   ]
  },
  {
   "cell_type": "code",
   "execution_count": 34,
   "metadata": {},
   "outputs": [],
   "source": [
    "del a, b"
   ]
  },
  {
   "cell_type": "markdown",
   "metadata": {},
   "source": [
    "#### Linear Algebra\n",
    "Tensor algebra of course goes well beyond elementwise operations- matrix multiplication is the bread and butter of neural networks.  Quite often, we have an input vector $\\mathbf{x}$, and then we want to learn weights $W$ that transform that input to some output that we want. So we better get familiar with how pyTorch does it."
   ]
  },
  {
   "cell_type": "markdown",
   "metadata": {},
   "source": [
    "As usual, we begin by instantiating our matrices. Matrix multiplication is defined between matrices A and B of shapes [M, N] and [N, O] respectively and yields a matrix C of shape [M, O]. The torch function that implements matrix multiplication is `torch.mm`."
   ]
  },
  {
   "cell_type": "code",
   "execution_count": 35,
   "metadata": {},
   "outputs": [
    {
     "name": "stdout",
     "output_type": "stream",
     "text": [
      "torch.Size([5, 8])\n"
     ]
    }
   ],
   "source": [
    "A = torch.rand([5,3], device=device)\n",
    "B = torch.rand([3,8], device=device)\n",
    "C = torch.mm(A, B)  # or alternatively, C = A @ B\n",
    "print(C.shape)"
   ]
  },
  {
   "cell_type": "markdown",
   "metadata": {},
   "source": [
    "What if we had a large numbers (i.e. a batch) of matrices A to each be multiplied with a matching B? We can use `torch.bmm` for efficient batch matrix multiplication.\n",
    "\n",
    "<div class=\"alert alert-block alert-info\">\n",
    "<b>Tip:</b> Rather than writing slow and ugly `for` loops, employ array programming to write your machine learning code. This will make it much more concise and dramatically more efficient.\n",
    "</div>"
   ]
  },
  {
   "cell_type": "code",
   "execution_count": 36,
   "metadata": {},
   "outputs": [
    {
     "name": "stdout",
     "output_type": "stream",
     "text": [
      "torch.Size([128, 5, 8])\n"
     ]
    }
   ],
   "source": [
    "bA = torch.rand([128, 5, 3], device=device)\n",
    "bB = torch.rand([128, 3, 8], device=device)\n",
    "bC = torch.bmm(bA, bB)  # bC = bA @ bC also works here!\n",
    "print(bC.shape)"
   ]
  },
  {
   "cell_type": "markdown",
   "metadata": {},
   "source": [
    "<div class=\"alert alert-block alert-warning\">\n",
    "<b>Warning:</b>\n",
    "Be careful not to confuse matrix multiplication with element-wise multiplication!\n",
    "`A*B` is never the same as `A@B`.\n",
    "</div>"
   ]
  },
  {
   "cell_type": "markdown",
   "metadata": {},
   "source": [
    "#### Shape Manipulation\n",
    "As we have seen, what we can do with tensors is largely dictated by their shapes. Adjusting a tensor's shape to allow for broadcasting or batching is therefore often necessary. The following functions should suffice for the bulk of shape manipulation tasks you might encounter."
   ]
  },
  {
   "cell_type": "markdown",
   "metadata": {},
   "source": [
    "Tensor transposition is the generalization of 2-D matrix transposition. Since there are now more than 2 dimensions, we additionally need to specify the transposed dimensions. Take for instance a tensor of shape [M, N, O]. Converting it to a tensor of shape [N, M, O] requires transposing the first and second dimensions."
   ]
  },
  {
   "cell_type": "code",
   "execution_count": 58,
   "metadata": {},
   "outputs": [
    {
     "name": "stdout",
     "output_type": "stream",
     "text": [
      "torch.Size([5, 128, 3])\n"
     ]
    }
   ],
   "source": [
    "A = torch.rand([128, 5, 3], device=device)\n",
    "A = A.transpose(0, 1)\n",
    "print(A.shape)"
   ]
  },
  {
   "cell_type": "markdown",
   "metadata": {},
   "source": [
    "We may also choose to create a reshaped view of a tensor; for instance we may collapse two or more tensor dimensions into one.."
   ]
  },
  {
   "cell_type": "code",
   "execution_count": 59,
   "metadata": {},
   "outputs": [
    {
     "name": "stdout",
     "output_type": "stream",
     "text": [
      "torch.Size([640, 3])\n"
     ]
    }
   ],
   "source": [
    "A = torch.rand([128, 5, 3], device=device)\n",
    "A_collapsed = A.view(A.shape[0]*A.shape[1], A.shape[-1])\n",
    "print(A_collapsed.shape)"
   ]
  },
  {
   "cell_type": "markdown",
   "metadata": {},
   "source": [
    ".. or expand one dimension into two or more"
   ]
  },
  {
   "cell_type": "code",
   "execution_count": 60,
   "metadata": {},
   "outputs": [
    {
     "name": "stdout",
     "output_type": "stream",
     "text": [
      "torch.Size([128, 5, 3])\n",
      "tensor([[[0.6591, 0.8866, 0.3036],\n",
      "         [0.2363, 0.1022, 0.8412],\n",
      "         [0.7438, 0.1678, 0.9511],\n",
      "         [0.6113, 0.9370, 0.5934],\n",
      "         [0.9159, 0.6850, 0.0070]],\n",
      "\n",
      "        [[0.3728, 0.1742, 0.3493],\n",
      "         [0.7893, 0.6400, 0.5702],\n",
      "         [0.7411, 0.2011, 0.4605],\n",
      "         [0.0300, 0.2157, 0.2347],\n",
      "         [0.2305, 0.2200, 0.3500]],\n",
      "\n",
      "        [[0.0113, 0.8975, 0.5257],\n",
      "         [0.4355, 0.4705, 0.2711],\n",
      "         [0.9310, 0.5822, 0.3792],\n",
      "         [0.8754, 0.5549, 0.7212],\n",
      "         [0.6158, 0.1019, 0.9796]],\n",
      "\n",
      "        ...,\n",
      "\n",
      "        [[0.0619, 0.3336, 0.2936],\n",
      "         [0.6692, 0.0070, 0.9020],\n",
      "         [0.7992, 0.4275, 0.4420],\n",
      "         [0.3937, 0.1163, 0.2640],\n",
      "         [0.3881, 0.9697, 0.1579]],\n",
      "\n",
      "        [[0.8310, 0.1916, 0.7270],\n",
      "         [0.7758, 0.3579, 0.7946],\n",
      "         [0.6948, 0.8639, 0.6455],\n",
      "         [0.1307, 0.5416, 0.2931],\n",
      "         [0.1136, 0.9717, 0.4811]],\n",
      "\n",
      "        [[0.3244, 0.8516, 0.3008],\n",
      "         [0.8804, 0.3067, 0.8399],\n",
      "         [0.5960, 0.9313, 0.4231],\n",
      "         [0.9891, 0.5171, 0.1635],\n",
      "         [0.1809, 0.3770, 0.0982]]], device='cuda:0')\n"
     ]
    }
   ],
   "source": [
    "A_expanded = A_collapsed.view(128, 5, 3)\n",
    "print(A_expanded.shape)\n",
    "print(A_expanded)"
   ]
  },
  {
   "cell_type": "markdown",
   "metadata": {},
   "source": [
    "Let's convince ourselves that the back and forth between dimensions has left our tensor unaffected. First let's elementwise compare A with A_expanded."
   ]
  },
  {
   "cell_type": "markdown",
   "metadata": {},
   "source": [
    "comp = A == A_expanded\n",
    "print(comp)"
   ]
  },
  {
   "cell_type": "markdown",
   "metadata": {},
   "source": [
    "It seems to be okay! But what if there is a zero somewhere in there? Python's `all` and `any` may be used directly on torch bools to help us here."
   ]
  },
  {
   "cell_type": "code",
   "execution_count": 41,
   "metadata": {},
   "outputs": [
    {
     "name": "stdout",
     "output_type": "stream",
     "text": [
      "True\n"
     ]
    }
   ],
   "source": [
    "print(all([all(row) for matrix in comp for row in matrix]))"
   ]
  },
  {
   "cell_type": "markdown",
   "metadata": {},
   "source": [
    "Views are useful, but as the name suggests they only change our view of a tensor. Different views of a tensor have the same number of elements; the view is just changing in what order these are read.\n",
    "\n",
    "For cases where we would like to repeat a tensor across one or more of its axes (actually creating a larger tensor), we can use the function of the same name. Let's consider a tensor of shape [M, N] which we would like to turn into a tensor that repeats itself K times across the first dimension (i.e. a tensor of shape [K $\\cdot$ M, N]."
   ]
  },
  {
   "cell_type": "code",
   "execution_count": 42,
   "metadata": {},
   "outputs": [
    {
     "name": "stdout",
     "output_type": "stream",
     "text": [
      "torch.Size([15, 12])\n"
     ]
    }
   ],
   "source": [
    "A = torch.rand([5, 12], device=device)\n",
    "A_repeat = A.repeat(3, 1)  # note that we are specifying the number of repeats per dimension\n",
    "print(A_repeat.shape)"
   ]
  },
  {
   "cell_type": "markdown",
   "metadata": {},
   "source": [
    "#### Combining Tensors\n",
    "Sometimes we may want to construct a big tensor out of two small ones. There's a few ways to accomplish that, but the most reliable one is through `torch.cat` 🐈 (shorthand for concatenate).\n",
    "\n",
    "Two tensors may be concatenated if they agree on all their dimensions, except for the concatenation dimension."
   ]
  },
  {
   "cell_type": "code",
   "execution_count": 43,
   "metadata": {},
   "outputs": [
    {
     "name": "stdout",
     "output_type": "stream",
     "text": [
      "torch.Size([5, 2])\n"
     ]
    }
   ],
   "source": [
    "A = torch.rand([4,2], device=device)\n",
    "B = torch.rand([1,2], device=device)\n",
    "C = torch.cat((A, B), dim=0)\n",
    "print(C.shape)"
   ]
  },
  {
   "cell_type": "code",
   "execution_count": 61,
   "metadata": {},
   "outputs": [
    {
     "ename": "NameError",
     "evalue": "name 'comp' is not defined",
     "output_type": "error",
     "traceback": [
      "\u001b[1;31m---------------------------------------------------------------------------\u001b[0m",
      "\u001b[1;31mNameError\u001b[0m                                 Traceback (most recent call last)",
      "\u001b[1;32m<ipython-input-61-a6dd618523cf>\u001b[0m in \u001b[0;36m<module>\u001b[1;34m\u001b[0m\n\u001b[1;32m----> 1\u001b[1;33m \u001b[1;32mdel\u001b[0m \u001b[0mA\u001b[0m\u001b[1;33m,\u001b[0m \u001b[0mB\u001b[0m\u001b[1;33m,\u001b[0m \u001b[0mC\u001b[0m\u001b[1;33m,\u001b[0m \u001b[0mcomp\u001b[0m\u001b[1;33m,\u001b[0m \u001b[0mA_repeat\u001b[0m\u001b[1;33m,\u001b[0m \u001b[0mA_expanded\u001b[0m\u001b[1;33m,\u001b[0m \u001b[0mA_collapsed\u001b[0m\u001b[1;33m,\u001b[0m \u001b[0mbA\u001b[0m\u001b[1;33m,\u001b[0m \u001b[0mbB\u001b[0m\u001b[1;33m,\u001b[0m \u001b[0mbC\u001b[0m\u001b[1;33m\u001b[0m\u001b[1;33m\u001b[0m\u001b[0m\n\u001b[0m",
      "\u001b[1;31mNameError\u001b[0m: name 'comp' is not defined"
     ]
    }
   ],
   "source": [
    "del A, B, C, comp, A_repeat, A_expanded, A_collapsed, bA, bB, bC"
   ]
  },
  {
   "cell_type": "markdown",
   "metadata": {},
   "source": [
    "---"
   ]
  },
  {
   "cell_type": "markdown",
   "metadata": {},
   "source": [
    "<a id='1d'></a>\n",
    "### Exercises\n",
    "It might be a good idea to take a short break here and recap on what we've seen before moving further. The mini-exercises below should help you test your grasp of this section."
   ]
  },
  {
   "cell_type": "markdown",
   "metadata": {},
   "source": [
    "Construct a tensor $A$ of shape [10, 300] containing random floats, and a tensor $B$ of the same shape where all its elements are equal to $\\pi$."
   ]
  },
  {
   "cell_type": "code",
   "execution_count": 68,
   "metadata": {},
   "outputs": [],
   "source": [
    "import math\n",
    "A = torch.rand((10, 300), device=device)\n",
    "B_prep = torch.tensor((10, 300), device=device)\n",
    "B = B_prep.new_full((10, 300), math.pi, dtype=torch.float, device=device)\n"
   ]
  },
  {
   "cell_type": "markdown",
   "metadata": {},
   "source": [
    "Compute $C = AB^T$, the matrix multiplication of $A$ with the transpose of $B$ and $D = A\\cdot B$, their elementwise multiplication."
   ]
  },
  {
   "cell_type": "code",
   "execution_count": 69,
   "metadata": {},
   "outputs": [],
   "source": [
    "B_T = B.transpose(1, 0)\n",
    "C = A @ B_T\n",
    "D = A*B"
   ]
  },
  {
   "cell_type": "markdown",
   "metadata": {},
   "source": [
    "Try comparing $C$ with $D$. Are they comparable? Are they equal? What is the dtype of their comparison?"
   ]
  },
  {
   "cell_type": "code",
   "execution_count": 49,
   "metadata": {},
   "outputs": [
    {
     "ename": "RuntimeError",
     "evalue": "The size of tensor a (10) must match the size of tensor b (300) at non-singleton dimension 1",
     "output_type": "error",
     "traceback": [
      "\u001b[1;31m---------------------------------------------------------------------------\u001b[0m",
      "\u001b[1;31mRuntimeError\u001b[0m                              Traceback (most recent call last)",
      "\u001b[1;32m<ipython-input-49-e52d4894fbfc>\u001b[0m in \u001b[0;36m<module>\u001b[1;34m\u001b[0m\n\u001b[1;32m----> 1\u001b[1;33m \u001b[0mcomp_cd\u001b[0m \u001b[1;33m=\u001b[0m \u001b[0mC\u001b[0m \u001b[1;33m==\u001b[0m \u001b[0mD\u001b[0m\u001b[1;33m\u001b[0m\u001b[1;33m\u001b[0m\u001b[0m\n\u001b[0m",
      "\u001b[1;31mRuntimeError\u001b[0m: The size of tensor a (10) must match the size of tensor b (300) at non-singleton dimension 1"
     ]
    }
   ],
   "source": [
    "comp_cd = C == D"
   ]
  },
  {
   "cell_type": "markdown",
   "metadata": {},
   "source": [
    "<i> <b>Answer:</b> Since $C$ and $D$ do not share their first dimension, they are incomparable. </i>"
   ]
  },
  {
   "cell_type": "markdown",
   "metadata": {},
   "source": [
    "Multiply $A$ by 4 to create $F$. Now set all elements of $F$ that are above $\\pi$ to zero.\n",
    "\n",
    "\n",
    "_Hint 1_: You can index a tensor with a boolean tensor of the same dimensionality\n",
    "\n",
    "_Hint 2_: You can set multiple indexed elements to a single value at once"
   ]
  },
  {
   "cell_type": "code",
   "execution_count": 70,
   "metadata": {},
   "outputs": [],
   "source": [
    "F = A*4\n",
    "Fpi = B > F\n",
    "F = Fpi.float()*F"
   ]
  },
  {
   "cell_type": "markdown",
   "metadata": {},
   "source": [
    "The incomplete function below implements matrix multiplication with a for loop. Complete the function and call it with your $A$ and $B^T$ matrices as its arguments. The result should be the same as the matrix $C$ you computed before (with room for some numerical inaccuraccy)\n",
    "\n",
    "Note: You can use `torch.sum()` to compute the sum of a tensor (optionally specifying across which dimension)\n",
    "\n",
    "<div class=\"alert alert-block alert-info\">\n",
    "<b>Note:</b> [Type Hints](https://www.python.org/dev/peps/pep-0484/#rationale-and-goals) may be used in python function and variable declarations to give them a type signature. These type signatures are not strict (you can still bypass them), but they can help you organize your code. Type hints of incomplete functions given during assignments will inform you of what we expect your function to accept and return.\n",
    "</div>"
   ]
  },
  {
   "cell_type": "code",
   "execution_count": 72,
   "metadata": {},
   "outputs": [],
   "source": [
    "def my_mm(A: torch.FloatTensor, B: torch.FloatTensor) -> torch.FloatTensor:\n",
    "    assert A.shape[1] == B.shape[0]\n",
    "    assert (len(A.shape) == len(B.shape) == 2)\n",
    "    C = torch.zeros((A.shape[0], B.shape[1]), device=device)\n",
    "    for i in range(A.shape[0]):\n",
    "        for j in range(B.shape[1]):\n",
    "            for k in range(B.shape[0]):\n",
    "                C[i, j] += A[i][k] * B[k][j]\n",
    "    return C\n",
    "    \n",
    "E = my_mm(A, B.transpose(1,0))\n",
    "\n",
    "assert torch.sum(torch.abs(E - C))/(E.shape[0]*E.shape[1]) < 1e-4  # make sure the mean absolute difference between the two results is below 0.0001"
   ]
  },
  {
   "cell_type": "markdown",
   "metadata": {},
   "source": [
    "Create a 2-dimensional tensor $S$ that consists by an instance of $A$ followed by two instances of $B$ followed by an instance of $A$ across its first dimension. What is the shape of $S$?"
   ]
  },
  {
   "cell_type": "code",
   "execution_count": 81,
   "metadata": {},
   "outputs": [
    {
     "name": "stdout",
     "output_type": "stream",
     "text": [
      "torch.Size([40, 300])\n"
     ]
    }
   ],
   "source": [
    "AB = torch.cat((A, B), dim=0)\n",
    "ABB = torch.cat((AB, B), dim = 0)\n",
    "S = torch.cat((ABB, A), dim = 0)\n",
    "print(S.shape)"
   ]
  },
  {
   "cell_type": "markdown",
   "metadata": {},
   "source": [
    "Reshape $S$ into a tensor of shape [20, 2, 300]. \n",
    "Then transpose this into a tensor of shape [2, 300, 20]."
   ]
  },
  {
   "cell_type": "code",
   "execution_count": 82,
   "metadata": {},
   "outputs": [
    {
     "name": "stdout",
     "output_type": "stream",
     "text": [
      "torch.Size([2, 300, 20])\n"
     ]
    }
   ],
   "source": [
    "S = S.view(20, 2, 300)\n",
    "S = S.permute(1, 2, 0)\n",
    "print(S.shape)"
   ]
  },
  {
   "cell_type": "code",
   "execution_count": 83,
   "metadata": {},
   "outputs": [],
   "source": [
    "del A, B, C, D, E, F, S"
   ]
  },
  {
   "cell_type": "markdown",
   "metadata": {},
   "source": [
    "---"
   ]
  },
  {
   "cell_type": "markdown",
   "metadata": {},
   "source": [
    "<a id='2'></a>\n",
    "## 2. Automatic Differentation and Neural Networks\n",
    "We have so far seen some of pyTorch's computational capabilities; its GPU accelaration and multitude of high level functions make it suitable for array processing and vector arithmetic. But pyTorch is more than a faster numpy; its key components, and where most of the magic happens, are in its automatic differentiation mechanics and neural network libraries.\n",
    "\n",
    "<a id='2a'></a>\n",
    "### A. Autograd\n",
    "Each torch tensor carries a flag around with it, `requires_grad`, which establishes whether that tensor requires gradient computation. \n",
    "\n",
    "By default, tensors do not require grad unless specified. Whenever a tensor that requires grad assumes a role in the construction of another tensor, the new tensor also requires grad.\n",
    "By dynamically tracking dependencies in the evolving computation graph, and utilizing this flag, torch is able to inform itself on which tensors need to be updated by gradient descent, and which do not (naturally, only tensors for which gradients arecomputed will be updated).\n",
    "\n",
    "Practically, by setting `requires_grad` to `False` we can _freeze_ (parts of) our functions, making them static.\n",
    "\n",
    "Let's see this in action by modeling a simple linear transformation $f(x): Ax$ from $x \\in \\mathbb{R}^5$  to $y \\in \\mathbb{R}^7$:\n",
    "\n",
    "<div class=\"alert alert-block alert-info\">\n",
    "<b>Note:</b> Recall that a matrix of shape [M, N] is a linear map __from__ $\\mathbb{R}^N$ __to__ $\\mathbb{R}^M$.\n",
    "</div>"
   ]
  },
  {
   "cell_type": "code",
   "execution_count": 84,
   "metadata": {},
   "outputs": [],
   "source": [
    "A = torch.rand((7, 5), device=device) \n",
    "\n",
    "def f(x: torch.FloatTensor) -> torch.FloatTensor:\n",
    "    return A@x "
   ]
  },
  {
   "cell_type": "markdown",
   "metadata": {},
   "source": [
    "Let's test our function for some $x$, and check whether the result requires grad."
   ]
  },
  {
   "cell_type": "code",
   "execution_count": 85,
   "metadata": {},
   "outputs": [
    {
     "name": "stdout",
     "output_type": "stream",
     "text": [
      "tensor([1.3883, 0.6959, 1.4554, 0.8178, 1.5299, 1.1428, 1.3271],\n",
      "       device='cuda:0')\n",
      "False\n"
     ]
    }
   ],
   "source": [
    "x = torch.rand(5, device=device)\n",
    "y = f(x)\n",
    "print(y)\n",
    "print(y.requires_grad)"
   ]
  },
  {
   "cell_type": "markdown",
   "metadata": {},
   "source": [
    "It does not; what if the parameters of our function $f$ were trainable though?"
   ]
  },
  {
   "cell_type": "code",
   "execution_count": 86,
   "metadata": {},
   "outputs": [
    {
     "name": "stdout",
     "output_type": "stream",
     "text": [
      "True\n"
     ]
    }
   ],
   "source": [
    "A.requires_grad = True\n",
    "y = f(x)\n",
    "print(y.requires_grad)"
   ]
  },
  {
   "cell_type": "markdown",
   "metadata": {},
   "source": [
    "The output of our linear transformation is now also trainable!\n"
   ]
  },
  {
   "cell_type": "markdown",
   "metadata": {},
   "source": [
    "---"
   ]
  },
  {
   "cell_type": "markdown",
   "metadata": {},
   "source": [
    "<a id='2b'></a>\n",
    "### Exercises\n",
    "Answer the next questions before you proceed."
   ]
  },
  {
   "cell_type": "markdown",
   "metadata": {},
   "source": [
    "Model an affine transformation $g(x) = Ax + \\beta$ from $x \\in \\mathbb{R}^3$ to $y \\in \\mathbb{R}^{12}$ as the composition of two functions, $f_1(x) = Ax$, $f_2(x) = x + \\beta$, such that $A$ requires grad but $\\beta$ does not.\n",
    "\n",
    "<div class=\"alert alert-block alert-info\">\n",
    "<b>Note:</b> You can use `requires_grad: bool` as an optional argument during tensor construction. Can you guess its default value?\n",
    "</div>"
   ]
  },
  {
   "cell_type": "code",
   "execution_count": 90,
   "metadata": {},
   "outputs": [],
   "source": [
    "A = torch.rand((12, 3), device=device, requires_grad=True)\n",
    "beta = torch.rand((3, 12), device=device)\n",
    "\n",
    "def f_1(x: torch.FloatTensor) -> torch.FloatTensor:\n",
    "    return A@x\n",
    "\n",
    "def f_2(x: torch.FloatTensor) -> torch.FloatTensor:\n",
    "    return x + beta\n",
    "\n",
    "x = torch.rand(3, device=device)\n",
    "\n",
    "w = f_1(x)\n",
    "y = f_2(w)"
   ]
  },
  {
   "cell_type": "markdown",
   "metadata": {},
   "source": [
    "Try to figure out the answers on your own before checking the code. \n",
    "\n",
    "Let's assume $x$ is a fixed data sample, therefore does not require grad (we don't usually want to fit our data, but the function applied on the data!)\n",
    "\n",
    "If $A$ requires grad but $\\beta$ doesn't, does $w$ require grad? Does $y$?\n",
    "\n",
    "<i><b>Answer:</b> Both $w$ and $y$ require grad in this instance. $A$ requires grad and is a component of $w$, which therefore requires grad. Since $w$ is a component of $y$, that means that $y$ also requires grad.</i>\n",
    "\n",
    "If $\\beta$ requires grad but $A$ doesn't, does $w$ require grad? Does $y$?\n",
    "\n",
    "<i><b>Answer:</b> In this instance, only $y$ requires grad, since $w$ has no components that require grad.</i>\n",
    "\n",
    "What would that mean for $A$ and $\\beta$ during gradient descent?\n",
    "\n",
    "<i><b>Answer:</b> This would mean that $\\beta$ will have better optimised solutions than $A$, since the function that has $A$ as an input doesn't require grad.</i>\n",
    "\n",
    "Use the code to verify your answers.\n"
   ]
  },
  {
   "cell_type": "code",
   "execution_count": 91,
   "metadata": {},
   "outputs": [
    {
     "name": "stdout",
     "output_type": "stream",
     "text": [
      "True\n",
      "True\n"
     ]
    }
   ],
   "source": [
    "print(w.requires_grad)\n",
    "print(y.requires_grad)"
   ]
  },
  {
   "cell_type": "code",
   "execution_count": 92,
   "metadata": {},
   "outputs": [
    {
     "name": "stdout",
     "output_type": "stream",
     "text": [
      "False\n",
      "True\n"
     ]
    }
   ],
   "source": [
    "A.requires_grad = False\n",
    "beta.requires_grad = True\n",
    "\n",
    "w = f_1(x)\n",
    "y = f_2(w)\n",
    "\n",
    "print(w.requires_grad)\n",
    "print(y.requires_grad)"
   ]
  },
  {
   "cell_type": "code",
   "execution_count": 93,
   "metadata": {},
   "outputs": [],
   "source": [
    "del A, beta, x, y, w, f, f_1, f_2"
   ]
  },
  {
   "cell_type": "markdown",
   "metadata": {},
   "source": [
    "---"
   ]
  },
  {
   "cell_type": "markdown",
   "metadata": {},
   "source": [
    "<a id='3'></a>\n",
    "\n",
    "## 3. Neural Networks\n",
    "We are very close to defining our first neural network in pytorch. Pytorch includes a powerful neural network library, `torch.nn`, which allows us to create our own custom network flows, use highly optimized off-the-shelf implementations of most standard kinds of networks and compose different networks together.\n",
    "\n",
    "<a id='3a'></a>\n",
    "### A. Custom Neural Networks\n",
    "You have already implemented an affine transformation; a shallow feedforward network is simply such a transformation followed by a non-linearity. For the sake of familiarizing ourselves with custom torch networks, we will go through the process of defining such a network from scratch (you won't normally be doing this, but it's still beneficial to have an idea of what's happening at the low level before proceeding to the high level).\n",
    "\n",
    "The building block for a torch network is the `torch.nn.Module` class; we need to define our networks as objects inheriting that class. If we do so, we only need to implement two functions: `__init__()` and `forward()`. The first is responsible for registering the internal variables of our network, while the second specifies the kind of computation it actually performs.\n",
    "\n",
    "Let's see these in practice; we will define a shallow feedforward network implementing $f(x) = \\sigma(Wx + \\beta)$ from any input dimension to any output dimension, where $\\sigma$ the sigmoid activation."
   ]
  },
  {
   "cell_type": "code",
   "execution_count": 94,
   "metadata": {},
   "outputs": [],
   "source": [
    "class my_first_network(torch.nn.Module):\n",
    "    def __init__(self, in_features: int, out_features: int, device: int) -> None:\n",
    "        super(my_first_network, self).__init__()  # this is important! do not forget to call this\n",
    "        self.device = device\n",
    "        self.W = torch.nn.Parameter(torch.rand(out_features, in_features, device=self.device))\n",
    "        self.beta = torch.nn.Parameter(torch.rand(out_features, device=self.device))\n",
    "        \n",
    "    def forward(self, x: torch.FloatTensor) -> torch.FloatTensor:\n",
    "        return torch.sigmoid(self.W@x + self.beta)"
   ]
  },
  {
   "cell_type": "markdown",
   "metadata": {},
   "source": [
    "<div class=\"alert alert-block alert-info\">\n",
    "<b>Note:</b> Notice the use of torch.nn.Parameter. Wrapping the tensors that are parametric to our network's function in torch.nn.Parameter is crucial as it informs torch that these tensors need to be stored, updated and shared between different function calls.\n",
    "</div>"
   ]
  },
  {
   "cell_type": "markdown",
   "metadata": {},
   "source": [
    "We can now test our first network class by instatiating an actual network and passing a random tensor through it."
   ]
  },
  {
   "cell_type": "code",
   "execution_count": 95,
   "metadata": {},
   "outputs": [
    {
     "name": "stdout",
     "output_type": "stream",
     "text": [
      "tensor([0.5824, 0.7101, 0.8242, 0.7689, 0.7724, 0.8335, 0.8014, 0.6486, 0.8015,\n",
      "        0.7475, 0.7989, 0.6881], device='cuda:0', grad_fn=<SigmoidBackward>)\n"
     ]
    }
   ],
   "source": [
    "f = my_first_network(in_features=3, out_features=12, device=device)\n",
    "x = torch.rand(3, device=device)\n",
    "y = f(x)  # convenience for f.forward(x) -- the __call__() method of torch.nn.Module calls forward()\n",
    "print(y)"
   ]
  },
  {
   "cell_type": "markdown",
   "metadata": {},
   "source": [
    "Since we have the abstraction for one layer, what's stopping us from instantiating a second network and composing the two into a deep network?"
   ]
  },
  {
   "cell_type": "code",
   "execution_count": 97,
   "metadata": {},
   "outputs": [
    {
     "name": "stdout",
     "output_type": "stream",
     "text": [
      "tensor([0.9973, 0.9979, 0.9901, 0.9787, 0.9925], device='cuda:0',\n",
      "       grad_fn=<SigmoidBackward>)\n"
     ]
    }
   ],
   "source": [
    "class my_first_deep_network(torch.nn.Module):\n",
    "    def __init__(self, in_features: int, intermediate_features: int, out_features: int, device: str) -> None:\n",
    "        super(my_first_deep_network, self).__init__()\n",
    "        self.device = device\n",
    "        self.n_1 = my_first_network(in_features=in_features, out_features=intermediate_features, device=self.device)\n",
    "        self.n_2 = my_first_network(in_features=intermediate_features, out_features=out_features, device=self.device)\n",
    "        \n",
    "    def forward(self, x: torch.FloatTensor) -> torch.FloatTensor:\n",
    "        return self.n_2(self.n_1(x))\n",
    "    \n",
    "g = my_first_deep_network(in_features=3, intermediate_features=12, out_features=5, device=device)\n",
    "y = g(x)\n",
    "print(y)"
   ]
  },
  {
   "cell_type": "markdown",
   "metadata": {},
   "source": [
    "Very easy, right?\n",
    "\n",
    "Except we just did it the hard way! We could have used torch's pre-made `torch.nn.Linear`, the existing abstraction for single feedforward layers, and `torch.nn.Sequential`, the abstraction for composing sequences of networks. \n",
    "\n",
    "How would that have looked like?"
   ]
  },
  {
   "cell_type": "code",
   "execution_count": 106,
   "metadata": {},
   "outputs": [
    {
     "name": "stdout",
     "output_type": "stream",
     "text": [
      "tensor([0.5834, 0.4453, 0.5662, 0.4005, 0.4816], device='cuda:0',\n",
      "       grad_fn=<SigmoidBackward>)\n"
     ]
    }
   ],
   "source": [
    "h = torch.nn.Sequential(\n",
    "    torch.nn.Linear(in_features=3, out_features=12),\n",
    "    torch.nn.Sigmoid(), # notice the use of the class rather than the function (i.e. Sigmoid() rather than sigmoid())\n",
    "    torch.nn.Linear(in_features=12, out_features=5), \n",
    "    torch.nn.Sigmoid()  \n",
    ").to(device)  # notice the device conversion; our network needs to live on the same device as our input\n",
    "\n",
    "y = h(x)\n",
    "print(y)"
   ]
  },
  {
   "cell_type": "markdown",
   "metadata": {},
   "source": [
    "Even easier!\n",
    "\n",
    "<div class=\"alert alert-block alert-info\">\n",
    "<b>Note:</b> When composing networks using the `Sequential` abstraction, you should make sure that each network's expected input shape matches the output shape of the previous network.\n",
    "</div>\n",
    "\n",
    "So, why ever define our own networks if torch can do it for us? The answer is that very often (and very soon!) it might be the case that you'll need to write your own, potentially complex, computation flow, which won't necesserily be possible to rephrase as simple layer stacking."
   ]
  },
  {
   "cell_type": "code",
   "execution_count": 107,
   "metadata": {},
   "outputs": [],
   "source": [
    "del x, y, h, g, f, my_first_network, my_first_deep_network"
   ]
  },
  {
   "cell_type": "markdown",
   "metadata": {},
   "source": [
    "<a id='3b'></a>\n",
    "### B.  Loss Functions\n",
    "\n",
    "We have seen how to construct parametric, trainable functions and networks. Requiring a gradient and having a gradient are two different things, however. To obtain the gradients of our trainable parameters we need a loss function. The loss function is an indicator of how far off the network's output (prediction) is from the actual truth. Applying the chain rule, we may differentiate the loss value w.r.t. the model's parameters, populating the tensors' gradients in the process. \n",
    "\n",
    "As with networks, torch provides implementations for the commonly used loss functions but also allows us to write our own. \n",
    "\n",
    "We will only experiment with an existing loss function, but first we need to construct some data to play with-- we can create a synthetic data set of pairs $(x_i, y_i)$ where $x_i$ is a random number and $y_i = 3 \\cdot x_i - 2$"
   ]
  },
  {
   "cell_type": "code",
   "execution_count": 108,
   "metadata": {},
   "outputs": [],
   "source": [
    "x = torch.rand((100, 1), device=device)  # a tensor of shape 100, 1, i.e. 100 data points each of dimensionality 1\n",
    "y = 3 * x - 2"
   ]
  },
  {
   "cell_type": "markdown",
   "metadata": {},
   "source": [
    "Time to employ a linear network.\n",
    "\n",
    "<div class=\"alert alert-block alert-warning\">\n",
    "<b>Warning:</b>\n",
    "Don't mix up input/output dimensionality and number of data samples! \n",
    "</div>"
   ]
  },
  {
   "cell_type": "code",
   "execution_count": 109,
   "metadata": {},
   "outputs": [],
   "source": [
    "f = torch.nn.Linear(in_features=1, out_features=1).to(device)\n",
    "prediction = f(x)"
   ]
  },
  {
   "cell_type": "markdown",
   "metadata": {},
   "source": [
    "Now to define our loss function:"
   ]
  },
  {
   "cell_type": "code",
   "execution_count": 110,
   "metadata": {},
   "outputs": [],
   "source": [
    "loss_fn = torch.nn.MSELoss()"
   ]
  },
  {
   "cell_type": "markdown",
   "metadata": {},
   "source": [
    "Note that each element of our batch (i.e. each of the 100 data samples) has its own MSE w.r.t. to its corresponding output. These unique losses are averaged into a single scalar by the loss function."
   ]
  },
  {
   "cell_type": "code",
   "execution_count": 111,
   "metadata": {},
   "outputs": [
    {
     "name": "stdout",
     "output_type": "stream",
     "text": [
      "tensor(2.0163, device='cuda:0', grad_fn=<MeanBackward0>)\n"
     ]
    }
   ],
   "source": [
    "loss = loss_fn(y, prediction)\n",
    "print(loss)"
   ]
  },
  {
   "cell_type": "markdown",
   "metadata": {},
   "source": [
    "Now that we have computed the loss, we may use it to populate the parameters' gradients via a backward pass. This is automagically done by a simple call of `backward`. 🧙"
   ]
  },
  {
   "cell_type": "code",
   "execution_count": 112,
   "metadata": {},
   "outputs": [],
   "source": [
    "loss.backward()"
   ]
  },
  {
   "cell_type": "markdown",
   "metadata": {},
   "source": [
    "Torch provides a few different loss functions, each for a particular usecase (the task and your output layer's activation function). Note that particular loss functions are already implementing the network's output activation internall. Refer to the [documentation](https://pytorch.org/docs/stable/nn.html#loss-functions) for a detailed overview. In most cases, the cheat-sheet below should contain the answer.\n",
    "\n",
    "<div class=\"alert alert-block alert-info\">\n",
    "<b>Tip:</b> At a loss on which loss to use? Use this cheat-sheet!\n",
    "</div>\n",
    "\n",
    "| Task | Activation | Loss Function |\n",
    "| --- | --- | --- | --- |\n",
    "| K-class Classification | - | CrossEntropyLoss |\n",
    "| K-class Classification | LogSoftmax | NLLLoss |\n",
    "| K-class, Multi-Label Classification | - | BCEWithLogitsLoss |\n",
    "| K-class, Multi-Label Classification | LogSigmoid | BCELoss |\n",
    "| Continuous Regression | - | MSELoss |"
   ]
  },
  {
   "cell_type": "markdown",
   "metadata": {},
   "source": [
    "<a id='3c'></a>\n",
    "\n",
    "### C.  Optimizers\n",
    "Our struggles are slowly coming to an end. We have made a trainable network, we have computed the loss given the true output, and we have used the loss to populate the parameter gradients. The final thing to do is to use these gradients in order to update the parameter values. \n",
    "This is managed by an `Optimizer`. Gradient based optimizers are the norm for training neural networks; all of them are variants of stochastic gradient descent. Torch provides implementations of the classic optimizers. Regardless of which one of them is your favourite, the process always involves the same steps:\n",
    "1. Initiate the optimizer by letting it know which parameters it is going to be responsible for\n",
    "2. Iterate over your data, and:\n",
    "    2. Compute the loss\n",
    "    3. Back-propagate\n",
    "    4. Perform an optimization step\n",
    "    5. Zero out the gradients (so that they don't accumulate over optimization steps)\n",
    "\n",
    "Let's see them in action on our toy network and synthetic dataset."
   ]
  },
  {
   "cell_type": "code",
   "execution_count": 113,
   "metadata": {},
   "outputs": [
    {
     "name": "stdout",
     "output_type": "stream",
     "text": [
      "Iteration 0 loss: 2.0163414478302\n",
      "Iteration 500 loss: 0.9897440075874329\n",
      "Iteration 1000 loss: 0.6848120093345642\n",
      "Iteration 1500 loss: 0.5138974189758301\n",
      "Iteration 2000 loss: 0.36354389786720276\n",
      "Iteration 2500 loss: 0.23887977004051208\n",
      "Iteration 3000 loss: 0.1442098766565323\n",
      "Iteration 3500 loss: 0.07849932461977005\n",
      "Iteration 4000 loss: 0.03743081912398338\n",
      "Iteration 4500 loss: 0.014989814721047878\n",
      "Iteration 5000 loss: 0.004753648303449154\n"
     ]
    }
   ],
   "source": [
    "opt = torch.optim.Adam(f.parameters())  # initiate optimizer\n",
    "for t in range(5001):  # iterate\n",
    "    prediction = f(x)  # predict \n",
    "    loss = loss_fn(prediction, y)  # compute loss\n",
    "    loss.backward()  # backpropagate\n",
    "    opt.step()  # optimize\n",
    "    opt.zero_grad()  # reset gradients\n",
    "    if t%500 == 0:\n",
    "        print('Iteration {} loss: {}'.format(t, loss.item()))"
   ]
  },
  {
   "cell_type": "markdown",
   "metadata": {},
   "source": [
    "Congratulations! You have trained your first torch network! 🎉"
   ]
  },
  {
   "cell_type": "code",
   "execution_count": null,
   "metadata": {},
   "outputs": [],
   "source": []
  },
  {
   "cell_type": "markdown",
   "metadata": {},
   "source": [
    "---"
   ]
  },
  {
   "cell_type": "markdown",
   "metadata": {},
   "source": [
    "<a id='3d'></a>\n",
    "\n",
    "### D. Exercises"
   ]
  },
  {
   "cell_type": "markdown",
   "metadata": {},
   "source": [
    "Before we move on to a somewhat more realistic problem, it might be a good idea to get further acquainted with the basics. \n",
    "\n",
    "Let's take a quick look at a few different non-linear activations first."
   ]
  },
  {
   "cell_type": "markdown",
   "metadata": {},
   "source": [
    "Use `arange` to construct a float tensor $x$ of values $0 \\dots 1000$ in ascending order. Then element-wise subtract $500$ and divide by $100$ to get a tensor of values $-5 \\dots 5$."
   ]
  },
  {
   "cell_type": "code",
   "execution_count": 155,
   "metadata": {},
   "outputs": [],
   "source": [
    "x = torch.arange(1001, dtype=torch.float, device=device)\n",
    "x = (x-500)/100"
   ]
  },
  {
   "cell_type": "markdown",
   "metadata": {},
   "source": [
    "Construct the tensors $s = \\sigma(x)$, $t = tanh(x)$ and $r = ReLU(x)$."
   ]
  },
  {
   "cell_type": "code",
   "execution_count": 156,
   "metadata": {},
   "outputs": [],
   "source": [
    "s = torch.sigmoid(x)\n",
    "t = torch.tanh(x)\n",
    "r = torch.relu(x)"
   ]
  },
  {
   "cell_type": "markdown",
   "metadata": {},
   "source": [
    "Now we can convert these to numpy arrays and plot the results. "
   ]
  },
  {
   "cell_type": "code",
   "execution_count": 157,
   "metadata": {},
   "outputs": [
    {
     "data": {
      "image/png": "[encoded data removed]",
      "text/plain": [
       "<Figure size 432x288 with 1 Axes>"
      ]
     },
     "metadata": {
      "needs_background": "light"
     },
     "output_type": "display_data"
    }
   ],
   "source": [
    "from matplotlib import pyplot as plt\n",
    "plt.plot(x.cpu().numpy(),s.cpu().numpy())\n",
    "plt.plot(x.cpu().numpy(),t.cpu().numpy())\n",
    "plt.plot(x.cpu().numpy(),r.cpu().numpy())\n",
    "plt.ylim((-2, 5))\n",
    "plt.legend(['sigmoid', 'tanh', 'relu'])\n",
    "plt.show()"
   ]
  },
  {
   "cell_type": "markdown",
   "metadata": {},
   "source": [
    "Let's practice some more by solving the infamous XOR problem with a small deep network. "
   ]
  },
  {
   "cell_type": "code",
   "execution_count": 158,
   "metadata": {},
   "outputs": [],
   "source": [
    "X = torch.tensor([[0, 0], [0, 1], [1, 0], [1, 1]], device=device, dtype=torch.float)\n",
    "Y = torch.tensor([0, 1, 1, 0], device=device, dtype=torch.float)"
   ]
  },
  {
   "cell_type": "markdown",
   "metadata": {},
   "source": [
    "Use `torch.nn.Sequential` to create a minimal deep network with 1 output dimension and 2 intermediate dimensions. Use ReLU as your intermediate layer activation."
   ]
  },
  {
   "cell_type": "code",
   "execution_count": 159,
   "metadata": {},
   "outputs": [],
   "source": [
    "f = torch.nn.Sequential(\n",
    "    torch.nn.Linear(in_features=2, out_features=4),\n",
    "    torch.nn.ReLU(),\n",
    "    torch.nn.Linear(in_features=4, out_features=1)\n",
    ").to(device)"
   ]
  },
  {
   "cell_type": "markdown",
   "metadata": {},
   "source": [
    "Instantiate an adam optimizer for your network, and `BCEWithLogitsLoss` as your loss function."
   ]
  },
  {
   "cell_type": "code",
   "execution_count": 162,
   "metadata": {},
   "outputs": [],
   "source": [
    "loss_fn = torch.nn.BCEWithLogitsLoss()\n",
    "opt = torch.optim.Adam(f.parameters(), lr=0.01)"
   ]
  },
  {
   "cell_type": "markdown",
   "metadata": {},
   "source": [
    "Perform 5000 iterations of training, printing the loss as you go."
   ]
  },
  {
   "cell_type": "code",
   "execution_count": 163,
   "metadata": {},
   "outputs": [
    {
     "name": "stdout",
     "output_type": "stream",
     "text": [
      "Iteration 0 loss: 0.015074608847498894\n",
      "Iteration 500 loss: 0.0006085228524170816\n",
      "Iteration 1000 loss: 0.00020624265016522259\n",
      "Iteration 1500 loss: 0.00010271600331179798\n",
      "Iteration 2000 loss: 6.0315454902593046e-05\n",
      "Iteration 2500 loss: 3.874115282087587e-05\n",
      "Iteration 3000 loss: 2.628477886901237e-05\n",
      "Iteration 3500 loss: 1.8447201000526547e-05\n",
      "Iteration 4000 loss: 1.3321408914634958e-05\n",
      "Iteration 4500 loss: 9.77503714238992e-06\n",
      "Iteration 5000 loss: 7.301499408640666e-06\n"
     ]
    }
   ],
   "source": [
    "for t in range(5001):  # iterate\n",
    "    P = f(X)  # predict \n",
    "    loss = loss_fn(P, Y.view(4,1))  # compute loss\n",
    "    loss.backward()  # backpropagate\n",
    "    opt.step()  # optimize\n",
    "    opt.zero_grad()  # reset gradients\n",
    "    if t%500 == 0:\n",
    "        print('Iteration {} loss: {}'.format(t, loss.item()))"
   ]
  },
  {
   "cell_type": "markdown",
   "metadata": {},
   "source": [
    "You might encounter a shape error here. If you do, don't panic! Read it, understand what the problem is and remember `.view()`.\n",
    "\n",
    "Is the loss improving? If not, try toying around with the intermediate layer's width, the optimizer and its learning rate until your network can solve the problem."
   ]
  },
  {
   "cell_type": "code",
   "execution_count": null,
   "metadata": {},
   "outputs": [],
   "source": []
  },
  {
   "cell_type": "code",
   "execution_count": 164,
   "metadata": {},
   "outputs": [],
   "source": [
    "del f, loss_fn, opt, X, Y"
   ]
  },
  {
   "cell_type": "code",
   "execution_count": null,
   "metadata": {},
   "outputs": [],
   "source": []
  },
  {
   "cell_type": "markdown",
   "metadata": {},
   "source": [
    "<a id='3d'></a>\n",
    "## 4. Putting Everything Together\n",
    "Time to hone our newly acquired torch skills! \n",
    "\n",
    "We will now put everything together and write an actual network on a real task. The code below is mostly complete, but some parts here and there are missing. You will be asked to fill those in, so pay attention!"
   ]
  },
  {
   "cell_type": "markdown",
   "metadata": {},
   "source": [
    "First, construct a two-layer network that implements the function $f: \\mathbb{R}^{300} \\to \\mathbb{R}$, such that:\n",
    "\n",
    "$f(x) = W_2(ReLU(W_1x + \\beta_1) + \\beta_2$\n",
    "\n",
    "where:\n",
    "* $W_1 \\in \\mathbb{R}^{100, 300}$\n",
    "* $W_2 \\in \\mathbb{R}^{1, 100}$ \n",
    "* $ \\beta_1 \\in \\mathbb{R}^{100}$ \n",
    "* $\\beta_2 \\in \\mathbb{R}^1$\n",
    "\n",
    "\n",
    "using `torch.nn.Sequential` "
   ]
  },
  {
   "cell_type": "code",
   "execution_count": 5,
   "metadata": {},
   "outputs": [],
   "source": [
    "f = torch.nn.Sequential(\n",
    "    torch.nn.Linear(in_features=300, out_features=100),\n",
    "    torch.nn.ReLU(),\n",
    "    torch.nn.Linear(in_features=100, out_features=1),\n",
    ").to(device)"
   ]
  },
  {
   "cell_type": "markdown",
   "metadata": {},
   "source": [
    "Let's make some use of this network on real data.\n",
    "We are going to open a data dump containing ~5500 baby names. Each name is associated with a label (either 0 for male, or 1 for female), but also a 300-dimensional vector. Representing words as dense vectors is standard practice in NLP; you will learn more about these vectors in your first assignment. For now, we will simply use them in an attempt to teach the network to distinguish between boy and girl babies given their names, while writing some useful code in the process. 👶"
   ]
  },
  {
   "cell_type": "code",
   "execution_count": 10,
   "metadata": {},
   "outputs": [],
   "source": [
    "import pickle\n",
    "with open('name_data.p', 'rb') as file:\n",
    "    names, vectors, labels = pickle.load(file)"
   ]
  },
  {
   "cell_type": "markdown",
   "metadata": {},
   "source": [
    "What do our data look like? Run the snippet below a couple of times to get an impression."
   ]
  },
  {
   "cell_type": "code",
   "execution_count": 26,
   "metadata": {},
   "outputs": [
    {
     "name": "stdout",
     "output_type": "stream",
     "text": [
      "[['Noel' '0']\n",
      " ['Danny' '1']\n",
      " ['Flem' '0']\n",
      " ['Mabel' '1']\n",
      " ['Birdie' '1']\n",
      " ['Vince' '0']\n",
      " ['Stephie' '1']\n",
      " ['Laurance' '0']\n",
      " ['Briney' '1']\n",
      " ['Josefina' '1']\n",
      " ['Bernard' '0']\n",
      " ['Tabor' '0']\n",
      " ['Ame' '1']\n",
      " ['Clyde' '0']\n",
      " ['Darci' '1']\n",
      " ['Matteo' '0']\n",
      " ['Spenser' '0']\n",
      " ['Lynne' '1']\n",
      " ['Regan' '0']\n",
      " ['Katee' '1']]\n"
     ]
    }
   ],
   "source": [
    "print(np.random.permutation(list(zip(names, labels)))[0:20])"
   ]
  },
  {
   "cell_type": "markdown",
   "metadata": {},
   "source": [
    "`vectors` is a list of numpy arrays, and `labels` is a list of integers. We will need to convert them to lists of FloatTensors. Since that is a lot of data, it is unlikely for them to all fit in the GPU, so we will use the RAM as a temporary storage regardless of your currently used device."
   ]
  },
  {
   "cell_type": "code",
   "execution_count": 27,
   "metadata": {},
   "outputs": [],
   "source": [
    "vectors = list(map(lambda x: torch.tensor(x, dtype=torch.float), vectors))  # or alternatively, vectors = [torch.tensor(vector) for vector in vectors]\n",
    "labels = list(map(lambda x: torch.tensor(x, dtype=torch.float), labels))  "
   ]
  },
  {
   "cell_type": "markdown",
   "metadata": {},
   "source": [
    "Training on your entire dataset is bad practice; we should split the data into a training set and a validation set. We could either do it manually, or let `sklearn` do it for us."
   ]
  },
  {
   "cell_type": "code",
   "execution_count": 28,
   "metadata": {},
   "outputs": [],
   "source": [
    "from sklearn.model_selection import train_test_split\n",
    "names_train, names_val, X_train, X_val, Y_train, Y_val = train_test_split(names, vectors, labels, test_size=0.2)\n",
    "assert len(X_train) == len(Y_train) == len(names_train)\n",
    "assert len(X_val) == len(Y_val) == len(names_val)"
   ]
  },
  {
   "cell_type": "markdown",
   "metadata": {},
   "source": [
    "Now that we have split the data, we may convert them from a list of tensors onto a big tensor. We could do that by using `view()` to expand the first dimension of each vector and then `cat()` to merge them, but an easier shorthand is `stack()`."
   ]
  },
  {
   "cell_type": "code",
   "execution_count": 29,
   "metadata": {},
   "outputs": [
    {
     "name": "stdout",
     "output_type": "stream",
     "text": [
      "torch.Size([4310, 300])\n",
      "torch.Size([1078, 300])\n",
      "torch.Size([4310])\n",
      "torch.Size([1078])\n"
     ]
    }
   ],
   "source": [
    "X_train = torch.stack(X_train)\n",
    "X_val = torch.stack(X_val)\n",
    "Y_train = torch.tensor(Y_train)\n",
    "Y_val = torch.tensor(Y_val)\n",
    "print(X_train.shape)\n",
    "print(X_val.shape)\n",
    "print(Y_train.shape)\n",
    "print(Y_val.shape)"
   ]
  },
  {
   "cell_type": "markdown",
   "metadata": {},
   "source": [
    "Now that we have our tensors in a sensible format, we may construct a Dataset (a storage unit for our data) and a DataLoader (a wrapper responsible for shuffling the data, iterating through them and converting them to batches)."
   ]
  },
  {
   "cell_type": "code",
   "execution_count": 30,
   "metadata": {},
   "outputs": [],
   "source": [
    "from torch.utils.data import TensorDataset\n",
    "from torch.utils.data import DataLoader\n",
    "\n",
    "train_dataset = TensorDataset(X_train, Y_train)\n",
    "train_dataloader = DataLoader(train_dataset, batch_size=32, shuffle=True)\n",
    "val_dataset = TensorDataset(X_val, Y_val)\n",
    "val_dataloader = DataLoader(val_dataset, batch_size=32, shuffle=False)  # no need to shuffle the validation data"
   ]
  },
  {
   "cell_type": "markdown",
   "metadata": {},
   "source": [
    "Let's begin and immediately stop an iteration through the training dataloader to get an idea of what's going on."
   ]
  },
  {
   "cell_type": "code",
   "execution_count": 31,
   "metadata": {},
   "outputs": [
    {
     "name": "stdout",
     "output_type": "stream",
     "text": [
      "torch.Size([32, 300])\n",
      "torch.float32\n",
      "torch.Size([32])\n",
      "torch.float32\n"
     ]
    }
   ],
   "source": [
    "for batch_x, batch_y in train_dataloader:\n",
    "    print(batch_x.shape)\n",
    "    print(batch_x.dtype)\n",
    "    print(batch_y.shape)\n",
    "    print(batch_y.dtype)\n",
    "    break\n"
   ]
  },
  {
   "cell_type": "markdown",
   "metadata": {},
   "source": [
    "Looking good; batch_x is 32 300-dimensional vectors, and batch_y is 32 values."
   ]
  },
  {
   "cell_type": "markdown",
   "metadata": {},
   "source": [
    "`train_batch()` is a function that takes a network, a batch of inputs, a batch of outputs, a loss function and an optimizer, runs the training routine on that batch and returns the loss value of that batch"
   ]
  },
  {
   "cell_type": "code",
   "execution_count": 32,
   "metadata": {},
   "outputs": [],
   "source": [
    "from typing import Callable, List\n",
    "\n",
    "def train_batch(network: torch.nn.Module,  # the network\n",
    "                X_batch: torch.FloatTensor,  # the X batch\n",
    "                Y_batch: torch.LongTensor,   # the Y batch\n",
    "                # a function from a FloatTensor (prediction) and a FloatTensor (Y) to a FloatTensor (the loss)\n",
    "                loss_fn: Callable[[torch.FloatTensor, torch.FloatTensor], torch.FloatTensor],  \n",
    "                # the optimizer\n",
    "                optimizer: torch.optim.Optimizer) -> float:\n",
    "    \n",
    "    network.train()\n",
    "    \n",
    "    prediction_batch = network(X_batch)  # forward pass\n",
    "    batch_loss = loss_fn(prediction_batch.view(-1), Y_batch)  # loss calculation\n",
    "    batch_loss.backward()  # gradient computation\n",
    "    optimizer.step()  # back-propagation\n",
    "    optimizer.zero_grad()  # gradient reset\n",
    "    return batch_loss.item()"
   ]
  },
  {
   "cell_type": "markdown",
   "metadata": {},
   "source": [
    "<div class=\"alert alert-block alert-info\">\n",
    "<b>Note:</b> Several network components (e.g. dropout units) may behave differently during training and validation. We use `.train()` to inform the network that we are in training time.\n",
    "</div>\n",
    "\n",
    "<div class=\"alert alert-block alert-warning\">\n",
    "<b>Warning:</b>\n",
    "The `batch_loss` tensor requires gradient (why?). It is important to return its contents with `.item()` rather than the tensor itself, otherwise we risk memory leak because of the accumulated gradient tracking.\n",
    "</div>"
   ]
  },
  {
   "cell_type": "markdown",
   "metadata": {},
   "source": [
    "`train_epoch()` is a function that takes a network, the training dataloader, a loss function and an optimizer. It iterates through the dataloader and is responsible for calling `train_batch()`."
   ]
  },
  {
   "cell_type": "code",
   "execution_count": 33,
   "metadata": {},
   "outputs": [],
   "source": [
    "def train_epoch(network: torch.nn.Module, \n",
    "                # a list of data points x\n",
    "                dataloader: DataLoader,\n",
    "                loss_fn: Callable[[torch.FloatTensor, torch.FloatTensor], torch.FloatTensor],\n",
    "                optimizer: torch.optim.Optimizer, \n",
    "                device: str) -> float:\n",
    "    \n",
    "    loss = 0.\n",
    "    \n",
    "    for i, (x_batch, y_batch) in enumerate(dataloader):\n",
    "        x_batch = x_batch.to(device)  # convert back to your chosen device\n",
    "        y_batch = y_batch.to(device)\n",
    "        loss += train_batch(network=network, X_batch=x_batch, Y_batch=y_batch, loss_fn=loss_fn, optimizer=optimizer)\n",
    "    loss /= (i+1) # divide loss by number of batches for consistency \n",
    "        \n",
    "    return loss"
   ]
  },
  {
   "cell_type": "markdown",
   "metadata": {},
   "source": [
    "Your turn; fill in the missing parts of `eval_batch()`, a function that takes a network, a batch of inputs, a batch of outputs and a loss function, and computes the loss of that batch."
   ]
  },
  {
   "cell_type": "code",
   "execution_count": 34,
   "metadata": {},
   "outputs": [],
   "source": [
    "def eval_batch(network: torch.nn.Module,  # the network\n",
    "                X_batch: torch.FloatTensor,  # the X batch\n",
    "                Y_batch: torch.LongTensor,   # the Y batch\n",
    "                loss_fn: Callable[[torch.FloatTensor, torch.LongTensor], torch.FloatTensor]) -> float:\n",
    "    \n",
    "    network.eval()\n",
    "    \n",
    "    with torch.no_grad():\n",
    "        prediction_batch = network(X_batch)  # forward pass\n",
    "        batch_loss = loss_fn(prediction_batch.view(-1), Y_batch)  # loss calculation\n",
    "        \n",
    "    return batch_loss.item()"
   ]
  },
  {
   "cell_type": "markdown",
   "metadata": {},
   "source": [
    "<div class=\"alert alert-block alert-info\">\n",
    "<b>Note:</b> Notice that we use `.eval()` to inform the network we are in validation time. Notice also the `no_grad()` context; this is telling torch that it doesn't need to bother with gradient tracking momentarily, providing a significant speed-up for the current session.\n",
    "</div>"
   ]
  },
  {
   "cell_type": "markdown",
   "metadata": {},
   "source": [
    "`eval_epoch()` is basically the same as `train_epoch()`, aside the lack of an optimizer."
   ]
  },
  {
   "cell_type": "code",
   "execution_count": 35,
   "metadata": {},
   "outputs": [],
   "source": [
    "def eval_epoch(network: torch.nn.Module, \n",
    "                # a list of data points x\n",
    "                dataloader: DataLoader,\n",
    "                loss_fn: Callable[[torch.FloatTensor, torch.LongTensor], torch.FloatTensor],\n",
    "                device: str) -> float:\n",
    "    \n",
    "    loss = 0.\n",
    "    \n",
    "    for i, (x_batch, y_batch) in enumerate(dataloader):\n",
    "        x_batch = x_batch.to(device)\n",
    "        y_batch = y_batch.to(device)\n",
    "        loss += eval_batch(network=network, X_batch=x_batch, Y_batch=y_batch, loss_fn=loss_fn)\n",
    "    loss /= (i+1)\n",
    "        \n",
    "    return loss"
   ]
  },
  {
   "cell_type": "markdown",
   "metadata": {},
   "source": [
    "We can also make an auxilliary `infer_batch()` function; the forward pass gives us the final layer's output, but we might just be interested in the predicted class rather than its probability."
   ]
  },
  {
   "cell_type": "code",
   "execution_count": 36,
   "metadata": {},
   "outputs": [],
   "source": [
    "def infer_batch(network: torch.nn.Module, \n",
    "                batch_x: torch.FloatTensor, \n",
    "                device: str) -> torch.LongTensor:\n",
    "    \n",
    "    # first apply the sigmoid activation (since it is implemented by the loss function rather than the network itself)\n",
    "    sigm = torch.sigmoid(network(batch_x.to(device)))\n",
    "    # round the result\n",
    "    classes = torch.round(sigm)\n",
    "    # detach it from the computation graph (we no longer care about its gradients)\n",
    "    classes = classes.detach()\n",
    "    # cast the result into a LongTensor and return\n",
    "    return classes.to(torch.long)"
   ]
  },
  {
   "cell_type": "markdown",
   "metadata": {},
   "source": [
    "One last thing before we can finally train; we need a loss function and an optimizer. "
   ]
  },
  {
   "cell_type": "code",
   "execution_count": 37,
   "metadata": {},
   "outputs": [],
   "source": [
    "opt = torch.optim.Adam(f.parameters(), lr=1e-05)\n",
    "loss_fn = torch.nn.BCEWithLogitsLoss(reduction='mean')"
   ]
  },
  {
   "cell_type": "code",
   "execution_count": 38,
   "metadata": {},
   "outputs": [
    {
     "name": "stdout",
     "output_type": "stream",
     "text": [
      "Epoch 0\n",
      " Training Loss: 0.6862717169302481\n",
      " Validation Loss: 0.6812330852536594\n",
      "Epoch 1\n",
      " Training Loss: 0.6782493326399062\n",
      " Validation Loss: 0.6730842993539923\n",
      "Epoch 2\n",
      " Training Loss: 0.6704386163640905\n",
      " Validation Loss: 0.6650347937555874\n",
      "Epoch 3\n",
      " Training Loss: 0.6624353046770449\n",
      " Validation Loss: 0.6568203498335445\n",
      "Epoch 4\n",
      " Training Loss: 0.6542156060536702\n",
      " Validation Loss: 0.6482703247491051\n",
      "Epoch 5\n",
      " Training Loss: 0.6457473896167897\n",
      " Validation Loss: 0.6394237227299634\n",
      "Epoch 6\n",
      " Training Loss: 0.636907422542572\n",
      " Validation Loss: 0.6301699158023385\n",
      "Epoch 7\n",
      " Training Loss: 0.6276489010563603\n",
      " Validation Loss: 0.6205104063538944\n",
      "Epoch 8\n",
      " Training Loss: 0.618245937206127\n",
      " Validation Loss: 0.6104666660813725\n",
      "Epoch 9\n",
      " Training Loss: 0.6082376528669287\n",
      " Validation Loss: 0.6002690914799186\n",
      "Epoch 10\n",
      " Training Loss: 0.5982060767986156\n",
      " Validation Loss: 0.5897014772190767\n",
      "Epoch 11\n",
      " Training Loss: 0.5878971170496058\n",
      " Validation Loss: 0.5790153040605432\n",
      "Epoch 12\n",
      " Training Loss: 0.5774155391587151\n",
      " Validation Loss: 0.5683145882452235\n",
      "Epoch 13\n",
      " Training Loss: 0.5670640969717944\n",
      " Validation Loss: 0.5575332185801338\n",
      "Epoch 14\n",
      " Training Loss: 0.5568562200775853\n",
      " Validation Loss: 0.5469115727088031\n",
      "Epoch 15\n",
      " Training Loss: 0.5468427384341205\n",
      " Validation Loss: 0.5363940622876672\n",
      "Epoch 16\n",
      " Training Loss: 0.5369174078658775\n",
      " Validation Loss: 0.5262934784678852\n",
      "Epoch 17\n",
      " Training Loss: 0.5273345229802309\n",
      " Validation Loss: 0.516423580401084\n",
      "Epoch 18\n",
      " Training Loss: 0.518190249911061\n",
      " Validation Loss: 0.5069731649230508\n",
      "Epoch 19\n",
      " Training Loss: 0.5093814119144723\n",
      " Validation Loss: 0.497763009632335\n",
      "Epoch 20\n",
      " Training Loss: 0.5011433080390647\n",
      " Validation Loss: 0.4889700745835024\n",
      "Epoch 21\n",
      " Training Loss: 0.49283261564042835\n",
      " Validation Loss: 0.4808710480437559\n",
      "Epoch 22\n",
      " Training Loss: 0.4851174411950288\n",
      " Validation Loss: 0.47300102254923654\n",
      "Epoch 23\n",
      " Training Loss: 0.47817302103395815\n",
      " Validation Loss: 0.465433451182702\n",
      "Epoch 24\n",
      " Training Loss: 0.4710601504202242\n",
      " Validation Loss: 0.45842114529188943\n",
      "Epoch 25\n",
      " Training Loss: 0.4646140299461506\n",
      " Validation Loss: 0.45171161697191353\n",
      "Epoch 26\n",
      " Training Loss: 0.45841998789045546\n",
      " Validation Loss: 0.44541406806777506\n",
      "Epoch 27\n",
      " Training Loss: 0.4529427475399441\n",
      " Validation Loss: 0.4394410427878885\n",
      "Epoch 28\n",
      " Training Loss: 0.4471949045304899\n",
      " Validation Loss: 0.43390338298152475\n",
      "Epoch 29\n",
      " Training Loss: 0.4426118146490168\n",
      " Validation Loss: 0.4286002849831301\n",
      "Epoch 30\n",
      " Training Loss: 0.43757455945014956\n",
      " Validation Loss: 0.4236319503363441\n",
      "Epoch 31\n",
      " Training Loss: 0.4330141692249863\n",
      " Validation Loss: 0.41904665179112377\n",
      "Epoch 32\n",
      " Training Loss: 0.4287306973227748\n",
      " Validation Loss: 0.4146261627183241\n",
      "Epoch 33\n",
      " Training Loss: 0.4247995716554147\n",
      " Validation Loss: 0.41047680991537433\n",
      "Epoch 34\n",
      " Training Loss: 0.42148338821199205\n",
      " Validation Loss: 0.4066205384100185\n",
      "Epoch 35\n",
      " Training Loss: 0.4176310978553913\n",
      " Validation Loss: 0.4030805431744632\n",
      "Epoch 36\n",
      " Training Loss: 0.41454133170622365\n",
      " Validation Loss: 0.39964094407418194\n",
      "Epoch 37\n",
      " Training Loss: 0.41136458781030444\n",
      " Validation Loss: 0.3964204744381063\n",
      "Epoch 38\n",
      " Training Loss: 0.40832873273778847\n",
      " Validation Loss: 0.3934234687510659\n",
      "Epoch 39\n",
      " Training Loss: 0.4058323032326169\n",
      " Validation Loss: 0.39057132952353535\n",
      "Epoch 40\n",
      " Training Loss: 0.40326681755207205\n",
      " Validation Loss: 0.3878769528339891\n",
      "Epoch 41\n",
      " Training Loss: 0.4005945673695317\n",
      " Validation Loss: 0.38535165611435385\n",
      "Epoch 42\n",
      " Training Loss: 0.39825631578763326\n",
      " Validation Loss: 0.38302884601494847\n",
      "Epoch 43\n",
      " Training Loss: 0.3965782973501417\n",
      " Validation Loss: 0.3807869049556115\n",
      "Epoch 44\n",
      " Training Loss: 0.3943675852484173\n",
      " Validation Loss: 0.3786252588033676\n",
      "Epoch 45\n",
      " Training Loss: 0.3921829700469971\n",
      " Validation Loss: 0.37674785799839916\n",
      "Epoch 46\n",
      " Training Loss: 0.3906832510674441\n",
      " Validation Loss: 0.3748577806879492\n",
      "Epoch 47\n",
      " Training Loss: 0.388539476858245\n",
      " Validation Loss: 0.3731062035350239\n",
      "Epoch 48\n",
      " Training Loss: 0.3867250778056957\n",
      " Validation Loss: 0.3714453424600994\n",
      "Epoch 49\n",
      " Training Loss: 0.3852653778261609\n",
      " Validation Loss: 0.36989662971566706\n",
      "Epoch 50\n",
      " Training Loss: 0.3836643625188757\n",
      " Validation Loss: 0.36843495465376797\n",
      "Epoch 51\n",
      " Training Loss: 0.3825173318386078\n",
      " Validation Loss: 0.3670470846049926\n",
      "Epoch 52\n",
      " Training Loss: 0.38087997580016103\n",
      " Validation Loss: 0.36568204927093845\n",
      "Epoch 53\n",
      " Training Loss: 0.37986535948735695\n",
      " Validation Loss: 0.36448655759587006\n",
      "Epoch 54\n",
      " Training Loss: 0.37866618820914516\n",
      " Validation Loss: 0.36333057284355164\n",
      "Epoch 55\n",
      " Training Loss: 0.3777209609746933\n",
      " Validation Loss: 0.36220235421377067\n",
      "Epoch 56\n",
      " Training Loss: 0.37627693392612316\n",
      " Validation Loss: 0.3611655222142444\n",
      "Epoch 57\n",
      " Training Loss: 0.3755422521520544\n",
      " Validation Loss: 0.36015409318839803\n",
      "Epoch 58\n",
      " Training Loss: 0.3747174286180072\n",
      " Validation Loss: 0.3591870069503784\n",
      "Epoch 59\n",
      " Training Loss: 0.3733063120532919\n",
      " Validation Loss: 0.358306620927418\n",
      "Epoch 60\n",
      " Training Loss: 0.37206613995410776\n",
      " Validation Loss: 0.35747931678505507\n",
      "Epoch 61\n",
      " Training Loss: 0.37120316370769785\n",
      " Validation Loss: 0.3566499163999277\n",
      "Epoch 62\n",
      " Training Loss: 0.3704078036325949\n",
      " Validation Loss: 0.3559398247915156\n",
      "Epoch 63\n",
      " Training Loss: 0.3698714881031602\n",
      " Validation Loss: 0.3551508424913182\n",
      "Epoch 64\n",
      " Training Loss: 0.36868883349277354\n",
      " Validation Loss: 0.354509430773118\n",
      "Epoch 65\n",
      " Training Loss: 0.36800709455101577\n",
      " Validation Loss: 0.35375697866958733\n",
      "Epoch 66\n",
      " Training Loss: 0.36732097389521423\n",
      " Validation Loss: 0.35317699085263643\n",
      "Epoch 67\n",
      " Training Loss: 0.36645798594863327\n",
      " Validation Loss: 0.35254572507213144\n",
      "Epoch 68\n",
      " Training Loss: 0.36584286634568813\n",
      " Validation Loss: 0.35198845714330673\n",
      "Epoch 69\n",
      " Training Loss: 0.3652405962899879\n",
      " Validation Loss: 0.3514554404160556\n",
      "Epoch 70\n",
      " Training Loss: 0.3646079028094256\n",
      " Validation Loss: 0.3509276754715863\n",
      "Epoch 71\n",
      " Training Loss: 0.3636649695811448\n",
      " Validation Loss: 0.3504173488301389\n",
      "Epoch 72\n",
      " Training Loss: 0.36323084213115553\n",
      " Validation Loss: 0.34995056513477774\n",
      "Epoch 73\n",
      " Training Loss: 0.36240637412777654\n",
      " Validation Loss: 0.3495093811960781\n",
      "Epoch 74\n",
      " Training Loss: 0.3619753744867113\n",
      " Validation Loss: 0.349056015996372\n",
      "Epoch 75\n",
      " Training Loss: 0.36145479679107667\n",
      " Validation Loss: 0.34866925767239404\n",
      "Epoch 76\n",
      " Training Loss: 0.360885586782738\n",
      " Validation Loss: 0.348236884264385\n",
      "Epoch 77\n",
      " Training Loss: 0.36023971328028925\n",
      " Validation Loss: 0.34791454103063135\n",
      "Epoch 78\n",
      " Training Loss: 0.3598978692734683\n",
      " Validation Loss: 0.3475152166450725\n",
      "Epoch 79\n",
      " Training Loss: 0.35915929421230597\n",
      " Validation Loss: 0.34714945800164165\n",
      "Epoch 80\n",
      " Training Loss: 0.35886010615913955\n",
      " Validation Loss: 0.346841544351157\n",
      "Epoch 81\n",
      " Training Loss: 0.358002006455704\n",
      " Validation Loss: 0.34650952719590244\n",
      "Epoch 82\n",
      " Training Loss: 0.35782642684600974\n",
      " Validation Loss: 0.34625304534154777\n",
      "Epoch 83\n",
      " Training Loss: 0.35745273188308435\n",
      " Validation Loss: 0.3459852666539304\n",
      "Epoch 84\n",
      " Training Loss: 0.3568914320733812\n",
      " Validation Loss: 0.34569432630258445\n",
      "Epoch 85\n",
      " Training Loss: 0.356634090785627\n",
      " Validation Loss: 0.34544966545175104\n",
      "Epoch 86\n",
      " Training Loss: 0.3561258128395787\n",
      " Validation Loss: 0.3451834014233421\n",
      "Epoch 87\n",
      " Training Loss: 0.35554466203407004\n",
      " Validation Loss: 0.34495489343124275\n",
      "Epoch 88\n",
      " Training Loss: 0.35535910262001885\n",
      " Validation Loss: 0.34468739742741866\n",
      "Epoch 89\n",
      " Training Loss: 0.3544363026265745\n",
      " Validation Loss: 0.34450579040190754\n",
      "Epoch 90\n",
      " Training Loss: 0.3546678986814287\n",
      " Validation Loss: 0.34425562006585736\n",
      "Epoch 91\n",
      " Training Loss: 0.3537576659961983\n",
      " Validation Loss: 0.34404269299086404\n",
      "Epoch 92\n",
      " Training Loss: 0.3533837799672727\n",
      " Validation Loss: 0.34387848087969947\n",
      "Epoch 93\n",
      " Training Loss: 0.3536056812162752\n",
      " Validation Loss: 0.3436717474285294\n",
      "Epoch 94\n",
      " Training Loss: 0.3528545461319111\n",
      " Validation Loss: 0.3435301662367933\n",
      "Epoch 95\n",
      " Training Loss: 0.3522230269732299\n",
      " Validation Loss: 0.3433549798586789\n",
      "Epoch 96\n",
      " Training Loss: 0.35169631706343757\n",
      " Validation Loss: 0.3431362343185088\n",
      "Epoch 97\n",
      " Training Loss: 0.35177770919269985\n",
      " Validation Loss: 0.3429917211041731\n",
      "Epoch 98\n",
      " Training Loss: 0.35105564263131883\n",
      " Validation Loss: 0.34285949784166675\n",
      "Epoch 99\n",
      " Training Loss: 0.3511567400561439\n",
      " Validation Loss: 0.3426940068602562\n"
     ]
    }
   ],
   "source": [
    "NUM_EPOCHS = 100\n",
    "\n",
    "train_losses = []\n",
    "val_losses = []\n",
    "\n",
    "for t in range(NUM_EPOCHS):\n",
    "    train_loss = train_epoch(f, train_dataloader, optimizer=opt, loss_fn=loss_fn, device=device)\n",
    "    val_loss = eval_epoch(f, val_dataloader, loss_fn, device=device)\n",
    "    \n",
    "    print('Epoch {}'.format(t))\n",
    "    print(' Training Loss: {}'.format(train_loss))\n",
    "    print(' Validation Loss: {}'.format(val_loss))\n",
    "    \n",
    "    train_losses.append(train_loss)\n",
    "    val_losses.append(val_loss)"
   ]
  },
  {
   "cell_type": "markdown",
   "metadata": {},
   "source": [
    "We may plot the losses to get an idea of what the learning curve looks like."
   ]
  },
  {
   "cell_type": "code",
   "execution_count": 40,
   "metadata": {},
   "outputs": [
    {
     "data": {
      "image/png": "[encoded data removed]",
      "text/plain": [
       "<Figure size 432x288 with 1 Axes>"
      ]
     },
     "metadata": {
      "needs_background": "light"
     },
     "output_type": "display_data"
    }
   ],
   "source": [
    "from matplotlib import pyplot as plt\n",
    "plt.plot(train_losses)\n",
    "plt.plot(val_losses)\n",
    "plt.legend(['Training', 'Validation'])\n",
    "plt.show()"
   ]
  },
  {
   "cell_type": "markdown",
   "metadata": {},
   "source": [
    "And let's bring this to an end by labeling all of our validation data and printing the results."
   ]
  },
  {
   "cell_type": "code",
   "execution_count": 41,
   "metadata": {},
   "outputs": [
    {
     "name": "stdout",
     "output_type": "stream",
     "text": [
      "[('Renaud', [0]),\n",
      " ('Mora', [0]),\n",
      " ('Yelena', [1]),\n",
      " ('Albatros', [1]),\n",
      " ('Isobel', [1]),\n",
      " ('Fred', [0]),\n",
      " ('Esmerelda', [1]),\n",
      " ('Patricio', [0]),\n",
      " ('Allegra', [1]),\n",
      " ('Carlton', [0]),\n",
      " ('Jude', [0]),\n",
      " ('Andreas', [0]),\n",
      " ('Mohammed', [0]),\n",
      " ('Nickolas', [0]),\n",
      " ('Jonas', [0]),\n",
      " ('Friedrich', [0]),\n",
      " ('Pippa', [1]),\n",
      " ('Susana', [1]),\n",
      " ('Tull', [0]),\n",
      " ('Edie', [1]),\n",
      " ('Chriss', [0]),\n",
      " ('Jodie', [1]),\n",
      " ('Silvio', [0]),\n",
      " ('Penn', [0]),\n",
      " ('Laurent', [0]),\n",
      " ('Shelden', [0]),\n",
      " ('Candice', [1]),\n",
      " ('Ilona', [1]),\n",
      " ('Star', [1]),\n",
      " ('Yankee', [0]),\n",
      " ('Simone', [1]),\n",
      " ('Neddy', [0]),\n",
      " ('Carlee', [1]),\n",
      " ('Wilson', [0]),\n",
      " ('Lisbeth', [1]),\n",
      " ('Brooks', [0]),\n",
      " ('Ferne', [1]),\n",
      " ('Lora', [1]),\n",
      " ('Adela', [1]),\n",
      " ('Madge', [1]),\n",
      " ('Mack', [0]),\n",
      " ('Latisha', [1]),\n",
      " ('Husein', [1]),\n",
      " ('Rocky', [0]),\n",
      " ('Peggy', [1]),\n",
      " ('Roselle', [1]),\n",
      " ('Kristan', [1]),\n",
      " ('Quill', [0]),\n",
      " ('Morna', [1]),\n",
      " ('Luciana', [1]),\n",
      " ('Matthias', [0]),\n",
      " ('Rik', [0]),\n",
      " ('Darth', [0]),\n",
      " ('Wilden', [1]),\n",
      " ('Gwynne', [0]),\n",
      " ('Ileana', [1]),\n",
      " ('Jen', [1]),\n",
      " ('Lilly', [1]),\n",
      " ('Gustaf', [0]),\n",
      " ('Hatti', [1]),\n",
      " ('Claudine', [1]),\n",
      " ('Derrick', [0]),\n",
      " ('Suzanne', [1]),\n",
      " ('Janos', [0]),\n",
      " ('Noelle', [1]),\n",
      " ('Nani', [1]),\n",
      " ('Sloane', [0]),\n",
      " ('Lenka', [1]),\n",
      " ('Libby', [1]),\n",
      " ('Daryn', [1]),\n",
      " ('Granville', [0]),\n",
      " ('Bjorn', [0]),\n",
      " ('Ginni', [1]),\n",
      " ('Lara', [1]),\n",
      " ('Magdalena', [1]),\n",
      " ('Rog', [0]),\n",
      " ('Floria', [1]),\n",
      " ('Enrico', [0]),\n",
      " ('Sande', [0]),\n",
      " ('Gill', [0]),\n",
      " ('Elysia', [1]),\n",
      " ('Belle', [1]),\n",
      " ('Dianne', [1]),\n",
      " ('Fay', [1]),\n",
      " ('Adah', [1]),\n",
      " ('Quintana', [1]),\n",
      " ('Sandy', [1]),\n",
      " ('Dee', [1]),\n",
      " ('Lamont', [0]),\n",
      " ('Arther', [0]),\n",
      " ('Mahmoud', [0]),\n",
      " ('Moya', [1]),\n",
      " ('Kandy', [1]),\n",
      " ('Dona', [1]),\n",
      " ('Artur', [0]),\n",
      " ('Harv', [0]),\n",
      " ('Henry', [0]),\n",
      " ('Collin', [0]),\n",
      " ('Claude', [0]),\n",
      " ('Barn', [0]),\n",
      " ('Sheff', [0]),\n",
      " ('Piper', [0]),\n",
      " ('Sybil', [1]),\n",
      " ('Trix', [0]),\n",
      " ('Willa', [1]),\n",
      " ('Aryn', [1]),\n",
      " ('Zachary', [0]),\n",
      " ('Sven', [0]),\n",
      " ('Ram', [0]),\n",
      " ('Chicky', [1]),\n",
      " ('Murray', [0]),\n",
      " ('Octavia', [1]),\n",
      " ('Quinta', [1]),\n",
      " ('Amory', [0]),\n",
      " ('Shaina', [1]),\n",
      " ('Willi', [0]),\n",
      " ('Aileen', [1]),\n",
      " ('Jimmy', [0]),\n",
      " ('Lucina', [1]),\n",
      " ('Madona', [1]),\n",
      " ('Deane', [0]),\n",
      " ('Berny', [0]),\n",
      " ('Rustin', [0]),\n",
      " ('Deidre', [1]),\n",
      " ('Fern', [1]),\n",
      " ('Viva', [1]),\n",
      " ('Krystle', [1]),\n",
      " ('Aron', [0]),\n",
      " ('Brooke', [1]),\n",
      " ('Thelma', [1]),\n",
      " ('Raoul', [0]),\n",
      " ('Graeme', [0]),\n",
      " ('Liam', [0]),\n",
      " ('Kirby', [0]),\n",
      " ('Mame', [1]),\n",
      " ('Perl', [0]),\n",
      " ('Henrik', [0]),\n",
      " ('Irving', [0]),\n",
      " ('Fitz', [0]),\n",
      " ('Phylis', [1]),\n",
      " ('Egbert', [0]),\n",
      " ('Babette', [1]),\n",
      " ('Aleta', [1]),\n",
      " ('Judy', [1]),\n",
      " ('Colly', [1]),\n",
      " ('Dixie', [1]),\n",
      " ('Ginnifer', [1]),\n",
      " ('Adrianna', [1]),\n",
      " ('Saba', [1]),\n",
      " ('Sayre', [0]),\n",
      " ('Mace', [0]),\n",
      " ('Cristin', [1]),\n",
      " ('Er', [0]),\n",
      " ('Angelika', [1]),\n",
      " ('Dom', [1]),\n",
      " ('Tana', [1]),\n",
      " ('Madalena', [1]),\n",
      " ('Carol', [1]),\n",
      " ('Silvester', [0]),\n",
      " ('Anastasia', [1]),\n",
      " ('Addie', [1]),\n",
      " ('Dyson', [0]),\n",
      " ('Bruce', [0]),\n",
      " ('Reynolds', [0]),\n",
      " ('Heathcliff', [1]),\n",
      " ('Vasily', [0]),\n",
      " ('Mayer', [0]),\n",
      " ('Lin', [1]),\n",
      " ('Wain', [0]),\n",
      " ('Alene', [1]),\n",
      " ('Alaa', [0]),\n",
      " ('Chancey', [0]),\n",
      " ('Barbe', [1]),\n",
      " ('Virge', [1]),\n",
      " ('Salvatore', [0]),\n",
      " ('Buster', [0]),\n",
      " ('Marcio', [0]),\n",
      " ('Ritch', [0]),\n",
      " ('Steve', [0]),\n",
      " ('Roze', [1]),\n",
      " ('Scot', [0]),\n",
      " ('Web', [0]),\n",
      " ('Flinn', [0]),\n",
      " ('Sarina', [1]),\n",
      " ('Christian', [0]),\n",
      " ('Kori', [1]),\n",
      " ('Carleen', [1]),\n",
      " ('Arne', [0]),\n",
      " ('Melitta', [1]),\n",
      " ('Robert', [0]),\n",
      " ('Keene', [0]),\n",
      " ('Saxon', [0]),\n",
      " ('Chadwick', [0]),\n",
      " ('Susie', [1]),\n",
      " ('Bucky', [0]),\n",
      " ('Mira', [1]),\n",
      " ('Agatha', [1]),\n",
      " ('Spike', [0]),\n",
      " ('Lewis', [0]),\n",
      " ('Waldemar', [0]),\n",
      " ('Norma', [1]),\n",
      " ('Meryl', [1]),\n",
      " ('Jean-Paul', [0]),\n",
      " ('Shauna', [1]),\n",
      " ('Lou', [1]),\n",
      " ('Daniela', [1]),\n",
      " ('Tommie', [0]),\n",
      " ('Hillard', [1]),\n",
      " ('Antonius', [0]),\n",
      " ('Rubi', [1]),\n",
      " ('Jim', [0]),\n",
      " ('Meggy', [1]),\n",
      " ('Rhea', [1]),\n",
      " ('Cally', [1]),\n",
      " ('Barris', [0]),\n",
      " ('Chariot', [0]),\n",
      " ('Abel', [0]),\n",
      " ('Pollyanna', [1]),\n",
      " ('Maude', [1]),\n",
      " ('Sheila', [1]),\n",
      " ('Randi', [1]),\n",
      " ('Justis', [1]),\n",
      " ('Birgit', [1]),\n",
      " ('Gerhard', [0]),\n",
      " ('Janet', [1]),\n",
      " ('Flint', [0]),\n",
      " ('Rose', [1]),\n",
      " ('Karen', [1]),\n",
      " ('Ruddy', [0]),\n",
      " ('Allah', [1]),\n",
      " ('Sue-elle', [1]),\n",
      " ('William', [0]),\n",
      " ('Kaylyn', [1]),\n",
      " ('Beck', [0]),\n",
      " ('Hunt', [0]),\n",
      " ('Stephenie', [1]),\n",
      " ('Rikki', [1]),\n",
      " ('Shaun', [0]),\n",
      " ('Krissy', [1]),\n",
      " ('Jody', [1]),\n",
      " ('Cammi', [1]),\n",
      " ('Ruben', [0]),\n",
      " ('Harvey', [0]),\n",
      " ('Gardiner', [0]),\n",
      " ('Madeleine', [1]),\n",
      " ('Manya', [1]),\n",
      " ('Thurston', [0]),\n",
      " ('Loren', [1]),\n",
      " ('Putnam', [0]),\n",
      " ('Dyan', [1]),\n",
      " ('Fabian', [0]),\n",
      " ('Virginie', [1]),\n",
      " ('Kenny', [0]),\n",
      " ('Nickie', [1]),\n",
      " ('Higgins', [0]),\n",
      " ('Dell', [0]),\n",
      " ('Roberta', [1]),\n",
      " ('Karon', [1]),\n",
      " ('Miranda', [1]),\n",
      " ('Harvard', [0]),\n",
      " ('Kiri', [1]),\n",
      " ('Casper', [0]),\n",
      " ('Lonnie', [0]),\n",
      " ('Sammy', [0]),\n",
      " ('Augusto', [0]),\n",
      " ('Etty', [1]),\n",
      " ('Lawson', [0]),\n",
      " ('Dolly', [1]),\n",
      " ('Sibyl', [1]),\n",
      " ('Eleonora', [1]),\n",
      " ('Catherine', [1]),\n",
      " ('Gilligan', [1]),\n",
      " ('Rodger', [0]),\n",
      " ('Penny', [0]),\n",
      " ('Jock', [0]),\n",
      " ('Jolee', [1]),\n",
      " ('Hercules', [0]),\n",
      " ('Faith', [1]),\n",
      " ('Esme', [1]),\n",
      " ('Virginia', [0]),\n",
      " ('Adolphe', [0]),\n",
      " ('Berta', [1]),\n",
      " ('Pia', [1]),\n",
      " ('Sheridan', [0]),\n",
      " ('Kathrine', [1]),\n",
      " ('Trude', [1]),\n",
      " ('Geraldo', [0]),\n",
      " ('Francine', [1]),\n",
      " ('Kendal', [1]),\n",
      " ('Deborah', [1]),\n",
      " ('Jennie', [1]),\n",
      " ('Casandra', [1]),\n",
      " ('Kerstin', [1]),\n",
      " ('Wilber', [0]),\n",
      " ('Cass', [1]),\n",
      " ('Inna', [1]),\n",
      " ('Adena', [1]),\n",
      " ('Tito', [0]),\n",
      " ('Davy', [0]),\n",
      " ('Carie', [1]),\n",
      " ('Reggie', [0]),\n",
      " ('Lust', [1]),\n",
      " ('Mercedes', [1]),\n",
      " ('Dallas', [0]),\n",
      " ('Nada', [1]),\n",
      " ('Herrick', [0]),\n",
      " ('Luella', [1]),\n",
      " ('Jessie', [1]),\n",
      " ('Roderick', [0]),\n",
      " ('Cammie', [1]),\n",
      " ('Suki', [1]),\n",
      " ('Alanah', [1]),\n",
      " ('Dani', [1]),\n",
      " ('Maggie', [1]),\n",
      " ('Willis', [0]),\n",
      " ('Carey', [1]),\n",
      " ('Keil', [0]),\n",
      " ('Chanda', [1]),\n",
      " ('Hilde', [1]),\n",
      " ('Cletus', [0]),\n",
      " ('Chadd', [0]),\n",
      " ('Thorpe', [0]),\n",
      " ('Bailey', [0]),\n",
      " ('Jervis', [0]),\n",
      " ('Jacqueline', [1]),\n",
      " ('Sherry', [0]),\n",
      " ('Knox', [0]),\n",
      " ('Nannie', [1]),\n",
      " ('Henrie', [0]),\n",
      " ('Prentiss', [0]),\n",
      " ('Jeannie', [1]),\n",
      " ('Francisca', [1]),\n",
      " ('Brande', [1]),\n",
      " ('Fulton', [0]),\n",
      " ('Ash', [1]),\n",
      " ('Nara', [1]),\n",
      " ('Joey', [0]),\n",
      " ('Mortimer', [0]),\n",
      " ('Christopher', [0]),\n",
      " ('Paula-Grace', [1]),\n",
      " ('Christal', [1]),\n",
      " ('Jacklyn', [1]),\n",
      " ('Deni', [1]),\n",
      " ('Bellamy', [0]),\n",
      " ('Nona', [1]),\n",
      " ('Heath', [0]),\n",
      " ('Todd', [0]),\n",
      " ('Axel', [0]),\n",
      " ('Beau', [1]),\n",
      " ('Eben', [0]),\n",
      " ('Niccolo', [0]),\n",
      " ('Neil', [0]),\n",
      " ('Elmira', [0]),\n",
      " ('Sanderson', [0]),\n",
      " ('Abbot', [0]),\n",
      " ('Briana', [1]),\n",
      " ('Tristan', [0]),\n",
      " ('Randall', [0]),\n",
      " ('Fernanda', [1]),\n",
      " ('Staci', [1]),\n",
      " ('Brianne', [1]),\n",
      " ('Torin', [0]),\n",
      " ('Kirstin', [1]),\n",
      " ('Darrin', [0]),\n",
      " ('Carmel', [1]),\n",
      " ('Zelig', [0]),\n",
      " ('Duffy', [0]),\n",
      " ('Ernie', [0]),\n",
      " ('Hurley', [0]),\n",
      " ('Fanni', [1]),\n",
      " ('Tucker', [0]),\n",
      " ('Rosalie', [1]),\n",
      " ('Pennie', [0]),\n",
      " ('Mel', [1]),\n",
      " ('Stanwood', [1]),\n",
      " ('Colette', [1]),\n",
      " ('Lazarus', [0]),\n",
      " ('Wilt', [0]),\n",
      " ('Layla', [1]),\n",
      " ('Dyna', [1]),\n",
      " ('Wat', [0]),\n",
      " ('Stefanie', [1]),\n",
      " ('Matty', [0]),\n",
      " ('Willem', [0]),\n",
      " ('Andria', [1]),\n",
      " ('Kathi', [1]),\n",
      " ('Connie', [1]),\n",
      " ('Marigold', [1]),\n",
      " ('Chester', [0]),\n",
      " ('Arturo', [0]),\n",
      " ('Hedda', [1]),\n",
      " ('Nanette', [1]),\n",
      " ('Avis', [1]),\n",
      " ('Monica', [1]),\n",
      " ('Janine', [1]),\n",
      " ('Harmonie', [1]),\n",
      " ('Bonny', [1]),\n",
      " ('Aldrich', [0]),\n",
      " ('Selena', [1]),\n",
      " ('Reg', [0]),\n",
      " ('Floris', [1]),\n",
      " ('Hanni', [1]),\n",
      " ('Charmane', [1]),\n",
      " ('Shani', [1]),\n",
      " ('Vincent', [0]),\n",
      " ('Roxi', [1]),\n",
      " ('Trisha', [1]),\n",
      " ('Shawnee', [0]),\n",
      " ('Camellia', [1]),\n",
      " ('Bree', [1]),\n",
      " ('Myron', [0]),\n",
      " ('Bessie', [1]),\n",
      " ('Kirk', [0]),\n",
      " ('Waite', [0]),\n",
      " ('Christof', [0]),\n",
      " ('Rex', [0]),\n",
      " ('Kendrick', [0]),\n",
      " ('Grace', [1]),\n",
      " ('Marco', [0]),\n",
      " ('Joanie', [1]),\n",
      " ('Sinclair', [0]),\n",
      " ('Ignacio', [0]),\n",
      " ('Kyle', [0]),\n",
      " ('Joyce', [1]),\n",
      " ('Moll', [1]),\n",
      " ('Kalina', [1]),\n",
      " ('Mavis', [1]),\n",
      " ('Matias', [0]),\n",
      " ('Lesley', [1]),\n",
      " ('Grant', [0]),\n",
      " ('Michelle', [1]),\n",
      " ('Deny', [0]),\n",
      " ('Butler', [0]),\n",
      " ('Margaret', [1]),\n",
      " ('Luciano', [1]),\n",
      " ('Taylor', [0]),\n",
      " ('Easter', [1]),\n",
      " ('Jens', [0]),\n",
      " ('Patric', [0]),\n",
      " ('Durant', [0]),\n",
      " ('Meyer', [0]),\n",
      " ('Patrizia', [1]),\n",
      " ('Jocelyn', [1]),\n",
      " ('Kerry', [0]),\n",
      " ('Emlyn', [0]),\n",
      " ('Bathsheba', [0]),\n",
      " ('Bartel', [0]),\n",
      " ('Eleanor', [1]),\n",
      " ('Vince', [0]),\n",
      " ('Risa', [1]),\n",
      " ('Marti', [1]),\n",
      " ('Alleen', [1]),\n",
      " ('Augustina', [1]),\n",
      " ('Veronica', [1]),\n",
      " ('Pet', [0]),\n",
      " ('Antone', [0]),\n",
      " ('Celesta', [1]),\n",
      " ('Nan', [1]),\n",
      " ('Sharon', [1]),\n",
      " ('Berkeley', [0]),\n",
      " ('Ward', [0]),\n",
      " ('Heinz', [0]),\n"
     ]
    },
    {
     "name": "stdout",
     "output_type": "stream",
     "text": [
      " ('Coretta', [0]),\n",
      " ('Millie', [1]),\n",
      " ('Ebba', [1]),\n",
      " ('Dalila', [1]),\n",
      " ('Rebecca', [1]),\n",
      " ('Rosella', [1]),\n",
      " ('Sidney', [0]),\n",
      " ('Kristine', [1]),\n",
      " ('Lambert', [0]),\n",
      " ('Candida', [1]),\n",
      " ('Thorny', [1]),\n",
      " ('Kira', [1]),\n",
      " ('Humbert', [0]),\n",
      " ('Martha', [1]),\n",
      " ('Ronny', [0]),\n",
      " ('Archy', [0]),\n",
      " ('Niki', [1]),\n",
      " ('Paule', [1]),\n",
      " ('Noam', [0]),\n",
      " ('Kent', [0]),\n",
      " ('Dimitry', [0]),\n",
      " ('Quentin', [0]),\n",
      " ('Dew', [1]),\n",
      " ('Lissie', [1]),\n",
      " ('Gweneth', [1]),\n",
      " ('Riki', [1]),\n",
      " ('Nevil', [0]),\n",
      " ('Frederico', [0]),\n",
      " ('Mel', [1]),\n",
      " ('Angy', [1]),\n",
      " ('Garret', [0]),\n",
      " ('Beryl', [1]),\n",
      " ('Apollo', [0]),\n",
      " ('Janey', [1]),\n",
      " ('Yvonne', [1]),\n",
      " ('Vina', [1]),\n",
      " ('Levy', [0]),\n",
      " ('Shel', [1]),\n",
      " ('Rafa', [0]),\n",
      " ('Jacki', [1]),\n",
      " ('Belva', [1]),\n",
      " ('Tella', [1]),\n",
      " ('Austen', [1]),\n",
      " ('Marlo', [1]),\n",
      " ('Hyacinth', [1]),\n",
      " ('Honor', [1]),\n",
      " ('Alain', [0]),\n",
      " ('Reagan', [0]),\n",
      " ('Daryl', [0]),\n",
      " ('Marissa', [1]),\n",
      " ('Ambrosia', [1]),\n",
      " ('Denny', [0]),\n",
      " ('Lucie', [1]),\n",
      " ('Vonnie', [1]),\n",
      " ('Monique', [1]),\n",
      " ('Dani', [1]),\n",
      " ('Rey', [0]),\n",
      " ('Heloise', [1]),\n",
      " ('Ulla', [1]),\n",
      " ('Lissa', [1]),\n",
      " ('Mina', [1]),\n",
      " ('Olympia', [0]),\n",
      " ('Cappella', [1]),\n",
      " ('Samuel', [0]),\n",
      " ('Alison', [1]),\n",
      " ('Tiffy', [1]),\n",
      " ('Pier', [0]),\n",
      " ('Mimi', [1]),\n",
      " ('Engelbert', [0]),\n",
      " ('Briny', [1]),\n",
      " ('Myles', [0]),\n",
      " ('Ev', [0]),\n",
      " ('Daniele', [0]),\n",
      " ('Moss', [1]),\n",
      " ('Ravi', [0]),\n",
      " ('Sophie', [1]),\n",
      " ('Kathryn', [1]),\n",
      " ('Georg', [0]),\n",
      " ('Burnaby', [0]),\n",
      " ('Mandi', [1]),\n",
      " ('Annabell', [1]),\n",
      " ('Andromeda', [1]),\n",
      " ('Viole', [1]),\n",
      " ('Hiram', [0]),\n",
      " ('Vilma', [1]),\n",
      " ('Celle', [1]),\n",
      " ('Debora', [1]),\n",
      " ('Jo-Ann', [1]),\n",
      " ('Evangelina', [1]),\n",
      " ('Etta', [1]),\n",
      " ('Hollie', [1]),\n",
      " ('Cinderella', [1]),\n",
      " ('Jesse', [0]),\n",
      " ('Marcie', [1]),\n",
      " ('Cory', [0]),\n",
      " ('Cecil', [0]),\n",
      " ('Ira', [0]),\n",
      " ('Amanda', [1]),\n",
      " ('Jeffrey', [0]),\n",
      " ('Ginnie', [1]),\n",
      " ('Jessee', [0]),\n",
      " ('Tilly', [1]),\n",
      " ('Ariadne', [1]),\n",
      " ('Vi', [0]),\n",
      " ('Robyn', [1]),\n",
      " ('Dylan', [0]),\n",
      " ('Burl', [1]),\n",
      " ('Briney', [1]),\n",
      " ('Anya', [1]),\n",
      " ('Damien', [0]),\n",
      " ('Tiffany', [1]),\n",
      " ('Sander', [0]),\n",
      " ('Gideon', [0]),\n",
      " ('Teresita', [1]),\n",
      " ('Elmore', [0]),\n",
      " ('Milo', [0]),\n",
      " ('Meggan', [1]),\n",
      " ('Wade', [0]),\n",
      " ('Franky', [1]),\n",
      " ('Ritchie', [0]),\n",
      " ('Dottie', [1]),\n",
      " ('Allyn', [0]),\n",
      " ('Val', [1]),\n",
      " ('Angele', [1]),\n",
      " ('Della', [1]),\n",
      " ('Lynsey', [1]),\n",
      " ('Albrecht', [0]),\n",
      " ('Eva', [1]),\n",
      " ('Dunc', [0]),\n",
      " ('Marisa', [1]),\n",
      " ('Charley', [0]),\n",
      " ('Yancy', [0]),\n",
      " ('Mellie', [1]),\n",
      " ('Murdoch', [0]),\n",
      " ('Lilli', [1]),\n",
      " ('Goose', [0]),\n",
      " ('Millicent', [1]),\n",
      " ('Myriam', [1]),\n",
      " ('Alida', [1]),\n",
      " ('Ethyl', [1]),\n",
      " ('Adrien', [0]),\n",
      " ('Alyce', [1]),\n",
      " ('Madelyn', [1]),\n",
      " ('Michele', [1]),\n",
      " ('Geri', [1]),\n",
      " ('Konrad', [0]),\n",
      " ('Galen', [0]),\n",
      " ('Wendel', [0]),\n",
      " ('Wolfram', [0]),\n",
      " ('Jehu', [0]),\n",
      " ('Mead', [1]),\n",
      " ('Temple', [0]),\n",
      " ('Lindsy', [1]),\n",
      " ('Kalvin', [0]),\n",
      " ('Minnie', [1]),\n",
      " ('Alfie', [0]),\n",
      " ('Kaia', [1]),\n",
      " ('Baird', [0]),\n",
      " ('Jed', [0]),\n",
      " ('Adi', [0]),\n",
      " ('Spiro', [1]),\n",
      " ('Clovis', [0]),\n",
      " ('Manda', [1]),\n",
      " ('Dario', [0]),\n",
      " ('Vivian', [1]),\n",
      " ('Jorge', [0]),\n",
      " ('Neal', [0]),\n",
      " ('Minda', [1]),\n",
      " ('Velvet', [1]),\n",
      " ('Alberta', [0]),\n",
      " ('Dian', [1]),\n",
      " ('Antony', [0]),\n",
      " ('Jeni', [1]),\n",
      " ('Barney', [0]),\n",
      " ('Winfield', [0]),\n",
      " ('Jacky', [1]),\n",
      " ('Hendrick', [0]),\n",
      " ('Nonna', [1]),\n",
      " ('Amelie', [1]),\n",
      " ('Hayes', [0]),\n",
      " ('Leela', [1]),\n",
      " ('Jason', [0]),\n",
      " ('Grier', [1]),\n",
      " ('Rutledge', [0]),\n",
      " ('Marie-Jeanne', [1]),\n",
      " ('Francis', [0]),\n",
      " ('Trixie', [1]),\n",
      " ('Zena', [1]),\n",
      " ('Vera', [1]),\n",
      " ('Garp', [0]),\n",
      " ('Cristie', [1]),\n",
      " ('Phillis', [0]),\n",
      " ('Lela', [1]),\n",
      " ('Anna-Maria', [1]),\n",
      " ('Linnea', [1]),\n",
      " ('Ivette', [1]),\n",
      " ('Dirk', [0]),\n",
      " ('Chrystal', [1]),\n",
      " ('Homer', [0]),\n",
      " ('Corliss', [0]),\n",
      " ('Munroe', [1]),\n",
      " ('Georgina', [1]),\n",
      " ('Sascha', [0]),\n",
      " ('Diego', [0]),\n",
      " ('Allin', [0]),\n",
      " ('Howie', [0]),\n",
      " ('Noland', [0]),\n",
      " ('Selina', [1]),\n",
      " ('Minette', [1]),\n",
      " ('Polly', [1]),\n",
      " ('Arlette', [1]),\n",
      " ('Rowena', [1]),\n",
      " ('Shandy', [1]),\n",
      " ('Scarface', [0]),\n",
      " ('Belinda', [1]),\n",
      " ('Janus', [0]),\n",
      " ('Letitia', [1]),\n",
      " ('Armand', [0]),\n",
      " ('Madalyn', [1]),\n",
      " ('Rutter', [0]),\n",
      " ('Marybeth', [1]),\n",
      " ('Claudia', [1]),\n",
      " ('Poul', [0]),\n",
      " ('Fara', [1]),\n",
      " ('Gerome', [0]),\n",
      " ('Mackenzie', [0]),\n",
      " ('Andrea', [1]),\n",
      " ('Cornelius', [0]),\n",
      " ('Martina', [1]),\n",
      " ('Josef', [0]),\n",
      " ('Austin', [0]),\n",
      " ('Vinnie', [0]),\n",
      " ('Herby', [1]),\n",
      " ('Robina', [1]),\n",
      " ('Parsifal', [1]),\n",
      " ('Brana', [1]),\n",
      " ('Peri', [1]),\n",
      " ('Cobb', [0]),\n",
      " ('April', [1]),\n",
      " ('Crawford', [0]),\n",
      " ('Bear', [0]),\n",
      " ('Janina', [1]),\n",
      " ('Walton', [0]),\n",
      " ('Lona', [1]),\n",
      " ('Bubba', [0]),\n",
      " ('Edmund', [0]),\n",
      " ('Paula', [1]),\n",
      " ('Hamlin', [0]),\n",
      " ('Bari', [1]),\n",
      " ('Darien', [0]),\n",
      " ('Urban', [0]),\n",
      " ('Marten', [0]),\n",
      " ('Fionna', [1]),\n",
      " ('Meta', [0]),\n",
      " ('Emanuel', [0]),\n",
      " ('Silas', [0]),\n",
      " ('Irwin', [0]),\n",
      " ('Avie', [1]),\n",
      " ('Ingrid', [1]),\n",
      " ('Brandi', [1]),\n",
      " ('Butch', [1]),\n",
      " ('Carlie', [1]),\n",
      " ('Sayer', [0]),\n",
      " ('Kelsey', [1]),\n",
      " ('Deedee', [1]),\n",
      " ('Berrie', [1]),\n",
      " ('Randal', [0]),\n",
      " ('Jena', [1]),\n",
      " ('Gillan', [1]),\n",
      " ('Prescott', [0]),\n",
      " ('Nikkie', [1]),\n",
      " ('Madeline', [1]),\n",
      " ('Kennedy', [0]),\n",
      " ('Laetitia', [1]),\n",
      " ('Tally', [0]),\n",
      " ('Gaven', [0]),\n",
      " ('Christiane', [1]),\n",
      " ('Zorro', [0]),\n",
      " ('Hewitt', [0]),\n",
      " ('Nevin', [0]),\n",
      " ('Clem', [0]),\n",
      " ('Dora', [1]),\n",
      " ('Davie', [0]),\n",
      " ('Tiffani', [1]),\n",
      " ('Remy', [1]),\n",
      " ('Vitoria', [1]),\n",
      " ('Tessie', [1]),\n",
      " ('Wilbur', [0]),\n",
      " ('Clark', [0]),\n",
      " ('Darla', [1]),\n",
      " ('Pate', [0]),\n",
      " ('Ignatius', [0]),\n",
      " ('Shamus', [0]),\n",
      " ('Tracy', [0]),\n",
      " ('Anna-Diana', [1]),\n",
      " ('Faustina', [1]),\n",
      " ('Amelia', [1]),\n",
      " ('Rosa', [1]),\n",
      " ('Sheena', [1]),\n",
      " ('Susann', [1]),\n",
      " ('Emma', [1]),\n",
      " ('Fran', [1]),\n",
      " ('Stacia', [1]),\n",
      " ('Rosina', [1]),\n",
      " ('Aldis', [0]),\n",
      " ('Sena', [1]),\n",
      " ('Petunia', [1]),\n",
      " ('Trace', [0]),\n",
      " ('Valera', [0]),\n",
      " ('Lynette', [1]),\n",
      " ('Layton', [0]),\n",
      " ('Corky', [0]),\n",
      " ('Oran', [1]),\n",
      " ('Yule', [0]),\n",
      " ('Chaim', [0]),\n",
      " ('Dorothy', [1]),\n",
      " ('Gail', [1]),\n",
      " ('Jessica', [1]),\n",
      " ('Kelsey', [1]),\n",
      " ('Cam', [1]),\n",
      " ('Krystal', [1]),\n",
      " ('Ozzie', [0]),\n",
      " ('Carmen', [1]),\n",
      " ('Bret', [0]),\n",
      " ('Editha', [1]),\n",
      " ('Rudyard', [0]),\n",
      " ('Glad', [1]),\n",
      " ('Fayre', [1]),\n",
      " ('Nissa', [1]),\n",
      " ('Kimmi', [1]),\n",
      " ('Tamra', [1]),\n",
      " ('Gunther', [0]),\n",
      " ('Juergen', [1]),\n",
      " ('Katherine', [1]),\n",
      " ('Sammy', [0]),\n",
      " ('Barbee', [1]),\n",
      " ('Lindi', [1]),\n",
      " ('Torey', [0]),\n",
      " ('Shelton', [0]),\n",
      " ('Adore', [1]),\n",
      " ('Orton', [0]),\n",
      " ('Wylie', [0]),\n",
      " ('Ashlee', [1]),\n",
      " ('Alexi', [0]),\n",
      " ('Cristy', [1]),\n",
      " ('Tamera', [1]),\n",
      " ('Elvin', [0]),\n",
      " ('Michael', [0]),\n",
      " ('Ace', [0]),\n",
      " ('Dena', [1]),\n",
      " ('Barbi', [1]),\n",
      " ('Justina', [1]),\n",
      " ('Russ', [0]),\n",
      " ('Edgar', [0]),\n",
      " ('Dede', [1]),\n",
      " ('Lin', [1]),\n",
      " ('Dorian', [0]),\n",
      " ('Maxine', [1]),\n",
      " ('Weber', [0]),\n",
      " ('Farrah', [1]),\n",
      " ('Elaine', [1]),\n",
      " ('Pryce', [0]),\n",
      " ('Tate', [1]),\n",
      " ('Gonzales', [0]),\n",
      " ('Teddie', [1]),\n",
      " ('Elbert', [0]),\n",
      " ('Lucretia', [1]),\n",
      " ('Yuri', [1]),\n",
      " ('Becca', [1]),\n",
      " ('Levon', [0]),\n",
      " ('Raina', [1]),\n",
      " ('Rona', [1]),\n",
      " ('Bryant', [0]),\n",
      " ('Karine', [1]),\n",
      " ('Freddie', [0]),\n",
      " ('Hugo', [0]),\n",
      " ('Gordie', [0]),\n",
      " ('Misti', [1]),\n",
      " ('Jordon', [0]),\n",
      " ('Ludwig', [0]),\n",
      " ('Carolina', [0]),\n",
      " ('Smitty', [0]),\n",
      " ('Julia', [1]),\n",
      " ('Lian', [1]),\n",
      " ('Cindy', [1]),\n",
      " ('Ellyn', [1]),\n",
      " ('Andree', [1]),\n",
      " ('Elisabeth', [1]),\n",
      " ('Judie', [1]),\n",
      " ('Gianna', [1]),\n",
      " ('Angelia', [1]),\n",
      " ('Sutton', [0]),\n",
      " ('Gert', [0]),\n",
      " ('Tobias', [0]),\n",
      " ('Lia', [1]),\n",
      " ('Gerri', [1]),\n",
      " ('Maury', [0]),\n",
      " ('Pearl', [1]),\n",
      " ('Alecia', [1]),\n",
      " ('Adeline', [1]),\n",
      " ('Maren', [1]),\n",
      " ('Simon', [0]),\n",
      " ('Emile', [0]),\n",
      " ('Con', [1]),\n",
      " ('Robinson', [0]),\n",
      " ('Hillel', [0]),\n",
      " ('Clare', [1]),\n",
      " ('Lyle', [0]),\n",
      " ('Nesta', [0]),\n",
      " ('Melita', [1]),\n",
      " ('Caesar', [0]),\n",
      " ('Joe', [0]),\n",
      " ('Park', [0]),\n",
      " ('Sheela', [1]),\n",
      " ('Queenie', [1]),\n",
      " ('Joannes', [1]),\n",
      " ('Arnie', [0]),\n",
      " ('Lynde', [0]),\n",
      " ('Donny', [0]),\n",
      " ('Billie', [1]),\n",
      " ('Justine', [1]),\n",
      " ('Ricky', [0]),\n",
      " ('Lynn', [1]),\n",
      " ('Tonie', [1]),\n",
      " ('Shay', [1]),\n",
      " ('Craig', [0]),\n",
      " ('Heinrich', [0]),\n",
      " ('Edwin', [0]),\n",
      " ('Sturgis', [0]),\n",
      " ('Chelsie', [1]),\n",
      " ('Leandra', [1]),\n",
      " ('Ania', [1]),\n",
      " ('Giraud', [0]),\n",
      " ('Suzan', [1]),\n",
      " ('Rem', [0]),\n",
      " ('Barth', [0]),\n",
      " ('Dwayne', [0]),\n",
      " ('Yehudi', [1]),\n",
      " ('Laureen', [1]),\n",
      " ('Patrick', [0]),\n",
      " ('Darcy', [1]),\n",
      " ('Haily', [1]),\n",
      " ('Waleed', [0]),\n",
      " ('Joselyn', [1]),\n",
      " ('Gill', [0]),\n",
      " ('Osborne', [0]),\n",
      " ('Wynton', [0]),\n",
      " ('Corina', [1]),\n",
      " ('Renee', [1]),\n",
      " ('Kareem', [0]),\n",
      " ('George', [0]),\n",
      " ('Roxy', [1]),\n",
      " ('Mara', [1]),\n",
      " ('Reuven', [0]),\n",
      " ('Victoria', [1]),\n",
      " ('Justin', [0]),\n",
      " ('Muhammad', [0]),\n",
      " ('Lawerence', [0]),\n",
      " ('Bogdan', [0]),\n",
      " ('Tansy', [1]),\n",
      " ('Lind', [1]),\n",
      " ('Weston', [0]),\n",
      " ('Lucia', [1]),\n",
      " ('Abbey', [0]),\n",
      " ('Helen', [1]),\n",
      " ('Nickie', [1]),\n",
      " ('Hashim', [0]),\n",
      " ('Simeon', [0]),\n",
      " ('Patrica', [1]),\n",
      " ('Kim', [1]),\n",
      " ('Parker', [0]),\n",
      " ('Wit', [0]),\n",
      " ('Wesley', [0]),\n",
      " ('Rayna', [1]),\n",
      " ('Brynn', [1]),\n",
      " ('Reba', [1]),\n",
      " ('Somerset', [0]),\n",
      " ('Niven', [0]),\n",
      " ('Becki', [1]),\n",
      " ('Westley', [0]),\n",
      " ('Minerva', [1]),\n",
      " ('Waverley', [0]),\n",
      " ('Evita', [1]),\n",
      " ('Claire', [1]),\n",
      " ('Harmony', [1]),\n",
      " ('Cal', [0]),\n",
      " ('Vernon', [0]),\n",
      " ('Stacey', [1]),\n",
      " ('Parry', [0]),\n",
      " ('Dimitri', [0]),\n",
      " ('Sheffield', [0]),\n",
      " ('Terri', [1]),\n",
      " ('Sherline', [1]),\n",
      " ('Lane', [1]),\n",
      " ('Imelda', [1]),\n",
      " ('Britt', [1]),\n",
      " ('Rhonda', [1]),\n",
      " ('Emelia', [1]),\n",
      " ('Marline', [0]),\n",
      " ('Ewart', [0]),\n",
      " ('Filmore', [1]),\n",
      " ('Anatoly', [0]),\n",
      " ('Debby', [1]),\n",
      " ('Aziz', [0]),\n",
      " ('Chloe', [1]),\n",
      " ('Nilson', [0]),\n",
      " ('Effie', [1]),\n",
      " ('Cherri', [1]),\n",
      " ('Northrop', [0]),\n",
      " ('Selma', [1]),\n",
      " ('Iggy', [0]),\n",
      " ('Felice', [1]),\n",
      " ('Vanda', [1]),\n",
      " ('Anatole', [1]),\n",
      " ('Whitby', [0]),\n",
      " ('Dory', [0]),\n",
      " ('Baxter', [0]),\n",
      " ('Brita', [1]),\n",
      " ('Davey', [0]),\n",
      " ('Carmella', [1]),\n",
      " ('Fae', [1]),\n",
      " ('Geraldine', [1]),\n",
      " ('Vijay', [0]),\n",
      " ('Linnet', [1]),\n",
      " ('Fernandina', [1]),\n",
      " ('Clyde', [0]),\n",
      " ('Nikos', [0]),\n",
      " ('Lazaro', [1]),\n",
      " ('Nady', [0]),\n",
      " ('Reinhard', [0]),\n",
      " ('Kirsti', [1]),\n",
      " ('Donny', [0]),\n",
      " ('Morry', [0]),\n",
      " ('Caty', [1]),\n",
      " ('Laird', [0]),\n",
      " ('Dave', [0]),\n",
      " ('Griswold', [0]),\n",
      " ('Lila', [1]),\n",
      " ('Gustavo', [0]),\n",
      " ('Dannie', [1]),\n",
      " ('Page', [0]),\n",
      " ('Buck', [0]),\n",
      " ('Vania', [1]),\n",
      " ('Atlanta', [0]),\n",
      " ('Ferd', [0]),\n",
      " ('Ragnar', [0]),\n",
      " ('Melvin', [0]),\n",
      " ('Laurence', [0]),\n",
      " ('Nicola', [1]),\n",
      " ('Chase', [0]),\n",
      " ('Ilsa', [1]),\n",
      " ('Gretchen', [1]),\n",
      " ('Biff', [0]),\n",
      " ('Constantine', [0]),\n",
      " ('Alys', [1]),\n",
      " ('Alister', [0]),\n",
      " ('Lucy', [1]),\n",
      " ('Tabitha', [1]),\n",
      " ('Marylin', [1]),\n",
      " ('Denys', [1]),\n",
      " ('Bridget', [1]),\n",
      " ('Courtney', [1]),\n",
      " ('Worthington', [0]),\n",
      " ('Leon', [0]),\n",
      " ('Jacques', [0]),\n",
      " ('Phillie', [0]),\n",
      " ('Reece', [0]),\n",
      " ('Ripley', [0]),\n",
      " ('Johan', [0]),\n",
      " ('Chip', [0]),\n",
      " ('Ariel', [1]),\n",
      " ('Adlai', [0]),\n",
      " ('Skylar', [1]),\n",
      " ('Ware', [0]),\n",
      " ('Felicia', [1]),\n",
      " ('Leonardo', [0]),\n",
      " ('Wye', [0]),\n",
      " ('Selig', [0]),\n",
      " ('Lay', [0]),\n",
      " ('Muriel', [1]),\n",
      " ('Zeus', [0]),\n",
      " ('Kaylee', [1]),\n",
      " ('Alla', [1]),\n",
      " ('Chen', [1]),\n",
      " ('Monroe', [1]),\n",
      " ('Lorry', [0]),\n",
      " ('Malia', [1]),\n",
      " ('Muffin', [1]),\n",
      " ('Chevalier', [0]),\n",
      " ('Dita', [1]),\n",
      " ('Lorraine', [1]),\n",
      " ('Margarita', [1]),\n",
      " ('Penrod', [0]),\n",
      " ('Othello', [0]),\n",
      " ('Samara', [1]),\n",
      " ('Salem', [0]),\n",
      " ('Erich', [0]),\n",
      " ('Yoko', [1]),\n",
      " ('Puff', [1]),\n",
      " ('Nicol', [1]),\n",
      " ('Emmet', [0]),\n",
      " ('Stanley', [0]),\n",
      " ('Kiersten', [1]),\n",
      " ('Berna', [1]),\n",
      " ('Briggs', [0]),\n",
      " ('Del', [0]),\n",
      " ('Guido', [0]),\n",
      " ('Adrien', [0]),\n",
      " ('Roxanne', [1]),\n",
      " ('Elysee', [1]),\n",
      " ('Cordy', [1]),\n",
      " ('Cesar', [0]),\n",
      " ('Luci', [1]),\n",
      " ('Cayla', [1]),\n",
      " ('Norton', [0]),\n",
      " ('Manfred', [0])]\n"
     ]
    }
   ],
   "source": [
    "predictions = []\n",
    "\n",
    "for x_batch, _ in val_dataloader:\n",
    "    p_batch = infer_batch(f, x_batch, device).cpu().numpy().tolist()\n",
    "    predictions.extend(p_batch)\n",
    "  \n",
    "from pprint import pprint\n",
    "pprint(list(zip(names_val, predictions)))"
   ]
  },
  {
   "cell_type": "markdown",
   "metadata": {},
   "source": [
    "Very convincing! What are these word vectors and how are they helping our network predict baby genders?  🤔\n",
    "\n",
    "You will find out when you do the first assignment!"
   ]
  },
  {
   "cell_type": "markdown",
   "metadata": {},
   "source": [
    "---"
   ]
  }
 ],
 "metadata": {
  "kernelspec": {
   "display_name": "Python 3",
   "language": "python",
   "name": "python3"
  },
  "language_info": {
   "codemirror_mode": {
    "name": "ipython",
    "version": 3
   },
   "file_extension": ".py",
   "mimetype": "text/x-python",
   "name": "python",
   "nbconvert_exporter": "python",
   "pygments_lexer": "ipython3",
   "version": "3.7.1"
  }
 },
 "nbformat": 4,
 "nbformat_minor": 2
}
